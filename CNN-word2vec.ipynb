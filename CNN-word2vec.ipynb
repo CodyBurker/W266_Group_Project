{
  "cells": [
    {
      "cell_type": "markdown",
      "metadata": {
        "id": "view-in-github",
        "colab_type": "text"
      },
      "source": [
        "<a href=\"https://colab.research.google.com/github/CodyBurker/W266_Group_Project/blob/CodyCNNBase/CNN-word2vec.ipynb\" target=\"_parent\"><img src=\"https://colab.research.google.com/assets/colab-badge.svg\" alt=\"Open In Colab\"/></a>"
      ]
    },
    {
      "cell_type": "markdown",
      "id": "8c60a99a",
      "metadata": {
        "id": "8c60a99a"
      },
      "source": [
        "Based on: https://machinelearningmastery.com/develop-word-embedding-model-predicting-movie-review-sentiment/"
      ]
    },
    {
      "cell_type": "code",
      "execution_count": 60,
      "id": "d3d43e6b",
      "metadata": {
        "id": "d3d43e6b"
      },
      "outputs": [],
      "source": [
        "import pandas as pd\n",
        "import string\n",
        "from nltk.corpus import stopwords\n",
        "import nltk\n",
        "import numpy as np"
      ]
    },
    {
      "cell_type": "code",
      "source": [
        "!git clone https://github.com/CodyBurker/W266_Group_Project"
      ],
      "metadata": {
        "colab": {
          "base_uri": "https://localhost:8080/"
        },
        "id": "0LMKJsWAWDCN",
        "outputId": "c79d96e2-8b8b-4b41-cb68-6a1226e33e6f"
      },
      "id": "0LMKJsWAWDCN",
      "execution_count": 61,
      "outputs": [
        {
          "output_type": "stream",
          "name": "stdout",
          "text": [
            "fatal: destination path 'W266_Group_Project' already exists and is not an empty directory.\n"
          ]
        }
      ]
    },
    {
      "cell_type": "code",
      "execution_count": 62,
      "id": "4052af92",
      "metadata": {
        "id": "4052af92"
      },
      "outputs": [],
      "source": [
        "def read_in_data(path=\"W266_Group_Project/\"):\n",
        "    import pandas as pd\n",
        "    X_train = pd.read_csv(path + \"x_train_sampled_yelp_data.csv\")\n",
        "    y_train = pd.read_csv(path + \"y_train_sampled_yelp_data.csv\")\n",
        "    X_test = pd.read_csv(path + \"x_test_sampled_yelp_data.csv\")\n",
        "    y_test = pd.read_csv(path + \"y_test_sampled_yelp_data.csv\")\n",
        "    return X_train, X_test, y_train, y_test"
      ]
    },
    {
      "cell_type": "code",
      "execution_count": 63,
      "id": "6b7aac4d",
      "metadata": {
        "id": "6b7aac4d"
      },
      "outputs": [],
      "source": [
        "X_train, X_test, y_train, y_test = read_in_data()\n",
        "y_train = np.array(y_train.stars.astype('int')) - 1\n",
        "y_test = np.array(y_test.stars.astype('int')) - 1"
      ]
    },
    {
      "cell_type": "markdown",
      "source": [
        "https://towardsdev.com/sentiment-analysis-with-cnn-using-keras-c4debff57fc5?gi=708b4ef40e2f"
      ],
      "metadata": {
        "id": "ceOrQM3YXY7t"
      },
      "id": "ceOrQM3YXY7t"
    },
    {
      "cell_type": "markdown",
      "source": [
        "Encode text and pad it."
      ],
      "metadata": {
        "id": "YuZGKY5XY3VG"
      },
      "id": "YuZGKY5XY3VG"
    },
    {
      "cell_type": "code",
      "source": [
        ""
      ],
      "metadata": {
        "id": "1tvRcs5RtiyX"
      },
      "id": "1tvRcs5RtiyX",
      "execution_count": 63,
      "outputs": []
    },
    {
      "cell_type": "markdown",
      "source": [
        "Word2Vec: https://machinelearningknowledge.ai/word2vec-in-gensim-explained-for-creating-word-embedding-models-pretrained-and-custom/\n",
        "\n",
        "https://stackoverflow.com/questions/51492778/how-to-properly-use-get-keras-embedding-in-gensim-s-word2vec"
      ],
      "metadata": {
        "id": "soLNy3-ktjoi"
      },
      "id": "soLNy3-ktjoi"
    },
    {
      "cell_type": "code",
      "source": [
        "import gensim.downloader as api\n",
        "wv = api.load('word2vec-google-news-300')"
      ],
      "metadata": {
        "id": "3NwD8KzOtJ_f"
      },
      "id": "3NwD8KzOtJ_f",
      "execution_count": 67,
      "outputs": []
    },
    {
      "cell_type": "code",
      "source": [
        "wv_vocab ={word: vector.index for word, vector in wv.vocab.items()}"
      ],
      "metadata": {
        "id": "1ap6G30BZLTr"
      },
      "id": "1ap6G30BZLTr",
      "execution_count": 72,
      "outputs": []
    },
    {
      "cell_type": "code",
      "source": [
        "num_words = len(wv_vocab)"
      ],
      "metadata": {
        "id": "eQ-X-vN4fury"
      },
      "id": "eQ-X-vN4fury",
      "execution_count": 77,
      "outputs": []
    },
    {
      "cell_type": "code",
      "source": [
        "from keras_preprocessing.text import Tokenizer\n",
        "from keras_preprocessing.sequence import pad_sequences\n",
        "\n",
        "\n",
        "# Tokenizer(num_words=len(vocabulary)) tk.word_index = vocabulary tk.texts_to_sequences(samples)\n",
        "\n",
        "tokenizer = Tokenizer( vocabulary = wv_vocab, \n",
        "                      num_words=num_words\n",
        "                       )\n",
        "\n"
      ],
      "metadata": {
        "id": "5GbdV6xOX2WP"
      },
      "id": "5GbdV6xOX2WP",
      "execution_count": null,
      "outputs": []
    },
    {
      "cell_type": "code",
      "source": [
        "tokenizer.word_index = wv_vocab\n",
        "X_train['encoded'] = tokenizer.texts_to_sequences(X_train['text'])\n",
        "X_test['encoded'] = tokenizer.texts_to_sequences(X_test['text'])"
      ],
      "metadata": {
        "id": "ciuokwzXgBdF"
      },
      "id": "ciuokwzXgBdF",
      "execution_count": 84,
      "outputs": []
    },
    {
      "cell_type": "code",
      "source": [
        "import matplotlib.pyplot as plt\n",
        "plt.hist(X_train['encoded'].apply(len))"
      ],
      "metadata": {
        "id": "Lua8k2hqwuxA",
        "colab": {
          "base_uri": "https://localhost:8080/",
          "height": 334
        },
        "outputId": "63ea8593-d535-40d2-8ebd-d737a55176f5"
      },
      "id": "Lua8k2hqwuxA",
      "execution_count": 88,
      "outputs": [
        {
          "output_type": "execute_result",
          "data": {
            "text/plain": [
              "(array([47487., 21326.,  6824.,  2434.,   975.,   454.,   209.,   140.,\n",
              "           89.,    62.]),\n",
              " array([  0.,  88., 176., 264., 352., 440., 528., 616., 704., 792., 880.]),\n",
              " <a list of 10 Patch objects>)"
            ]
          },
          "metadata": {},
          "execution_count": 88
        },
        {
          "output_type": "display_data",
          "data": {
            "text/plain": [
              "<Figure size 432x288 with 1 Axes>"
            ],
            "image/png": "[encoded data removed]"
          },
          "metadata": {
            "needs_background": "light"
          }
        }
      ]
    },
    {
      "cell_type": "code",
      "source": [
        "# Hyper parameters to tune later: maxlen, padding\n",
        "sentence_len = 1024\n",
        "X_train_encoded =  pad_sequences(X_train['encoded'], maxlen=sentence_len, padding='post', truncating='post')\n",
        "X_test_encoded = pad_sequences(X_test['encoded'], maxlen=sentence_len, padding='post', truncating = 'post')\n",
        "print(X_train_encoded.shape)\n",
        "print(X_test_encoded.shape)"
      ],
      "metadata": {
        "id": "3kIdvlqjYs6u",
        "colab": {
          "base_uri": "https://localhost:8080/"
        },
        "outputId": "c012613d-5d95-4e70-fcb4-6335e746f351"
      },
      "id": "3kIdvlqjYs6u",
      "execution_count": 89,
      "outputs": [
        {
          "output_type": "stream",
          "name": "stdout",
          "text": [
            "(80000, 1024)\n",
            "(20000, 1024)\n"
          ]
        }
      ]
    },
    {
      "cell_type": "markdown",
      "source": [
        "Create model"
      ],
      "metadata": {
        "id": "uGdstENkcNaq"
      },
      "id": "uGdstENkcNaq"
    },
    {
      "cell_type": "markdown",
      "source": [
        "New Arcitecture: https://aclanthology.org/D14-1181.pdf"
      ],
      "metadata": {
        "id": "pxFqvPwdp9CY"
      },
      "id": "pxFqvPwdp9CY"
    },
    {
      "cell_type": "code",
      "source": [
        "from keras.layers.pooling import GlobalMaxPool1D\n",
        "from keras import Sequential\n",
        "from keras.layers import Dense, Embedding, Activation, Dropout\n",
        "from keras.layers import  MaxPool1D, GlobalMaxPool1D, Conv1D\n",
        "vocab_size = len(tokenizer.word_counts)\n",
        "# New model architecture\n",
        "model2 = Sequential()\n",
        "model2.add(wv.get_keras_embedding())\n",
        "model2.add(Conv1D(64,8,activation=\"relu\"))\n",
        "model2.add(GlobalMaxPool1D())\n",
        "model2.add(Dense(32, activation=\"relu\"))\n",
        "model2.add(Dropout(0.5))\n",
        "model2.add(Dense(5,activation='softmax'))\n",
        "# model2.add(Dense(1,activation='relu'))\n",
        "from keras.utils.vis_utils import plot_model\n",
        "model2.compile(optimizer='sgd', loss='sparse_categorical_crossentropy',metrics=['accuracy'])\n",
        "plot_model(model2,show_shapes=True)\n"
      ],
      "metadata": {
        "id": "Y17rx1U6j6eD",
        "colab": {
          "base_uri": "https://localhost:8080/",
          "height": 754
        },
        "outputId": "995d7141-9170-44ab-87ed-70c3b8489ae4"
      },
      "id": "Y17rx1U6j6eD",
      "execution_count": 90,
      "outputs": [
        {
          "output_type": "execute_result",
          "data": {
            "text/plain": [
              "<IPython.core.display.Image object>"
            ],
            "image/png": "[encoded data removed]"
          },
          "metadata": {},
          "execution_count": 90
        }
      ]
    },
    {
      "cell_type": "code",
      "source": [
        "from keras.callbacks import EarlyStopping\n",
        "from tqdm.keras import TqdmCallback\n",
        "callback = EarlyStopping(monitor='val_accuracy', patience=15)\n",
        "\n",
        "history = model2.fit(X_train_encoded,y_train,\n",
        "           epochs=150,\n",
        "           batch_size=128, \n",
        "           validation_data = [X_test_encoded, y_test],\n",
        "           callbacks = [TqdmCallback(verbose=0)],\n",
        "           verbose=0,)"
      ],
      "metadata": {
        "id": "N779vE4stPaK",
        "colab": {
          "base_uri": "https://localhost:8080/",
          "height": 132,
          "referenced_widgets": [
            "54236e21098348eb8e9cd6e317b570be",
            "dd057adb08f54de18caef60a858cb3d0",
            "3c0db4b24ee9414c8e9574779a1f1152",
            "bfbf8577ebe34cc19189f62912df86d2",
            "b02596e269834907921515a6c742171b",
            "521a6b720e2f42a48bc40648796f8e59",
            "17744a44ae804e7aaf4b660d4a13a01a",
            "2610707e33b341bc87f48154a0d43afa",
            "aa2b58e6cc404697b7f14c01516bc6f8",
            "148c2a0293ab4426a7dd16ea9459b433",
            "a1c8df71f0a24c2da0740ad61e15c5a1"
          ]
        },
        "outputId": "7f3867f6-10b4-4293-a8cd-b72d135d497a"
      },
      "id": "N779vE4stPaK",
      "execution_count": 91,
      "outputs": [
        {
          "output_type": "display_data",
          "data": {
            "text/plain": [
              "0epoch [00:00, ?epoch/s]"
            ],
            "application/vnd.jupyter.widget-view+json": {
              "version_major": 2,
              "version_minor": 0,
              "model_id": "54236e21098348eb8e9cd6e317b570be"
            }
          },
          "metadata": {}
        },
        {
          "output_type": "stream",
          "name": "stdout",
          "text": [
            "WARNING:tensorflow:Callback method `on_train_batch_end` is slow compared to the batch time (batch time: 0.0022s vs `on_train_batch_end` time: 0.0032s). Check your callbacks.\n"
          ]
        },
        {
          "output_type": "stream",
          "name": "stderr",
          "text": [
            "WARNING:tensorflow:Callback method `on_train_batch_end` is slow compared to the batch time (batch time: 0.0022s vs `on_train_batch_end` time: 0.0032s). Check your callbacks.\n"
          ]
        }
      ]
    },
    {
      "cell_type": "code",
      "source": [
        "import matplotlib.pyplot as plt\n",
        "plt.plot(history.history['accuracy'])\n",
        "plt.plot(history.history['val_accuracy'])\n",
        "plt.title('model accuracy')\n",
        "plt.ylabel('accuracy')\n",
        "plt.xlabel('epoch')\n",
        "plt.legend(['train', 'val'], loc='upper left')\n",
        "plt.show()"
      ],
      "metadata": {
        "id": "M3tO5zhd-HIo",
        "outputId": "a67fde11-82ec-4c9e-e7b4-461951403d5c",
        "colab": {
          "base_uri": "https://localhost:8080/",
          "height": 295
        }
      },
      "id": "M3tO5zhd-HIo",
      "execution_count": 92,
      "outputs": [
        {
          "output_type": "display_data",
          "data": {
            "text/plain": [
              "<Figure size 432x288 with 1 Axes>"
            ],
            "image/png": "[encoded data removed]"
          },
          "metadata": {
            "needs_background": "light"
          }
        }
      ]
    },
    {
      "cell_type": "code",
      "source": [
        "history.history['val_accuracy']"
      ],
      "metadata": {
        "id": "t8dHznWRitcL",
        "outputId": "da83ec93-547a-4ad2-c4e5-45d7c285effa",
        "colab": {
          "base_uri": "https://localhost:8080/"
        }
      },
      "id": "t8dHznWRitcL",
      "execution_count": 94,
      "outputs": [
        {
          "output_type": "execute_result",
          "data": {
            "text/plain": [
              "[0.44429999589920044,\n",
              " 0.47975000739097595,\n",
              " 0.5424500107765198,\n",
              " 0.5674499869346619,\n",
              " 0.5854499936103821,\n",
              " 0.5988500118255615,\n",
              " 0.609499990940094,\n",
              " 0.6190999746322632,\n",
              " 0.6276500225067139,\n",
              " 0.6327499747276306,\n",
              " 0.6356499791145325,\n",
              " 0.6386500000953674,\n",
              " 0.6431499719619751,\n",
              " 0.642549991607666,\n",
              " 0.6462000012397766,\n",
              " 0.647849977016449,\n",
              " 0.6492000222206116,\n",
              " 0.6498500108718872,\n",
              " 0.6528499722480774,\n",
              " 0.6517999768257141,\n",
              " 0.6547999978065491,\n",
              " 0.6534000039100647,\n",
              " 0.6542999744415283,\n",
              " 0.6567000150680542,\n",
              " 0.6571499705314636,\n",
              " 0.6563000082969666,\n",
              " 0.6575999855995178,\n",
              " 0.6581500172615051,\n",
              " 0.6582499742507935,\n",
              " 0.6567999720573425,\n",
              " 0.6589999794960022,\n",
              " 0.6567500233650208,\n",
              " 0.6578999757766724,\n",
              " 0.657800018787384,\n",
              " 0.656000018119812,\n",
              " 0.6553500294685364,\n",
              " 0.6569499969482422,\n",
              " 0.6546000242233276,\n",
              " 0.6553999781608582,\n",
              " 0.6532999873161316,\n",
              " 0.6546000242233276,\n",
              " 0.6517000198364258,\n",
              " 0.6517999768257141,\n",
              " 0.6483500003814697,\n",
              " 0.6499500274658203,\n",
              " 0.6464999914169312,\n",
              " 0.6491000056266785,\n",
              " 0.6480500102043152,\n",
              " 0.6399499773979187,\n",
              " 0.6455000042915344,\n",
              " 0.6428499817848206,\n",
              " 0.6398500204086304,\n",
              " 0.6304500102996826,\n",
              " 0.6366999745368958,\n",
              " 0.6423500180244446,\n",
              " 0.6212999820709229,\n",
              " 0.6353499889373779,\n",
              " 0.623199999332428,\n",
              " 0.609250009059906,\n",
              " 0.6373999714851379,\n",
              " 0.6189000010490417,\n",
              " 0.6340000033378601,\n",
              " 0.6365000009536743,\n",
              " 0.6269999742507935,\n",
              " 0.6345499753952026,\n",
              " 0.6363499760627747,\n",
              " 0.6003999710083008,\n",
              " 0.6126499772071838,\n",
              " 0.6281999945640564,\n",
              " 0.5922499895095825,\n",
              " 0.6255000233650208,\n",
              " 0.6057500243186951,\n",
              " 0.6327000260353088,\n",
              " 0.6162999868392944,\n",
              " 0.6333000063896179,\n",
              " 0.6302499771118164,\n",
              " 0.6246500015258789,\n",
              " 0.6253499984741211,\n",
              " 0.6322000026702881,\n",
              " 0.6031500101089478,\n",
              " 0.6195499897003174,\n",
              " 0.5790500044822693,\n",
              " 0.628000020980835,\n",
              " 0.6166499853134155,\n",
              " 0.6165500283241272,\n",
              " 0.616349995136261,\n",
              " 0.6215999722480774,\n",
              " 0.6179500222206116,\n",
              " 0.621749997138977,\n",
              " 0.6241499781608582,\n",
              " 0.6203500032424927,\n",
              " 0.6237000226974487,\n",
              " 0.6223999857902527,\n",
              " 0.6276000142097473,\n",
              " 0.6206499934196472,\n",
              " 0.6107500195503235,\n",
              " 0.6222500205039978,\n",
              " 0.6204500198364258,\n",
              " 0.5980499982833862,\n",
              " 0.6098499894142151,\n",
              " 0.623449981212616,\n",
              " 0.6146500110626221,\n",
              " 0.5978999733924866,\n",
              " 0.616100013256073,\n",
              " 0.6165000200271606,\n",
              " 0.6060500144958496,\n",
              " 0.6105999946594238,\n",
              " 0.6041499972343445,\n",
              " 0.6216999888420105,\n",
              " 0.6027500033378601,\n",
              " 0.614799976348877,\n",
              " 0.6262000203132629,\n",
              " 0.6168000102043152,\n",
              " 0.598550021648407,\n",
              " 0.6234999895095825,\n",
              " 0.6155499815940857,\n",
              " 0.6132500171661377,\n",
              " 0.5809000134468079,\n",
              " 0.5745000243186951,\n",
              " 0.6126499772071838,\n",
              " 0.609000027179718,\n",
              " 0.6119999885559082,\n",
              " 0.607450008392334,\n",
              " 0.5782999992370605,\n",
              " 0.614549994468689,\n",
              " 0.6096500158309937,\n",
              " 0.6015999913215637,\n",
              " 0.6126499772071838,\n",
              " 0.614300012588501,\n",
              " 0.6146000027656555,\n",
              " 0.6060000061988831,\n",
              " 0.6105999946594238,\n",
              " 0.6021000146865845,\n",
              " 0.6074000000953674,\n",
              " 0.6093000173568726,\n",
              " 0.6064500212669373,\n",
              " 0.6021999716758728,\n",
              " 0.6078500151634216,\n",
              " 0.6100999712944031,\n",
              " 0.6123999953269958,\n",
              " 0.6096500158309937,\n",
              " 0.598800003528595,\n",
              " 0.6122499704360962,\n",
              " 0.5990999937057495,\n",
              " 0.6025999784469604,\n",
              " 0.6078500151634216,\n",
              " 0.616599977016449,\n",
              " 0.605650007724762,\n",
              " 0.5859500169754028,\n",
              " 0.6053500175476074]"
            ]
          },
          "metadata": {},
          "execution_count": 94
        }
      ]
    },
    {
      "cell_type": "code",
      "source": [
        "# Generate confusion matrix on test set\n",
        "test_preds = model2.predict(X_test_encoded)\n",
        "test_preds_stars = test_preds.argmax(axis=1) + 1\n",
        "from sklearn.metrics import confusion_matrix\n",
        "cf = confusion_matrix(y_test + 1, test_preds_stars)\n",
        "import seaborn as sns\n",
        "sns.heatmap(cf)"
      ],
      "metadata": {
        "colab": {
          "base_uri": "https://localhost:8080/",
          "height": 282
        },
        "id": "fR02rcp-EPYk",
        "outputId": "b5e11516-998d-4bd0-a176-997b12970177"
      },
      "id": "fR02rcp-EPYk",
      "execution_count": 26,
      "outputs": [
        {
          "output_type": "execute_result",
          "data": {
            "text/plain": [
              "<matplotlib.axes._subplots.AxesSubplot at 0x7f5cfe358090>"
            ]
          },
          "metadata": {},
          "execution_count": 26
        },
        {
          "output_type": "display_data",
          "data": {
            "text/plain": [
              "<Figure size 432x288 with 2 Axes>"
            ],
            "image/png": "[encoded data removed]"
          },
          "metadata": {
            "needs_background": "light"
          }
        }
      ]
    }
  ],
  "metadata": {
    "kernelspec": {
      "display_name": "conda_tensorflow2_latest_p37",
      "language": "python",
      "name": "conda_tensorflow2_latest_p37"
    },
    "language_info": {
      "codemirror_mode": {
        "name": "ipython",
        "version": 3
      },
      "file_extension": ".py",
      "mimetype": "text/x-python",
      "name": "python",
      "nbconvert_exporter": "python",
      "pygments_lexer": "ipython3",
      "version": "3.7.10"
    },
    "colab": {
      "name": "CodyCNNAnalysis2.ipynb",
      "provenance": [],
      "background_execution": "on",
      "collapsed_sections": [],
      "include_colab_link": true
    },
    "accelerator": "GPU",
    "widgets": {
      "application/vnd.jupyter.widget-state+json": {
        "54236e21098348eb8e9cd6e317b570be": {
          "model_module": "@jupyter-widgets/controls",
          "model_name": "HBoxModel",
          "model_module_version": "1.5.0",
          "state": {
            "_dom_classes": [],
            "_model_module": "@jupyter-widgets/controls",
            "_model_module_version": "1.5.0",
            "_model_name": "HBoxModel",
            "_view_count": null,
            "_view_module": "@jupyter-widgets/controls",
            "_view_module_version": "1.5.0",
            "_view_name": "HBoxView",
            "box_style": "",
            "children": [
              "IPY_MODEL_dd057adb08f54de18caef60a858cb3d0",
              "IPY_MODEL_3c0db4b24ee9414c8e9574779a1f1152",
              "IPY_MODEL_bfbf8577ebe34cc19189f62912df86d2"
            ],
            "layout": "IPY_MODEL_b02596e269834907921515a6c742171b"
          }
        },
        "dd057adb08f54de18caef60a858cb3d0": {
          "model_module": "@jupyter-widgets/controls",
          "model_name": "HTMLModel",
          "model_module_version": "1.5.0",
          "state": {
            "_dom_classes": [],
            "_model_module": "@jupyter-widgets/controls",
            "_model_module_version": "1.5.0",
            "_model_name": "HTMLModel",
            "_view_count": null,
            "_view_module": "@jupyter-widgets/controls",
            "_view_module_version": "1.5.0",
            "_view_name": "HTMLView",
            "description": "",
            "description_tooltip": null,
            "layout": "IPY_MODEL_521a6b720e2f42a48bc40648796f8e59",
            "placeholder": "​",
            "style": "IPY_MODEL_17744a44ae804e7aaf4b660d4a13a01a",
            "value": "100%"
          }
        },
        "3c0db4b24ee9414c8e9574779a1f1152": {
          "model_module": "@jupyter-widgets/controls",
          "model_name": "FloatProgressModel",
          "model_module_version": "1.5.0",
          "state": {
            "_dom_classes": [],
            "_model_module": "@jupyter-widgets/controls",
            "_model_module_version": "1.5.0",
            "_model_name": "FloatProgressModel",
            "_view_count": null,
            "_view_module": "@jupyter-widgets/controls",
            "_view_module_version": "1.5.0",
            "_view_name": "ProgressView",
            "bar_style": "success",
            "description": "",
            "description_tooltip": null,
            "layout": "IPY_MODEL_2610707e33b341bc87f48154a0d43afa",
            "max": 150,
            "min": 0,
            "orientation": "horizontal",
            "style": "IPY_MODEL_aa2b58e6cc404697b7f14c01516bc6f8",
            "value": 150
          }
        },
        "bfbf8577ebe34cc19189f62912df86d2": {
          "model_module": "@jupyter-widgets/controls",
          "model_name": "HTMLModel",
          "model_module_version": "1.5.0",
          "state": {
            "_dom_classes": [],
            "_model_module": "@jupyter-widgets/controls",
            "_model_module_version": "1.5.0",
            "_model_name": "HTMLModel",
            "_view_count": null,
            "_view_module": "@jupyter-widgets/controls",
            "_view_module_version": "1.5.0",
            "_view_name": "HTMLView",
            "description": "",
            "description_tooltip": null,
            "layout": "IPY_MODEL_148c2a0293ab4426a7dd16ea9459b433",
            "placeholder": "​",
            "style": "IPY_MODEL_a1c8df71f0a24c2da0740ad61e15c5a1",
            "value": " 150/150 [09:43&lt;00:00,  3.88s/epoch, loss=0.107, accuracy=0.969, val_loss=2.61, val_accuracy=0.605]"
          }
        },
        "b02596e269834907921515a6c742171b": {
          "model_module": "@jupyter-widgets/base",
          "model_name": "LayoutModel",
          "model_module_version": "1.2.0",
          "state": {
            "_model_module": "@jupyter-widgets/base",
            "_model_module_version": "1.2.0",
            "_model_name": "LayoutModel",
            "_view_count": null,
            "_view_module": "@jupyter-widgets/base",
            "_view_module_version": "1.2.0",
            "_view_name": "LayoutView",
            "align_content": null,
            "align_items": null,
            "align_self": null,
            "border": null,
            "bottom": null,
            "display": null,
            "flex": null,
            "flex_flow": null,
            "grid_area": null,
            "grid_auto_columns": null,
            "grid_auto_flow": null,
            "grid_auto_rows": null,
            "grid_column": null,
            "grid_gap": null,
            "grid_row": null,
            "grid_template_areas": null,
            "grid_template_columns": null,
            "grid_template_rows": null,
            "height": null,
            "justify_content": null,
            "justify_items": null,
            "left": null,
            "margin": null,
            "max_height": null,
            "max_width": null,
            "min_height": null,
            "min_width": null,
            "object_fit": null,
            "object_position": null,
            "order": null,
            "overflow": null,
            "overflow_x": null,
            "overflow_y": null,
            "padding": null,
            "right": null,
            "top": null,
            "visibility": null,
            "width": null
          }
        },
        "521a6b720e2f42a48bc40648796f8e59": {
          "model_module": "@jupyter-widgets/base",
          "model_name": "LayoutModel",
          "model_module_version": "1.2.0",
          "state": {
            "_model_module": "@jupyter-widgets/base",
            "_model_module_version": "1.2.0",
            "_model_name": "LayoutModel",
            "_view_count": null,
            "_view_module": "@jupyter-widgets/base",
            "_view_module_version": "1.2.0",
            "_view_name": "LayoutView",
            "align_content": null,
            "align_items": null,
            "align_self": null,
            "border": null,
            "bottom": null,
            "display": null,
            "flex": null,
            "flex_flow": null,
            "grid_area": null,
            "grid_auto_columns": null,
            "grid_auto_flow": null,
            "grid_auto_rows": null,
            "grid_column": null,
            "grid_gap": null,
            "grid_row": null,
            "grid_template_areas": null,
            "grid_template_columns": null,
            "grid_template_rows": null,
            "height": null,
            "justify_content": null,
            "justify_items": null,
            "left": null,
            "margin": null,
            "max_height": null,
            "max_width": null,
            "min_height": null,
            "min_width": null,
            "object_fit": null,
            "object_position": null,
            "order": null,
            "overflow": null,
            "overflow_x": null,
            "overflow_y": null,
            "padding": null,
            "right": null,
            "top": null,
            "visibility": null,
            "width": null
          }
        },
        "17744a44ae804e7aaf4b660d4a13a01a": {
          "model_module": "@jupyter-widgets/controls",
          "model_name": "DescriptionStyleModel",
          "model_module_version": "1.5.0",
          "state": {
            "_model_module": "@jupyter-widgets/controls",
            "_model_module_version": "1.5.0",
            "_model_name": "DescriptionStyleModel",
            "_view_count": null,
            "_view_module": "@jupyter-widgets/base",
            "_view_module_version": "1.2.0",
            "_view_name": "StyleView",
            "description_width": ""
          }
        },
        "2610707e33b341bc87f48154a0d43afa": {
          "model_module": "@jupyter-widgets/base",
          "model_name": "LayoutModel",
          "model_module_version": "1.2.0",
          "state": {
            "_model_module": "@jupyter-widgets/base",
            "_model_module_version": "1.2.0",
            "_model_name": "LayoutModel",
            "_view_count": null,
            "_view_module": "@jupyter-widgets/base",
            "_view_module_version": "1.2.0",
            "_view_name": "LayoutView",
            "align_content": null,
            "align_items": null,
            "align_self": null,
            "border": null,
            "bottom": null,
            "display": null,
            "flex": null,
            "flex_flow": null,
            "grid_area": null,
            "grid_auto_columns": null,
            "grid_auto_flow": null,
            "grid_auto_rows": null,
            "grid_column": null,
            "grid_gap": null,
            "grid_row": null,
            "grid_template_areas": null,
            "grid_template_columns": null,
            "grid_template_rows": null,
            "height": null,
            "justify_content": null,
            "justify_items": null,
            "left": null,
            "margin": null,
            "max_height": null,
            "max_width": null,
            "min_height": null,
            "min_width": null,
            "object_fit": null,
            "object_position": null,
            "order": null,
            "overflow": null,
            "overflow_x": null,
            "overflow_y": null,
            "padding": null,
            "right": null,
            "top": null,
            "visibility": null,
            "width": null
          }
        },
        "aa2b58e6cc404697b7f14c01516bc6f8": {
          "model_module": "@jupyter-widgets/controls",
          "model_name": "ProgressStyleModel",
          "model_module_version": "1.5.0",
          "state": {
            "_model_module": "@jupyter-widgets/controls",
            "_model_module_version": "1.5.0",
            "_model_name": "ProgressStyleModel",
            "_view_count": null,
            "_view_module": "@jupyter-widgets/base",
            "_view_module_version": "1.2.0",
            "_view_name": "StyleView",
            "bar_color": null,
            "description_width": ""
          }
        },
        "148c2a0293ab4426a7dd16ea9459b433": {
          "model_module": "@jupyter-widgets/base",
          "model_name": "LayoutModel",
          "model_module_version": "1.2.0",
          "state": {
            "_model_module": "@jupyter-widgets/base",
            "_model_module_version": "1.2.0",
            "_model_name": "LayoutModel",
            "_view_count": null,
            "_view_module": "@jupyter-widgets/base",
            "_view_module_version": "1.2.0",
            "_view_name": "LayoutView",
            "align_content": null,
            "align_items": null,
            "align_self": null,
            "border": null,
            "bottom": null,
            "display": null,
            "flex": null,
            "flex_flow": null,
            "grid_area": null,
            "grid_auto_columns": null,
            "grid_auto_flow": null,
            "grid_auto_rows": null,
            "grid_column": null,
            "grid_gap": null,
            "grid_row": null,
            "grid_template_areas": null,
            "grid_template_columns": null,
            "grid_template_rows": null,
            "height": null,
            "justify_content": null,
            "justify_items": null,
            "left": null,
            "margin": null,
            "max_height": null,
            "max_width": null,
            "min_height": null,
            "min_width": null,
            "object_fit": null,
            "object_position": null,
            "order": null,
            "overflow": null,
            "overflow_x": null,
            "overflow_y": null,
            "padding": null,
            "right": null,
            "top": null,
            "visibility": null,
            "width": null
          }
        },
        "a1c8df71f0a24c2da0740ad61e15c5a1": {
          "model_module": "@jupyter-widgets/controls",
          "model_name": "DescriptionStyleModel",
          "model_module_version": "1.5.0",
          "state": {
            "_model_module": "@jupyter-widgets/controls",
            "_model_module_version": "1.5.0",
            "_model_name": "DescriptionStyleModel",
            "_view_count": null,
            "_view_module": "@jupyter-widgets/base",
            "_view_module_version": "1.2.0",
            "_view_name": "StyleView",
            "description_width": ""
          }
        }
      }
    }
  },
  "nbformat": 4,
  "nbformat_minor": 5
}