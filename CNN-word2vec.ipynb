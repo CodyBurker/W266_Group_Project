{
  "cells": [
    {
      "cell_type": "markdown",
      "metadata": {
        "id": "view-in-github",
        "colab_type": "text"
      },
      "source": [
        "<a href=\"https://colab.research.google.com/github/CodyBurker/W266_Group_Project/blob/CodyCNNBase/CNN-word2vec.ipynb\" target=\"_parent\"><img src=\"https://colab.research.google.com/assets/colab-badge.svg\" alt=\"Open In Colab\"/></a>"
      ]
    },
    {
      "cell_type": "markdown",
      "id": "8c60a99a",
      "metadata": {
        "id": "8c60a99a"
      },
      "source": [
        "Based on: https://machinelearningmastery.com/develop-word-embedding-model-predicting-movie-review-sentiment/"
      ]
    },
    {
      "cell_type": "code",
      "execution_count": 1,
      "id": "d3d43e6b",
      "metadata": {
        "id": "d3d43e6b"
      },
      "outputs": [],
      "source": [
        "import pandas as pd\n",
        "import string\n",
        "from nltk.corpus import stopwords\n",
        "import nltk\n",
        "import numpy as np"
      ]
    },
    {
      "cell_type": "code",
      "source": [
        "!git clone https://github.com/CodyBurker/W266_Group_Project"
      ],
      "metadata": {
        "colab": {
          "base_uri": "https://localhost:8080/"
        },
        "id": "0LMKJsWAWDCN",
        "outputId": "c37bda15-9d68-4fe9-f39d-f3a630ae7545"
      },
      "id": "0LMKJsWAWDCN",
      "execution_count": 2,
      "outputs": [
        {
          "output_type": "stream",
          "name": "stdout",
          "text": [
            "Cloning into 'W266_Group_Project'...\n",
            "remote: Enumerating objects: 99, done.\u001b[K\n",
            "remote: Counting objects: 100% (99/99), done.\u001b[K\n",
            "remote: Compressing objects: 100% (89/89), done.\u001b[K\n",
            "remote: Total 99 (delta 38), reused 32 (delta 5), pack-reused 0\u001b[K\n",
            "Unpacking objects: 100% (99/99), done.\n",
            "Checking out files: 100% (14/14), done.\n"
          ]
        }
      ]
    },
    {
      "cell_type": "code",
      "execution_count": 5,
      "id": "4052af92",
      "metadata": {
        "id": "4052af92"
      },
      "outputs": [],
      "source": [
        "def read_in_data(path=\"W266_Group_Project/\"):\n",
        "    import pandas as pd\n",
        "    X_train = pd.read_csv(path + \"x_train_sampled_yelp_data.csv\")\n",
        "    y_train = pd.read_csv(path + \"y_train_sampled_yelp_data.csv\")\n",
        "    X_test = pd.read_csv(path + \"x_test_sampled_yelp_data.csv\")\n",
        "    y_test = pd.read_csv(path + \"y_test_sampled_yelp_data.csv\")\n",
        "    return X_train, X_test, y_train, y_test"
      ]
    },
    {
      "cell_type": "code",
      "execution_count": 6,
      "id": "6b7aac4d",
      "metadata": {
        "id": "6b7aac4d"
      },
      "outputs": [],
      "source": [
        "X_train, X_test, y_train, y_test = read_in_data()\n",
        "y_train = np.array(y_train.stars.astype('int')) - 1\n",
        "y_test = np.array(y_test.stars.astype('int')) - 1"
      ]
    },
    {
      "cell_type": "markdown",
      "source": [
        "https://towardsdev.com/sentiment-analysis-with-cnn-using-keras-c4debff57fc5?gi=708b4ef40e2f"
      ],
      "metadata": {
        "id": "ceOrQM3YXY7t"
      },
      "id": "ceOrQM3YXY7t"
    },
    {
      "cell_type": "markdown",
      "source": [
        "Encode text and pad it."
      ],
      "metadata": {
        "id": "YuZGKY5XY3VG"
      },
      "id": "YuZGKY5XY3VG"
    },
    {
      "cell_type": "code",
      "source": [
        ""
      ],
      "metadata": {
        "id": "1tvRcs5RtiyX"
      },
      "id": "1tvRcs5RtiyX",
      "execution_count": null,
      "outputs": []
    },
    {
      "cell_type": "markdown",
      "source": [
        "Word2Vec: https://machinelearningknowledge.ai/word2vec-in-gensim-explained-for-creating-word-embedding-models-pretrained-and-custom/"
      ],
      "metadata": {
        "id": "soLNy3-ktjoi"
      },
      "id": "soLNy3-ktjoi"
    },
    {
      "cell_type": "code",
      "source": [
        "# from gensim.models import Word2Vec,KeyedVectors"
      ],
      "metadata": {
        "id": "3NwD8KzOtJ_f"
      },
      "id": "3NwD8KzOtJ_f",
      "execution_count": 11,
      "outputs": []
    },
    {
      "cell_type": "code",
      "source": [
        "from keras_preprocessing.text import Tokenizer\n",
        "from keras_preprocessing.sequence import pad_sequences"
      ],
      "metadata": {
        "id": "o90nvLmLXs_Q"
      },
      "id": "o90nvLmLXs_Q",
      "execution_count": 8,
      "outputs": []
    },
    {
      "cell_type": "code",
      "source": [
        "tokenizer = Tokenizer()\n",
        "tokenizer.fit_on_texts(X_train['text'])\n"
      ],
      "metadata": {
        "id": "IQa1fPakXyT0"
      },
      "id": "IQa1fPakXyT0",
      "execution_count": 9,
      "outputs": []
    },
    {
      "cell_type": "code",
      "source": [
        "X_train['encoded'] = tokenizer.texts_to_sequences(X_train['text'])\n",
        "X_test['encoded'] = tokenizer.texts_to_sequences(X_test['text'])"
      ],
      "metadata": {
        "id": "5GbdV6xOX2WP"
      },
      "id": "5GbdV6xOX2WP",
      "execution_count": 10,
      "outputs": []
    },
    {
      "cell_type": "code",
      "source": [
        "import matplotlib.pyplot as plt\n",
        "plt.hist(X_train['encoded'].apply(len))"
      ],
      "metadata": {
        "id": "Lua8k2hqwuxA",
        "colab": {
          "base_uri": "https://localhost:8080/",
          "height": 355
        },
        "outputId": "3b55f1e4-999d-4ef2-ae70-9fdc9eaf437f"
      },
      "id": "Lua8k2hqwuxA",
      "execution_count": 15,
      "outputs": [
        {
          "output_type": "execute_result",
          "data": {
            "text/plain": [
              "(array([47936., 21142.,  6699.,  2360.,   947.,   441.,   202.,   134.,\n",
              "           90.,    49.]),\n",
              " array([   0.,  101.,  202.,  303.,  404.,  505.,  606.,  707.,  808.,\n",
              "         909., 1010.]),\n",
              " <a list of 10 Patch objects>)"
            ]
          },
          "metadata": {},
          "execution_count": 15
        },
        {
          "output_type": "display_data",
          "data": {
            "text/plain": [
              "<Figure size 432x288 with 1 Axes>"
            ],
            "image/png": "[encoded data removed]"
          },
          "metadata": {
            "needs_background": "light"
          }
        }
      ]
    },
    {
      "cell_type": "code",
      "source": [
        "# Hyper parameters to tune later: maxlen, padding\n",
        "sentence_len = 1024\n",
        "X_train_encoded =  pad_sequences(X_train['encoded'], maxlen=sentence_len, padding='post', truncating='post')\n",
        "X_test_encoded = pad_sequences(X_test['encoded'], maxlen=sentence_len, padding='post', truncating = 'post')\n",
        "print(X_train_encoded.shape)\n",
        "print(X_test_encoded.shape)"
      ],
      "metadata": {
        "id": "3kIdvlqjYs6u",
        "colab": {
          "base_uri": "https://localhost:8080/"
        },
        "outputId": "531e269f-8632-4049-fead-4a8beb674603"
      },
      "id": "3kIdvlqjYs6u",
      "execution_count": 22,
      "outputs": [
        {
          "output_type": "stream",
          "name": "stdout",
          "text": [
            "(80000, 1024)\n",
            "(20000, 1024)\n"
          ]
        }
      ]
    },
    {
      "cell_type": "markdown",
      "source": [
        "Create model"
      ],
      "metadata": {
        "id": "uGdstENkcNaq"
      },
      "id": "uGdstENkcNaq"
    },
    {
      "cell_type": "markdown",
      "source": [
        "New Arcitecture: https://aclanthology.org/D14-1181.pdf"
      ],
      "metadata": {
        "id": "pxFqvPwdp9CY"
      },
      "id": "pxFqvPwdp9CY"
    },
    {
      "cell_type": "code",
      "source": [
        "from keras.layers.pooling import GlobalMaxPool1D\n",
        "from keras import Sequential\n",
        "from keras.layers import Dense, Embedding, Activation, Dropout\n",
        "from keras.layers import  MaxPool1D, GlobalMaxPool1D, Conv1D\n",
        "vocab_size = len(tokenizer.word_counts)\n",
        "# New model architecture\n",
        "model2 = Sequential()\n",
        "model2.add(Embedding(vocab_size,10, input_length = sentence_len))\n",
        "model2.add(Conv1D(64,8,activation=\"relu\"))\n",
        "model2.add(GlobalMaxPool1D())\n",
        "model2.add(Dense(32, activation=\"relu\"))\n",
        "model2.add(Dropout(0.5))\n",
        "model2.add(Dense(5,activation='softmax'))\n",
        "# model2.add(Dense(1,activation='relu'))\n",
        "from keras.utils.vis_utils import plot_model\n",
        "model2.compile(optimizer='sgd', loss='sparse_categorical_crossentropy',metrics=['accuracy'])\n",
        "plot_model(model2,show_shapes=True)\n"
      ],
      "metadata": {
        "id": "Y17rx1U6j6eD",
        "colab": {
          "base_uri": "https://localhost:8080/",
          "height": 754
        },
        "outputId": "d5dab656-9c42-4ab0-976c-89c5fdd6c17e"
      },
      "id": "Y17rx1U6j6eD",
      "execution_count": 23,
      "outputs": [
        {
          "output_type": "execute_result",
          "data": {
            "text/plain": [
              "<IPython.core.display.Image object>"
            ],
            "image/png": "[encoded data removed]"
          },
          "metadata": {},
          "execution_count": 23
        }
      ]
    },
    {
      "cell_type": "code",
      "source": [
        "from keras.callbacks import EarlyStopping\n",
        "from tqdm.keras import TqdmCallback\n",
        "callback = EarlyStopping(monitor='val_accuracy', patience=15)\n",
        "\n",
        "history = model2.fit(X_train_encoded,y_train,\n",
        "           epochs=150,\n",
        "           batch_size=128, \n",
        "           validation_data = [X_test_encoded, y_test],\n",
        "           callbacks = [TqdmCallback(verbose=0)],\n",
        "           verbose=0,)"
      ],
      "metadata": {
        "id": "N779vE4stPaK",
        "colab": {
          "base_uri": "https://localhost:8080/",
          "height": 77,
          "referenced_widgets": [
            "e2aac475cfbf4828b3a35182c8474bfd",
            "20f7cb9b562d4a4cbc57996c92790b05",
            "b376a19c4d92422386ba24702e6f7f3a",
            "8459e6db2ffe48cbb742bb114dc39d20",
            "101b205dd2c04d8bbbdc63219b392b84",
            "5ffe5491fc8a41ba9922e3eb0f6b168c",
            "68b2133072fa4e489c6e84763c45b053",
            "9643567502f444728717ef4914f32ba7",
            "f2d8cb6fade440a88e6116eac147e8b7",
            "4698ccf14d374aadbecb9797338abd15",
            "fb58247564ad479bae3522c676f4a63a"
          ]
        },
        "outputId": "fd451743-5d3a-4121-ace1-ed4932c3ee51"
      },
      "id": "N779vE4stPaK",
      "execution_count": 24,
      "outputs": [
        {
          "output_type": "display_data",
          "data": {
            "text/plain": [
              "0epoch [00:00, ?epoch/s]"
            ],
            "application/vnd.jupyter.widget-view+json": {
              "version_major": 2,
              "version_minor": 0,
              "model_id": "e2aac475cfbf4828b3a35182c8474bfd"
            }
          },
          "metadata": {}
        }
      ]
    },
    {
      "cell_type": "code",
      "source": [
        "import matplotlib.pyplot as plt\n",
        "plt.plot(history.history['accuracy'])\n",
        "plt.plot(history.history['val_accuracy'])\n",
        "plt.title('model accuracy')\n",
        "plt.ylabel('accuracy')\n",
        "plt.xlabel('epoch')\n",
        "plt.legend(['train', 'val'], loc='upper left')\n",
        "plt.show()"
      ],
      "metadata": {
        "id": "M3tO5zhd-HIo",
        "outputId": "56584a76-d89b-4761-cdd4-1bea50d58f27",
        "colab": {
          "base_uri": "https://localhost:8080/",
          "height": 295
        }
      },
      "id": "M3tO5zhd-HIo",
      "execution_count": 25,
      "outputs": [
        {
          "output_type": "display_data",
          "data": {
            "text/plain": [
              "<Figure size 432x288 with 1 Axes>"
            ],
            "image/png": "[encoded data removed]"
          },
          "metadata": {
            "needs_background": "light"
          }
        }
      ]
    },
    {
      "cell_type": "code",
      "source": [
        "# Generate confusion matrix on test set\n",
        "test_preds = model2.predict(X_test_encoded)\n",
        "test_preds_stars = test_preds.argmax(axis=1) + 1\n",
        "from sklearn.metrics import confusion_matrix\n",
        "cf = confusion_matrix(y_test + 1, test_preds_stars)\n",
        "import seaborn as sns\n",
        "sns.heatmap(cf)"
      ],
      "metadata": {
        "colab": {
          "base_uri": "https://localhost:8080/",
          "height": 282
        },
        "id": "fR02rcp-EPYk",
        "outputId": "b5e11516-998d-4bd0-a176-997b12970177"
      },
      "id": "fR02rcp-EPYk",
      "execution_count": 26,
      "outputs": [
        {
          "output_type": "execute_result",
          "data": {
            "text/plain": [
              "<matplotlib.axes._subplots.AxesSubplot at 0x7f5cfe358090>"
            ]
          },
          "metadata": {},
          "execution_count": 26
        },
        {
          "output_type": "display_data",
          "data": {
            "text/plain": [
              "<Figure size 432x288 with 2 Axes>"
            ],
            "image/png": "[encoded data removed]"
          },
          "metadata": {
            "needs_background": "light"
          }
        }
      ]
    }
  ],
  "metadata": {
    "kernelspec": {
      "display_name": "conda_tensorflow2_latest_p37",
      "language": "python",
      "name": "conda_tensorflow2_latest_p37"
    },
    "language_info": {
      "codemirror_mode": {
        "name": "ipython",
        "version": 3
      },
      "file_extension": ".py",
      "mimetype": "text/x-python",
      "name": "python",
      "nbconvert_exporter": "python",
      "pygments_lexer": "ipython3",
      "version": "3.7.10"
    },
    "colab": {
      "name": "CodyCNNAnalysis2.ipynb",
      "provenance": [],
      "background_execution": "on",
      "collapsed_sections": [],
      "include_colab_link": true
    },
    "accelerator": "GPU",
    "widgets": {
      "application/vnd.jupyter.widget-state+json": {
        "e2aac475cfbf4828b3a35182c8474bfd": {
          "model_module": "@jupyter-widgets/controls",
          "model_name": "HBoxModel",
          "model_module_version": "1.5.0",
          "state": {
            "_dom_classes": [],
            "_model_module": "@jupyter-widgets/controls",
            "_model_module_version": "1.5.0",
            "_model_name": "HBoxModel",
            "_view_count": null,
            "_view_module": "@jupyter-widgets/controls",
            "_view_module_version": "1.5.0",
            "_view_name": "HBoxView",
            "box_style": "",
            "children": [
              "IPY_MODEL_20f7cb9b562d4a4cbc57996c92790b05",
              "IPY_MODEL_b376a19c4d92422386ba24702e6f7f3a",
              "IPY_MODEL_8459e6db2ffe48cbb742bb114dc39d20"
            ],
            "layout": "IPY_MODEL_101b205dd2c04d8bbbdc63219b392b84"
          }
        },
        "20f7cb9b562d4a4cbc57996c92790b05": {
          "model_module": "@jupyter-widgets/controls",
          "model_name": "HTMLModel",
          "model_module_version": "1.5.0",
          "state": {
            "_dom_classes": [],
            "_model_module": "@jupyter-widgets/controls",
            "_model_module_version": "1.5.0",
            "_model_name": "HTMLModel",
            "_view_count": null,
            "_view_module": "@jupyter-widgets/controls",
            "_view_module_version": "1.5.0",
            "_view_name": "HTMLView",
            "description": "",
            "description_tooltip": null,
            "layout": "IPY_MODEL_5ffe5491fc8a41ba9922e3eb0f6b168c",
            "placeholder": "​",
            "style": "IPY_MODEL_68b2133072fa4e489c6e84763c45b053",
            "value": "100%"
          }
        },
        "b376a19c4d92422386ba24702e6f7f3a": {
          "model_module": "@jupyter-widgets/controls",
          "model_name": "FloatProgressModel",
          "model_module_version": "1.5.0",
          "state": {
            "_dom_classes": [],
            "_model_module": "@jupyter-widgets/controls",
            "_model_module_version": "1.5.0",
            "_model_name": "FloatProgressModel",
            "_view_count": null,
            "_view_module": "@jupyter-widgets/controls",
            "_view_module_version": "1.5.0",
            "_view_name": "ProgressView",
            "bar_style": "success",
            "description": "",
            "description_tooltip": null,
            "layout": "IPY_MODEL_9643567502f444728717ef4914f32ba7",
            "max": 150,
            "min": 0,
            "orientation": "horizontal",
            "style": "IPY_MODEL_f2d8cb6fade440a88e6116eac147e8b7",
            "value": 150
          }
        },
        "8459e6db2ffe48cbb742bb114dc39d20": {
          "model_module": "@jupyter-widgets/controls",
          "model_name": "HTMLModel",
          "model_module_version": "1.5.0",
          "state": {
            "_dom_classes": [],
            "_model_module": "@jupyter-widgets/controls",
            "_model_module_version": "1.5.0",
            "_model_name": "HTMLModel",
            "_view_count": null,
            "_view_module": "@jupyter-widgets/controls",
            "_view_module_version": "1.5.0",
            "_view_name": "HTMLView",
            "description": "",
            "description_tooltip": null,
            "layout": "IPY_MODEL_4698ccf14d374aadbecb9797338abd15",
            "placeholder": "​",
            "style": "IPY_MODEL_fb58247564ad479bae3522c676f4a63a",
            "value": " 150/150 [06:55&lt;00:00,  2.77s/epoch, loss=0.67, accuracy=0.722, val_loss=0.811, val_accuracy=0.67]"
          }
        },
        "101b205dd2c04d8bbbdc63219b392b84": {
          "model_module": "@jupyter-widgets/base",
          "model_name": "LayoutModel",
          "model_module_version": "1.2.0",
          "state": {
            "_model_module": "@jupyter-widgets/base",
            "_model_module_version": "1.2.0",
            "_model_name": "LayoutModel",
            "_view_count": null,
            "_view_module": "@jupyter-widgets/base",
            "_view_module_version": "1.2.0",
            "_view_name": "LayoutView",
            "align_content": null,
            "align_items": null,
            "align_self": null,
            "border": null,
            "bottom": null,
            "display": null,
            "flex": null,
            "flex_flow": null,
            "grid_area": null,
            "grid_auto_columns": null,
            "grid_auto_flow": null,
            "grid_auto_rows": null,
            "grid_column": null,
            "grid_gap": null,
            "grid_row": null,
            "grid_template_areas": null,
            "grid_template_columns": null,
            "grid_template_rows": null,
            "height": null,
            "justify_content": null,
            "justify_items": null,
            "left": null,
            "margin": null,
            "max_height": null,
            "max_width": null,
            "min_height": null,
            "min_width": null,
            "object_fit": null,
            "object_position": null,
            "order": null,
            "overflow": null,
            "overflow_x": null,
            "overflow_y": null,
            "padding": null,
            "right": null,
            "top": null,
            "visibility": null,
            "width": null
          }
        },
        "5ffe5491fc8a41ba9922e3eb0f6b168c": {
          "model_module": "@jupyter-widgets/base",
          "model_name": "LayoutModel",
          "model_module_version": "1.2.0",
          "state": {
            "_model_module": "@jupyter-widgets/base",
            "_model_module_version": "1.2.0",
            "_model_name": "LayoutModel",
            "_view_count": null,
            "_view_module": "@jupyter-widgets/base",
            "_view_module_version": "1.2.0",
            "_view_name": "LayoutView",
            "align_content": null,
            "align_items": null,
            "align_self": null,
            "border": null,
            "bottom": null,
            "display": null,
            "flex": null,
            "flex_flow": null,
            "grid_area": null,
            "grid_auto_columns": null,
            "grid_auto_flow": null,
            "grid_auto_rows": null,
            "grid_column": null,
            "grid_gap": null,
            "grid_row": null,
            "grid_template_areas": null,
            "grid_template_columns": null,
            "grid_template_rows": null,
            "height": null,
            "justify_content": null,
            "justify_items": null,
            "left": null,
            "margin": null,
            "max_height": null,
            "max_width": null,
            "min_height": null,
            "min_width": null,
            "object_fit": null,
            "object_position": null,
            "order": null,
            "overflow": null,
            "overflow_x": null,
            "overflow_y": null,
            "padding": null,
            "right": null,
            "top": null,
            "visibility": null,
            "width": null
          }
        },
        "68b2133072fa4e489c6e84763c45b053": {
          "model_module": "@jupyter-widgets/controls",
          "model_name": "DescriptionStyleModel",
          "model_module_version": "1.5.0",
          "state": {
            "_model_module": "@jupyter-widgets/controls",
            "_model_module_version": "1.5.0",
            "_model_name": "DescriptionStyleModel",
            "_view_count": null,
            "_view_module": "@jupyter-widgets/base",
            "_view_module_version": "1.2.0",
            "_view_name": "StyleView",
            "description_width": ""
          }
        },
        "9643567502f444728717ef4914f32ba7": {
          "model_module": "@jupyter-widgets/base",
          "model_name": "LayoutModel",
          "model_module_version": "1.2.0",
          "state": {
            "_model_module": "@jupyter-widgets/base",
            "_model_module_version": "1.2.0",
            "_model_name": "LayoutModel",
            "_view_count": null,
            "_view_module": "@jupyter-widgets/base",
            "_view_module_version": "1.2.0",
            "_view_name": "LayoutView",
            "align_content": null,
            "align_items": null,
            "align_self": null,
            "border": null,
            "bottom": null,
            "display": null,
            "flex": null,
            "flex_flow": null,
            "grid_area": null,
            "grid_auto_columns": null,
            "grid_auto_flow": null,
            "grid_auto_rows": null,
            "grid_column": null,
            "grid_gap": null,
            "grid_row": null,
            "grid_template_areas": null,
            "grid_template_columns": null,
            "grid_template_rows": null,
            "height": null,
            "justify_content": null,
            "justify_items": null,
            "left": null,
            "margin": null,
            "max_height": null,
            "max_width": null,
            "min_height": null,
            "min_width": null,
            "object_fit": null,
            "object_position": null,
            "order": null,
            "overflow": null,
            "overflow_x": null,
            "overflow_y": null,
            "padding": null,
            "right": null,
            "top": null,
            "visibility": null,
            "width": null
          }
        },
        "f2d8cb6fade440a88e6116eac147e8b7": {
          "model_module": "@jupyter-widgets/controls",
          "model_name": "ProgressStyleModel",
          "model_module_version": "1.5.0",
          "state": {
            "_model_module": "@jupyter-widgets/controls",
            "_model_module_version": "1.5.0",
            "_model_name": "ProgressStyleModel",
            "_view_count": null,
            "_view_module": "@jupyter-widgets/base",
            "_view_module_version": "1.2.0",
            "_view_name": "StyleView",
            "bar_color": null,
            "description_width": ""
          }
        },
        "4698ccf14d374aadbecb9797338abd15": {
          "model_module": "@jupyter-widgets/base",
          "model_name": "LayoutModel",
          "model_module_version": "1.2.0",
          "state": {
            "_model_module": "@jupyter-widgets/base",
            "_model_module_version": "1.2.0",
            "_model_name": "LayoutModel",
            "_view_count": null,
            "_view_module": "@jupyter-widgets/base",
            "_view_module_version": "1.2.0",
            "_view_name": "LayoutView",
            "align_content": null,
            "align_items": null,
            "align_self": null,
            "border": null,
            "bottom": null,
            "display": null,
            "flex": null,
            "flex_flow": null,
            "grid_area": null,
            "grid_auto_columns": null,
            "grid_auto_flow": null,
            "grid_auto_rows": null,
            "grid_column": null,
            "grid_gap": null,
            "grid_row": null,
            "grid_template_areas": null,
            "grid_template_columns": null,
            "grid_template_rows": null,
            "height": null,
            "justify_content": null,
            "justify_items": null,
            "left": null,
            "margin": null,
            "max_height": null,
            "max_width": null,
            "min_height": null,
            "min_width": null,
            "object_fit": null,
            "object_position": null,
            "order": null,
            "overflow": null,
            "overflow_x": null,
            "overflow_y": null,
            "padding": null,
            "right": null,
            "top": null,
            "visibility": null,
            "width": null
          }
        },
        "fb58247564ad479bae3522c676f4a63a": {
          "model_module": "@jupyter-widgets/controls",
          "model_name": "DescriptionStyleModel",
          "model_module_version": "1.5.0",
          "state": {
            "_model_module": "@jupyter-widgets/controls",
            "_model_module_version": "1.5.0",
            "_model_name": "DescriptionStyleModel",
            "_view_count": null,
            "_view_module": "@jupyter-widgets/base",
            "_view_module_version": "1.2.0",
            "_view_name": "StyleView",
            "description_width": ""
          }
        }
      }
    }
  },
  "nbformat": 4,
  "nbformat_minor": 5
}