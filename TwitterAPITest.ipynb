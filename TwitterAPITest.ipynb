{
 "cells": [
  {
   "cell_type": "markdown",
   "id": "7cbef98c",
   "metadata": {},
   "source": [
    "# Twitter API Demo\n",
    "Demo file to prove out twitter api functionality\n",
    "\n",
    "Todo:\n",
    "* ~~Get first tweet from single userID~~\n",
    "* Get time for each tweet\n",
    "* Get all tweets\n",
    "\n",
    "# Pre reqs\n",
    "## Authentication \n",
    "You need a `cofig.ini` file, with an \"Authentication\" section, and a valid \"bearer_token\" value.\n",
    "## Depdenencies\n",
    "I'm using the `tweepy` library."
   ]
  },
  {
   "cell_type": "code",
   "execution_count": null,
   "id": "3bebd234",
   "metadata": {},
   "outputs": [],
   "source": [
    "# Install Tweepy\n",
    "!pip install tweepy"
   ]
  },
  {
   "cell_type": "code",
   "execution_count": 26,
   "id": "e474d0f1-d186-42d0-afb0-16db82b03022",
   "metadata": {},
   "outputs": [],
   "source": [
    "# Imort request library\n",
    "import requests\n",
    "# import tweepy\n",
    "import tweepy\n",
    "# Read in config file for API keys\n",
    "import configparser"
   ]
  },
  {
   "cell_type": "code",
   "execution_count": 45,
   "id": "0fc2972d",
   "metadata": {},
   "outputs": [],
   "source": [
    "# Readin in config file for API keys\n",
    "config = configparser.ConfigParser(interpolation=None)\n",
    "config.read('config.ini')\n",
    "# Read in API key\n",
    "api_key = config['Authenication']['api_key']\n",
    "api_key_secret = config['Authenication']['api_key_secret']\n",
    "bearer_token = config['Authenication']['bearer_token']"
   ]
  },
  {
   "cell_type": "code",
   "execution_count": 46,
   "id": "8bb0e9d2",
   "metadata": {},
   "outputs": [],
   "source": [
    "# Set up tweepy with the bearer_token\n",
    "client = tweepy.Client(bearer_token)"
   ]
  },
  {
   "cell_type": "code",
   "execution_count": 90,
   "id": "a6fed6ca",
   "metadata": {},
   "outputs": [],
   "source": [
    "# Set up the query to search for tweets from a specific user\n",
    "userID = \"RepMTG\"\n",
    "query = \"from:\" + userID\n",
    "tweets = client.search_recent_tweets(query=query,max_results=10)"
   ]
  },
  {
   "cell_type": "markdown",
   "id": "c6ddcb41",
   "metadata": {},
   "source": [
    "https://docs.tweepy.org/en/stable/client.html#tweepy.Client.search_recent_tweets"
   ]
  },
  {
   "cell_type": "code",
   "execution_count": 91,
   "id": "77ddcfcc",
   "metadata": {},
   "outputs": [
    {
     "name": "stdout",
     "output_type": "stream",
     "text": [
      "I’m honored to receive an A+ grade from @SBAList. \n",
      "\n",
      "It’s time to END abortion in America!\n",
      "\n",
      "https://t.co/fJ8Rw7UD2v\n",
      "------------------------------\n",
      "RT @RealAmVoice: .@RepMTG joins @RealDrGina and talks about the upcoming March for Life tomorrow in D.C. and the ongoing fight to end abort…\n",
      "------------------------------\n",
      "Congresswoman Greene would like @RepBowman to say hello to Deputy Warden Kathleen Landerkin at DC Jail.\n",
      "\n",
      "Can he give us a report on the current conditions? https://t.co/gd9PNUCldM\n",
      "------------------------------\n"
     ]
    }
   ],
   "source": [
    "for tweet in tweets[0]:\n",
    "    print(tweet.text)\n",
    "    print(\"-\" * 30)"
   ]
  }
 ],
 "metadata": {
  "kernelspec": {
   "display_name": "Python 3",
   "language": "python",
   "name": "python3"
  },
  "language_info": {
   "codemirror_mode": {
    "name": "ipython",
    "version": 3
   },
   "file_extension": ".py",
   "mimetype": "text/x-python",
   "name": "python",
   "nbconvert_exporter": "python",
   "pygments_lexer": "ipython3",
   "version": "3.8.8"
  }
 },
 "nbformat": 4,
 "nbformat_minor": 5
}
