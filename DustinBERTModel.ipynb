{
  "nbformat": 4,
  "nbformat_minor": 0,
  "metadata": {
    "colab": {
      "name": "DustinBERT.ipynb",
      "provenance": [],
      "collapsed_sections": [],
      "machine_shape": "hm",
      "background_execution": "on"
    },
    "kernelspec": {
      "name": "python3",
      "display_name": "Python 3"
    },
    "language_info": {
      "name": "python"
    },
    "accelerator": "GPU"
  },
  "cells": [
    {
      "cell_type": "code",
      "source": [
        "# # Need to tap local runtime resources\n",
        "# !pip install jupyterlab\n",
        "# !pip install jupyter_http_over_ws\n",
        "# !jupyter serverextension enable --py jupyter_http_over_ws"
      ],
      "metadata": {
        "id": "45surhmEZ2-H"
      },
      "execution_count": null,
      "outputs": []
    },
    {
      "cell_type": "code",
      "execution_count": null,
      "metadata": {
        "colab": {
          "base_uri": "https://localhost:8080/"
        },
        "id": "8YjmX9yWSRu-",
        "outputId": "64c2c991-009d-487f-a6f6-658507cb9661"
      },
      "outputs": [
        {
          "output_type": "stream",
          "name": "stdout",
          "text": [
            "Requirement already satisfied: transformers in /usr/local/lib/python3.7/dist-packages (4.17.0)\n",
            "Requirement already satisfied: sacremoses in /usr/local/lib/python3.7/dist-packages (from transformers) (0.0.49)\n",
            "Requirement already satisfied: tokenizers!=0.11.3,>=0.11.1 in /usr/local/lib/python3.7/dist-packages (from transformers) (0.11.6)\n",
            "Requirement already satisfied: numpy>=1.17 in /usr/local/lib/python3.7/dist-packages (from transformers) (1.21.5)\n",
            "Requirement already satisfied: packaging>=20.0 in /usr/local/lib/python3.7/dist-packages (from transformers) (21.3)\n",
            "Requirement already satisfied: huggingface-hub<1.0,>=0.1.0 in /usr/local/lib/python3.7/dist-packages (from transformers) (0.4.0)\n",
            "Requirement already satisfied: requests in /usr/local/lib/python3.7/dist-packages (from transformers) (2.23.0)\n",
            "Requirement already satisfied: importlib-metadata in /usr/local/lib/python3.7/dist-packages (from transformers) (4.11.2)\n",
            "Requirement already satisfied: regex!=2019.12.17 in /usr/local/lib/python3.7/dist-packages (from transformers) (2019.12.20)\n",
            "Requirement already satisfied: pyyaml>=5.1 in /usr/local/lib/python3.7/dist-packages (from transformers) (6.0)\n",
            "Requirement already satisfied: filelock in /usr/local/lib/python3.7/dist-packages (from transformers) (3.6.0)\n",
            "Requirement already satisfied: tqdm>=4.27 in /usr/local/lib/python3.7/dist-packages (from transformers) (4.63.0)\n",
            "Requirement already satisfied: typing-extensions>=3.7.4.3 in /usr/local/lib/python3.7/dist-packages (from huggingface-hub<1.0,>=0.1.0->transformers) (3.10.0.2)\n",
            "Requirement already satisfied: pyparsing!=3.0.5,>=2.0.2 in /usr/local/lib/python3.7/dist-packages (from packaging>=20.0->transformers) (3.0.7)\n",
            "Requirement already satisfied: zipp>=0.5 in /usr/local/lib/python3.7/dist-packages (from importlib-metadata->transformers) (3.7.0)\n",
            "Requirement already satisfied: certifi>=2017.4.17 in /usr/local/lib/python3.7/dist-packages (from requests->transformers) (2021.10.8)\n",
            "Requirement already satisfied: idna<3,>=2.5 in /usr/local/lib/python3.7/dist-packages (from requests->transformers) (2.10)\n",
            "Requirement already satisfied: urllib3!=1.25.0,!=1.25.1,<1.26,>=1.21.1 in /usr/local/lib/python3.7/dist-packages (from requests->transformers) (1.25.11)\n",
            "Requirement already satisfied: chardet<4,>=3.0.2 in /usr/local/lib/python3.7/dist-packages (from requests->transformers) (3.0.4)\n",
            "Requirement already satisfied: joblib in /usr/local/lib/python3.7/dist-packages (from sacremoses->transformers) (1.1.0)\n",
            "Requirement already satisfied: six in /usr/local/lib/python3.7/dist-packages (from sacremoses->transformers) (1.15.0)\n",
            "Requirement already satisfied: click in /usr/local/lib/python3.7/dist-packages (from sacremoses->transformers) (7.1.2)\n",
            "fatal: destination path 'W266_Group_Project' already exists and is not an empty directory.\n",
            "Requirement already satisfied: datasets in /usr/local/lib/python3.7/dist-packages (2.0.0)\n",
            "Requirement already satisfied: responses<0.19 in /usr/local/lib/python3.7/dist-packages (from datasets) (0.18.0)\n",
            "Requirement already satisfied: huggingface-hub<1.0.0,>=0.1.0 in /usr/local/lib/python3.7/dist-packages (from datasets) (0.4.0)\n",
            "Requirement already satisfied: xxhash in /usr/local/lib/python3.7/dist-packages (from datasets) (3.0.0)\n",
            "Requirement already satisfied: tqdm>=4.62.1 in /usr/local/lib/python3.7/dist-packages (from datasets) (4.63.0)\n",
            "Requirement already satisfied: fsspec[http]>=2021.05.0 in /usr/local/lib/python3.7/dist-packages (from datasets) (2022.2.0)\n",
            "Requirement already satisfied: aiohttp in /usr/local/lib/python3.7/dist-packages (from datasets) (3.8.1)\n",
            "Requirement already satisfied: numpy>=1.17 in /usr/local/lib/python3.7/dist-packages (from datasets) (1.21.5)\n",
            "Requirement already satisfied: multiprocess in /usr/local/lib/python3.7/dist-packages (from datasets) (0.70.12.2)\n",
            "Requirement already satisfied: dill in /usr/local/lib/python3.7/dist-packages (from datasets) (0.3.4)\n",
            "Requirement already satisfied: packaging in /usr/local/lib/python3.7/dist-packages (from datasets) (21.3)\n",
            "Requirement already satisfied: importlib-metadata in /usr/local/lib/python3.7/dist-packages (from datasets) (4.11.2)\n",
            "Requirement already satisfied: pyarrow>=5.0.0 in /usr/local/lib/python3.7/dist-packages (from datasets) (6.0.1)\n",
            "Requirement already satisfied: requests>=2.19.0 in /usr/local/lib/python3.7/dist-packages (from datasets) (2.23.0)\n",
            "Requirement already satisfied: pandas in /usr/local/lib/python3.7/dist-packages (from datasets) (1.3.5)\n",
            "Requirement already satisfied: filelock in /usr/local/lib/python3.7/dist-packages (from huggingface-hub<1.0.0,>=0.1.0->datasets) (3.6.0)\n",
            "Requirement already satisfied: pyyaml in /usr/local/lib/python3.7/dist-packages (from huggingface-hub<1.0.0,>=0.1.0->datasets) (6.0)\n",
            "Requirement already satisfied: typing-extensions>=3.7.4.3 in /usr/local/lib/python3.7/dist-packages (from huggingface-hub<1.0.0,>=0.1.0->datasets) (3.10.0.2)\n",
            "Requirement already satisfied: pyparsing!=3.0.5,>=2.0.2 in /usr/local/lib/python3.7/dist-packages (from packaging->datasets) (3.0.7)\n",
            "Requirement already satisfied: chardet<4,>=3.0.2 in /usr/local/lib/python3.7/dist-packages (from requests>=2.19.0->datasets) (3.0.4)\n",
            "Requirement already satisfied: urllib3!=1.25.0,!=1.25.1,<1.26,>=1.21.1 in /usr/local/lib/python3.7/dist-packages (from requests>=2.19.0->datasets) (1.25.11)\n",
            "Requirement already satisfied: certifi>=2017.4.17 in /usr/local/lib/python3.7/dist-packages (from requests>=2.19.0->datasets) (2021.10.8)\n",
            "Requirement already satisfied: idna<3,>=2.5 in /usr/local/lib/python3.7/dist-packages (from requests>=2.19.0->datasets) (2.10)\n",
            "Requirement already satisfied: multidict<7.0,>=4.5 in /usr/local/lib/python3.7/dist-packages (from aiohttp->datasets) (6.0.2)\n",
            "Requirement already satisfied: asynctest==0.13.0 in /usr/local/lib/python3.7/dist-packages (from aiohttp->datasets) (0.13.0)\n",
            "Requirement already satisfied: frozenlist>=1.1.1 in /usr/local/lib/python3.7/dist-packages (from aiohttp->datasets) (1.3.0)\n",
            "Requirement already satisfied: aiosignal>=1.1.2 in /usr/local/lib/python3.7/dist-packages (from aiohttp->datasets) (1.2.0)\n",
            "Requirement already satisfied: async-timeout<5.0,>=4.0.0a3 in /usr/local/lib/python3.7/dist-packages (from aiohttp->datasets) (4.0.2)\n",
            "Requirement already satisfied: yarl<2.0,>=1.0 in /usr/local/lib/python3.7/dist-packages (from aiohttp->datasets) (1.7.2)\n",
            "Requirement already satisfied: charset-normalizer<3.0,>=2.0 in /usr/local/lib/python3.7/dist-packages (from aiohttp->datasets) (2.0.12)\n",
            "Requirement already satisfied: attrs>=17.3.0 in /usr/local/lib/python3.7/dist-packages (from aiohttp->datasets) (21.4.0)\n",
            "Requirement already satisfied: zipp>=0.5 in /usr/local/lib/python3.7/dist-packages (from importlib-metadata->datasets) (3.7.0)\n",
            "Requirement already satisfied: python-dateutil>=2.7.3 in /usr/local/lib/python3.7/dist-packages (from pandas->datasets) (2.8.2)\n",
            "Requirement already satisfied: pytz>=2017.3 in /usr/local/lib/python3.7/dist-packages (from pandas->datasets) (2018.9)\n",
            "Requirement already satisfied: six>=1.5 in /usr/local/lib/python3.7/dist-packages (from python-dateutil>=2.7.3->pandas->datasets) (1.15.0)\n"
          ]
        }
      ],
      "source": [
        "# Setup for Google Colab\n",
        "#!pip install tensorflow-gpu\n",
        "!pip install transformers\n",
        "!git clone https://github.com/CodyBurker/W266_Group_Project\n",
        "!pip install datasets"
      ]
    },
    {
      "cell_type": "code",
      "source": [
        "gpu_info = !nvidia-smi\n",
        "gpu_info = '\\n'.join(gpu_info)\n",
        "if gpu_info.find('failed') >= 0:\n",
        "  print('Not connected to a GPU')\n",
        "else:\n",
        "  print(gpu_info)"
      ],
      "metadata": {
        "colab": {
          "base_uri": "https://localhost:8080/"
        },
        "id": "2h8jdCX2UCGF",
        "outputId": "0855f685-03a3-409d-ac38-81fa5646103f"
      },
      "execution_count": 1,
      "outputs": [
        {
          "output_type": "stream",
          "name": "stdout",
          "text": [
            "Mon Mar 21 23:22:22 2022       \n",
            "+-----------------------------------------------------------------------------+\n",
            "| NVIDIA-SMI 460.32.03    Driver Version: 460.32.03    CUDA Version: 11.2     |\n",
            "|-------------------------------+----------------------+----------------------+\n",
            "| GPU  Name        Persistence-M| Bus-Id        Disp.A | Volatile Uncorr. ECC |\n",
            "| Fan  Temp  Perf  Pwr:Usage/Cap|         Memory-Usage | GPU-Util  Compute M. |\n",
            "|                               |                      |               MIG M. |\n",
            "|===============================+======================+======================|\n",
            "|   0  Tesla P100-PCIE...  Off  | 00000000:00:04.0 Off |                    0 |\n",
            "| N/A   36C    P0    28W / 250W |      0MiB / 16280MiB |      0%      Default |\n",
            "|                               |                      |                  N/A |\n",
            "+-------------------------------+----------------------+----------------------+\n",
            "                                                                               \n",
            "+-----------------------------------------------------------------------------+\n",
            "| Processes:                                                                  |\n",
            "|  GPU   GI   CI        PID   Type   Process name                  GPU Memory |\n",
            "|        ID   ID                                                   Usage      |\n",
            "|=============================================================================|\n",
            "|  No running processes found                                                 |\n",
            "+-----------------------------------------------------------------------------+\n"
          ]
        }
      ]
    },
    {
      "cell_type": "code",
      "source": [
        "from transformers import BertTokenizer, TFBertModel, TFBertForSequenceClassification\n",
        "import tensorflow as tf\n",
        "import numpy as np\n",
        "import pandas as pd\n",
        "import seaborn as sns\n",
        "import matplotlib.pyplot as plt\n",
        "\n",
        "%matplotlib inline"
      ],
      "metadata": {
        "id": "l52ZY3KWjMPK"
      },
      "execution_count": null,
      "outputs": []
    },
    {
      "cell_type": "code",
      "source": [
        "# def read_in_data(path=\"W266_Group_Project/\"):\n",
        "#     import pandas as pd\n",
        "#     X_train = pd.read_csv(path + \"x_train_sampled_yelp_data.csv\")\n",
        "#     y_train = pd.read_csv(path + \"y_train_sampled_yelp_data.csv\")\n",
        "#     X_test = pd.read_csv(path + \"x_test_sampled_yelp_data.csv\")\n",
        "#     y_test = pd.read_csv(path + \"y_test_sampled_yelp_data.csv\")\n",
        "#     return X_train, X_test, y_train, y_test\n",
        "# X_train, X_test, y_train, y_test = read_in_data()"
      ],
      "metadata": {
        "id": "8BV98hg0SexQ"
      },
      "execution_count": null,
      "outputs": []
    },
    {
      "cell_type": "code",
      "source": [
        "def read_in_data(path=\"W266_Group_Project/\"):\n",
        "    import pandas as pd\n",
        "    X_train = pd.read_csv(path + \"x_train_balanced.csv\")\n",
        "    y_train = pd.read_csv(path + \"y_train_balanced.csv\")\n",
        "    X_test = pd.read_csv(path + \"x_test_balanced.csv\")\n",
        "    y_test = pd.read_csv(path + \"y_test_balanced.csv\")\n",
        "    return X_train, X_test, y_train, y_test\n",
        "X_train, X_test, y_train, y_test = read_in_data()"
      ],
      "metadata": {
        "id": "LllM6Jmj5n5d"
      },
      "execution_count": null,
      "outputs": []
    },
    {
      "cell_type": "code",
      "source": [
        "X_train['text'][1]"
      ],
      "metadata": {
        "colab": {
          "base_uri": "https://localhost:8080/",
          "height": 87
        },
        "id": "NSwJgj02VAWn",
        "outputId": "443e17d6-7117-49a0-b342-04c5b9ef5986"
      },
      "execution_count": null,
      "outputs": [
        {
          "output_type": "execute_result",
          "data": {
            "text/plain": [
              "\"Will definitely be using Cooper Party Rentals again! Not only do they have more than fair pricing, the owner was super nice and quick to respond to any of my questions or concerns. We rented 4 round tables and 30 white chairs. Everything was dropped off and picked up super conveniently and in a timely manner.  We had initially planned to have our event in May for my sister's grad party and had to reschedule due to COVID. Dane was super understanding and flexible around our new proposed dates.\""
            ],
            "application/vnd.google.colaboratory.intrinsic+json": {
              "type": "string"
            }
          },
          "metadata": {},
          "execution_count": 7
        }
      ]
    },
    {
      "cell_type": "code",
      "source": [
        "y_train['stars'] = y_train['stars'] - 1\n",
        "y_test['stars'] = y_test['stars'] - 1\n",
        "# shifting predicted categories down by 1 to work in the sparse_cateforial_entropy loss below "
      ],
      "metadata": {
        "id": "gKMPbHMNVSv2"
      },
      "execution_count": null,
      "outputs": []
    },
    {
      "cell_type": "code",
      "source": [
        "y_train['stars']"
      ],
      "metadata": {
        "colab": {
          "base_uri": "https://localhost:8080/"
        },
        "id": "1xHzbjruXTWR",
        "outputId": "03fed30a-af8b-46dd-cd02-18e2acb3b502"
      },
      "execution_count": null,
      "outputs": [
        {
          "output_type": "execute_result",
          "data": {
            "text/plain": [
              "0        3.0\n",
              "1        4.0\n",
              "2        0.0\n",
              "3        3.0\n",
              "4        4.0\n",
              "        ... \n",
              "79995    0.0\n",
              "79996    2.0\n",
              "79997    0.0\n",
              "79998    2.0\n",
              "79999    0.0\n",
              "Name: stars, Length: 80000, dtype: float64"
            ]
          },
          "metadata": {},
          "execution_count": 9
        }
      ]
    },
    {
      "cell_type": "code",
      "source": [
        "# Exploring options from https://towardsdatascience.com/sentiment-analysis-in-10-minutes-with-bert-and-hugging-face-294e8a04b671\n",
        "# from transformers import TFBertForSequenceClassification\n",
        "# ?TFBertForSequenceClassification"
      ],
      "metadata": {
        "id": "YrGTZJDoINB4"
      },
      "execution_count": null,
      "outputs": []
    },
    {
      "cell_type": "code",
      "source": [
        "#from transformers import BertTokenizer, TFBertForSequenceClassification\n",
        "#import tensorflow as tf\n",
        "\n",
        "#tokenizer = BertTokenizer.from_pretrained(\"bert-base-uncased\")\n",
        "#model = TFBertForSequenceClassification.from_pretrained(\"bert-base-uncased\")\n",
        "\n",
        "#inputs = tokenizer(\"Hello, my dog is ugly, mean, and bad\", return_tensors=\"tf\")\n",
        "#inputs[\"labels\"] = tf.reshape(tf.constant(1), (-1, 1))  # Batch size 1\n",
        "\n",
        "#outputs = model(inputs)\n",
        "#loss = outputs.loss\n",
        "#logits = outputs.logits"
      ],
      "metadata": {
        "id": "pVcrNh9ji8D7"
      },
      "execution_count": null,
      "outputs": []
    },
    {
      "cell_type": "code",
      "source": [
        "# Look at the layers in the BERT base model\n",
        "#[i.name for i in model.weights]"
      ],
      "metadata": {
        "id": "SDdYKFe-E0p2"
      },
      "execution_count": null,
      "outputs": []
    },
    {
      "cell_type": "code",
      "source": [
        "# def how_many_tokens(input_examples, tokenizer=tokenizer,\n",
        "#                     quantiles = [0, .25, .5, .75, 1]):\n",
        "#   \"\"\" \n",
        "#   Determine the desired quantiles calculated from the length (in token IDs) of \n",
        "#   provided text examples using a desired tokenizer.\n",
        "  \n",
        "#   Input: list of examples\n",
        "\n",
        "#   Output: Number of token IDs at quantiles in any of the given input examples \n",
        "#   (excluding special token IDs such as CLS, UNK, SEP) \n",
        "#   \"\"\" \n",
        "\n",
        "#   input_token_id_lengths = []\n",
        "#   for i in input_examples:\n",
        "#     tokens = tokenizer.tokenize(i)\n",
        "#     token_ids = tokenizer.convert_tokens_to_ids(tokens)\n",
        "#     input_token_id_lengths.append(len(token_ids))\n",
        "\n",
        "#   return np.quantile(input_token_id_lengths, quantiles), input_token_id_lengths\n",
        "\n",
        "# # The results of running this function on the training text examples (100K) was\n",
        "# # 4,406 max token IDs - pretty long - and the below quantiles:\n",
        "# # array([1.000e+00, 5.600e+01, 1.010e+02, 1.780e+02, 4.406e+03])\n",
        "# # how_many_tokens(X_train['text'])\n",
        "\n",
        "# # The results for below, same run on test examples yielded: \n",
        "# # array([   2.,   56.,  100.,  178., 1385.])\n",
        "# # how_many_tokens(X_test['text'])"
      ],
      "metadata": {
        "id": "4wKZxl0LPLNa"
      },
      "execution_count": null,
      "outputs": []
    },
    {
      "cell_type": "code",
      "source": [
        "# While the max length is 4,406, only 2.2% of examples would be truncated if\n",
        "# we set the max length at 512 (for padding purposes), as seen below\n",
        "# quantiles, token_lengths = how_many_tokens(X_train['text'])\n",
        "# print(quantiles)\n",
        "# print('Proportion of examples > 512 tokens:', (np.sum(np.array(token_lengths)>512)/(len(token_lengths))))\n",
        "\n",
        "# Setting max length based on above\n",
        "# max_length = 512"
      ],
      "metadata": {
        "id": "YvKlstgnrNMy"
      },
      "execution_count": null,
      "outputs": []
    },
    {
      "cell_type": "code",
      "source": [
        "# def examples_to_BERT_inputs(input_examples, input_labels, tokenizer=tokenizer, \n",
        "#                             max_length=max_length):\n",
        "#   #c= 0\n",
        "#   input_ids = []\n",
        "#   attention_mask = []\n",
        "#   #labels = []\n",
        "\n",
        "#   for i in input_examples:\n",
        "#     encoding = tokenizer.encode_plus(\n",
        "#         i,\n",
        "#         truncation = True, \n",
        "#         add_special_tokens = True,\n",
        "#         padding = 'max_length',\n",
        "#         return_attention_mask = True#,\n",
        "#         #return_tensors='tf'\n",
        "#     )\n",
        "\n",
        "#     input_ids.append(encoding['input_ids'])\n",
        "#     attention_mask.append(encoding['attention_mask'])\n",
        "#     #labels.append(input_labels[c])\n",
        "\n",
        "#     #c+=1\n",
        "\n",
        "#   return {'input_ids': input_ids, 'attention_mask': attention_mask}"
      ],
      "metadata": {
        "id": "_S_Q4u_4j9uD"
      },
      "execution_count": null,
      "outputs": []
    },
    {
      "cell_type": "code",
      "source": [
        "# Check to see if the base model is performing as expected\n",
        "# results_base = model(examples_to_BERT_inputs(X_train['text'][:100], y_train['stars'][:100]))"
      ],
      "metadata": {
        "id": "cjbVDGf6Gj0A"
      },
      "execution_count": null,
      "outputs": []
    },
    {
      "cell_type": "code",
      "source": [
        "# results_base"
      ],
      "metadata": {
        "id": "H9SppiJWG6KP"
      },
      "execution_count": null,
      "outputs": []
    },
    {
      "cell_type": "code",
      "source": [
        "#Look at the shape of every layer in the pretrained model\n",
        "#for layer in range(len(bert.layers[0].weights))[:10]:\n",
        "    #print(layer)\n",
        "    #print('Layer name: \\t', bert.layers[0].weights[layer].name)\n",
        "    #print('Layer shape: \\t', bert.layers[0].weights[layer].shape)"
      ],
      "metadata": {
        "id": "Mf2vDeMDwT3v"
      },
      "execution_count": null,
      "outputs": []
    },
    {
      "cell_type": "code",
      "source": [
        "# tokenizer.tokenize('Testing to see how this BERT tokenizer splits various kinds of words, sometimes unusually')"
      ],
      "metadata": {
        "id": "iKNL610WoCrS"
      },
      "execution_count": null,
      "outputs": []
    },
    {
      "cell_type": "code",
      "source": [
        "# tokenizer.convert_tokens_to_ids([\n",
        "#                                  '[CLS]', \n",
        "#                                  'Testing',\n",
        "#                                  'to',\n",
        "#                                  'see',\n",
        "#                                  'how',\n",
        "#                                  'this', \n",
        "#                                  'works', \n",
        "#                                  '[SEP]'])"
      ],
      "metadata": {
        "id": "ZayxKUGEpiSM"
      },
      "execution_count": null,
      "outputs": []
    },
    {
      "cell_type": "code",
      "source": [
        "# tokenizer.convert_ids_to_tokens([101])"
      ],
      "metadata": {
        "id": "c4LYUokIpsFj"
      },
      "execution_count": null,
      "outputs": []
    },
    {
      "cell_type": "code",
      "source": [
        "#Establish bare base pretrained BERT model, and see layers\n",
        "# bert = TFBertModel.from_pretrained('bert-base-uncased')\n",
        "# note the model name / path is a string - the *model id* of a pretrained model \n",
        "# hosted inside a model repo on huggingface.co"
      ],
      "metadata": {
        "id": "YLJ9gvujrESq"
      },
      "execution_count": null,
      "outputs": []
    },
    {
      "cell_type": "code",
      "source": [
        "#curious to see example weights at the first layer\n",
        "# bert.layers[0].weights[0]"
      ],
      "metadata": {
        "id": "MGVv42Oyrk26"
      },
      "execution_count": null,
      "outputs": []
    },
    {
      "cell_type": "code",
      "source": [
        "# Resource used to guide work: \n",
        "# https://raviteja-ganta.github.io/sentiment-analysis-using-bert-and-hugging-face"
      ],
      "metadata": {
        "id": "Z1jtEBclMpHr"
      },
      "execution_count": null,
      "outputs": []
    },
    {
      "cell_type": "code",
      "source": [
        "# outputs[0]"
      ],
      "metadata": {
        "id": "ouuCWx0tjJxT"
      },
      "execution_count": null,
      "outputs": []
    },
    {
      "cell_type": "code",
      "source": [
        "# train['DATA_COLUMN'] = pd.DataFrame(X_train['text'])\n",
        "# train['LABEL_COLUMN'] = y_train['stars']\n",
        "# test['DATA_COLUMN'] = pd.DataFrame(X_test['text'])\n",
        "# test['LABEL_COLUMN'] = y_test['stars']\n",
        "\n",
        "# #pd.DataFrame(test[['text', 'stars']])\n",
        "# test"
      ],
      "metadata": {
        "id": "fqKozcegaAYN"
      },
      "execution_count": null,
      "outputs": []
    },
    {
      "cell_type": "code",
      "source": [
        "# def convert_data_to_examples(train, test, DATA_COLUMN, LABEL_COLUMN): \n",
        "#   train_InputExamples = train.apply(lambda x: InputExample(guid=None, # Globally unique ID for bookkeeping, unused in this case\n",
        "#                                                           text_a = x[DATA_COLUMN], \n",
        "#                                                           text_b = None,\n",
        "#                                                           label = x[LABEL_COLUMN]), axis = 1)\n",
        "\n",
        "#   validation_InputExamples = test.apply(lambda x: InputExample(guid=None, # Globally unique ID for bookkeeping, unused in this case\n",
        "#                                                           text_a = x[DATA_COLUMN], \n",
        "#                                                           text_b = None,\n",
        "#                                                           label = x[LABEL_COLUMN]), axis = 1)\n",
        "  \n",
        "#   return train_InputExamples, validation_InputExamples\n",
        "\n",
        "#   train_InputExamples, validation_InputExamples = convert_data_to_examples(train, \n",
        "#                                                                            test, \n",
        "#                                                                            'DATA_COLUMN', \n",
        "#                                                                            'LABEL_COLUMN')\n",
        "  \n",
        "# def convert_examples_to_tf_dataset(examples, tokenizer, max_length=128):\n",
        "#     features = [] # -> will hold InputFeatures to be converted later\n",
        "\n",
        "#     for e in examples:\n",
        "#         # Documentation is really strong for this method, so please take a look at it\n",
        "#         input_dict = tokenizer.encode_plus(\n",
        "#             e.text_a,\n",
        "#             add_special_tokens=True,\n",
        "#             max_length=max_length, # truncates if len(s) > max_length\n",
        "#             return_token_type_ids=True,\n",
        "#             return_attention_mask=True,\n",
        "#             pad_to_max_length=True, # pads to the right by default # CHECK THIS for pad_to_max_length\n",
        "#             truncation=True\n",
        "#         )\n",
        "\n",
        "#         input_ids, token_type_ids, attention_mask = (input_dict[\"input_ids\"],\n",
        "#             input_dict[\"token_type_ids\"], input_dict['attention_mask'])\n",
        "\n",
        "#         features.append(\n",
        "#             InputFeatures(\n",
        "#                 input_ids=input_ids, attention_mask=attention_mask, token_type_ids=token_type_ids, label=e.label\n",
        "#             )\n",
        "#         )\n",
        "\n",
        "#     def gen():\n",
        "#         for f in features:\n",
        "#             yield (\n",
        "#                 {\n",
        "#                     \"input_ids\": f.input_ids,\n",
        "#                     \"attention_mask\": f.attention_mask,\n",
        "#                     \"token_type_ids\": f.token_type_ids,\n",
        "#                 },\n",
        "#                 f.label,\n",
        "#             )\n",
        "\n",
        "#     return tf.data.Dataset.from_generator(\n",
        "#         gen,\n",
        "#         ({\"input_ids\": tf.int32, \"attention_mask\": tf.int32, \"token_type_ids\": tf.int32}, tf.int64),\n",
        "#         (\n",
        "#             {\n",
        "#                 \"input_ids\": tf.TensorShape([None]),\n",
        "#                 \"attention_mask\": tf.TensorShape([None]),\n",
        "#                 \"token_type_ids\": tf.TensorShape([None]),\n",
        "#             },\n",
        "#             tf.TensorShape([]),\n",
        "#         ),\n",
        "#     )\n",
        "\n",
        "\n",
        "# DATA_COLUMN = 'DATA_COLUMN'\n",
        "# LABEL_COLUMN = 'LABEL_COLUMN'"
      ],
      "metadata": {
        "id": "vocYmMv1UNv3"
      },
      "execution_count": null,
      "outputs": []
    },
    {
      "cell_type": "code",
      "source": [
        "# from transformers import InputExample, InputFeatures\n",
        "# train_InputExamples, validation_InputExamples = convert_data_to_examples(train, test, DATA_COLUMN, LABEL_COLUMN)\n",
        "# print(train_InputExamples[0])"
      ],
      "metadata": {
        "id": "haoq_CPHZQJD"
      },
      "execution_count": null,
      "outputs": []
    },
    {
      "cell_type": "code",
      "source": [
        "# train_data = convert_examples_to_tf_dataset(list(train_InputExamples), tokenizer)\n",
        "# train_data = train_data.shuffle(100).batch(32).repeat(2)"
      ],
      "metadata": {
        "id": "Q2YtrAP3eb7f"
      },
      "execution_count": null,
      "outputs": []
    },
    {
      "cell_type": "code",
      "source": [
        "sns.countplot(y_train['stars'])"
      ],
      "metadata": {
        "colab": {
          "base_uri": "https://localhost:8080/",
          "height": 351
        },
        "id": "qCkVtpYTPb2A",
        "outputId": "0a892e8f-e772-447a-9352-93d8d29cf1db"
      },
      "execution_count": null,
      "outputs": [
        {
          "output_type": "stream",
          "name": "stderr",
          "text": [
            "/usr/local/lib/python3.7/dist-packages/seaborn/_decorators.py:43: FutureWarning: Pass the following variable as a keyword arg: x. From version 0.12, the only valid positional argument will be `data`, and passing other arguments without an explicit keyword will result in an error or misinterpretation.\n",
            "  FutureWarning\n"
          ]
        },
        {
          "output_type": "execute_result",
          "data": {
            "text/plain": [
              "<matplotlib.axes._subplots.AxesSubplot at 0x7fb429fd9350>"
            ]
          },
          "metadata": {},
          "execution_count": 30
        },
        {
          "output_type": "display_data",
          "data": {
            "text/plain": [
              "<Figure size 432x288 with 1 Axes>"
            ],
            "image/png": "[encoded data removed]"
          },
          "metadata": {
            "needs_background": "light"
          }
        }
      ]
    },
    {
      "cell_type": "code",
      "source": [
        "# sns.countplot(y_test['stars'])\n",
        "# np.unique(y_test, counts=TRUE)"
      ],
      "metadata": {
        "id": "XsOT0zY6hpaT"
      },
      "execution_count": null,
      "outputs": []
    },
    {
      "cell_type": "code",
      "source": [
        ""
      ],
      "metadata": {
        "id": "CKfwlIr_RQnE"
      },
      "execution_count": null,
      "outputs": []
    },
    {
      "cell_type": "markdown",
      "source": [
        "**RESTARTING FROM HERE**"
      ],
      "metadata": {
        "id": "TgMOjo7zHdTw"
      }
    },
    {
      "cell_type": "code",
      "source": [
        "tokenizer = BertTokenizer.from_pretrained('bert-base-cased')\n",
        "bert_model = TFBertModel.from_pretrained('bert-base-cased')"
      ],
      "metadata": {
        "colab": {
          "base_uri": "https://localhost:8080/"
        },
        "id": "lS63TPeGjDsB",
        "outputId": "e6b44032-6236-4d8d-ede1-a4ef3cfef3bd"
      },
      "execution_count": null,
      "outputs": [
        {
          "output_type": "stream",
          "name": "stderr",
          "text": [
            "Some layers from the model checkpoint at bert-base-cased were not used when initializing TFBertModel: ['mlm___cls', 'nsp___cls']\n",
            "- This IS expected if you are initializing TFBertModel from the checkpoint of a model trained on another task or with another architecture (e.g. initializing a BertForSequenceClassification model from a BertForPreTraining model).\n",
            "- This IS NOT expected if you are initializing TFBertModel from the checkpoint of a model that you expect to be exactly identical (initializing a BertForSequenceClassification model from a BertForSequenceClassification model).\n",
            "All the layers of TFBertModel were initialized from the model checkpoint at bert-base-cased.\n",
            "If your task is similar to the task the model of the checkpoint was trained on, you can already use TFBertModel for predictions without further training.\n"
          ]
        }
      ]
    },
    {
      "cell_type": "code",
      "source": [
        "[x for x in X_train['text'][:5]]"
      ],
      "metadata": {
        "colab": {
          "base_uri": "https://localhost:8080/"
        },
        "id": "69rs1W_OJGQ3",
        "outputId": "077aeec7-2623-4610-f592-4510c8df56da"
      },
      "execution_count": null,
      "outputs": [
        {
          "output_type": "execute_result",
          "data": {
            "text/plain": [
              "['This place gives so much food.. I felt like I wasted.. everything was great.. service she was sweet',\n",
              " \"Will definitely be using Cooper Party Rentals again! Not only do they have more than fair pricing, the owner was super nice and quick to respond to any of my questions or concerns. We rented 4 round tables and 30 white chairs. Everything was dropped off and picked up super conveniently and in a timely manner.  We had initially planned to have our event in May for my sister's grad party and had to reschedule due to COVID. Dane was super understanding and flexible around our new proposed dates.\",\n",
              " \"I watched the woman making my coffee use a dirty rag that she just wiped the counters with on my lid. I asked for a new lid and she gave me an attitude. That's dangerously unsanitary. Train your employees.\",\n",
              " 'Good value, tasty food, quick service. A nice alternative when I get tired of chipotle',\n",
              " \"I love Yats! I thought I wrote a review for Yats before but maybe I haven't and that's hella shocking because Yats is life! \\n\\nYats is creole comfort food that some may beg to differ depending on their taste buds but I love Yats. I will be in NOLA in July and I will compare but I am sure my buds will say Yats lol \\n\\nWhatever your vice is, Yats is the way to go. They used to give out IOU's for those that did not have cash and only cards which screamed loved for me. They now have CC machines so too bad those who were wishing on a possible eat here, play later idea. \\n\\nYats has meals for both vegetarians and meatatarians. Their BB is the boss! It's black beans and corn, sweet and spicy. They also have many other vegetarian options. Their crawfish etouffee is life as well. Anything really is great here. Get extra bread to sop up the back tray pockets. \\n\\nAffordable, flavorful, you won't be disappointed!\"]"
            ]
          },
          "metadata": {},
          "execution_count": 33
        }
      ]
    },
    {
      "cell_type": "code",
      "source": [
        "#import tensorflow_datasets as tfds\n",
        "\n",
        "# train_data, test_data = tfds.load(\n",
        "#     name=\"imdb_reviews\", \n",
        "#     split=('train[:80%]', 'test[80%:]'),\n",
        "#     as_supervised=True)\n",
        "\n",
        "# train_examples_batch, train_labels_batch = next(iter(train_data.batch(20000)))\n",
        "# test_examples_batch, test_labels_batch = next(iter(test_data.batch(5000)))"
      ],
      "metadata": {
        "id": "wM1Mz75EJrcI"
      },
      "execution_count": null,
      "outputs": []
    },
    {
      "cell_type": "code",
      "source": [
        "#train_examples_batch[:5]\n",
        "#train_labels_batch[:5]"
      ],
      "metadata": {
        "id": "zBWowuvYKI6u"
      },
      "execution_count": null,
      "outputs": []
    },
    {
      "cell_type": "code",
      "source": [
        "tf.convert_to_tensor(X_train['text'][:5])"
      ],
      "metadata": {
        "colab": {
          "base_uri": "https://localhost:8080/"
        },
        "id": "0QRVZyNwKg_E",
        "outputId": "0bada492-1ea2-4a75-8527-eac548800032"
      },
      "execution_count": null,
      "outputs": [
        {
          "output_type": "execute_result",
          "data": {
            "text/plain": [
              "<tf.Tensor: shape=(5,), dtype=string, numpy=\n",
              "array([b'This place gives so much food.. I felt like I wasted.. everything was great.. service she was sweet',\n",
              "       b\"Will definitely be using Cooper Party Rentals again! Not only do they have more than fair pricing, the owner was super nice and quick to respond to any of my questions or concerns. We rented 4 round tables and 30 white chairs. Everything was dropped off and picked up super conveniently and in a timely manner.  We had initially planned to have our event in May for my sister's grad party and had to reschedule due to COVID. Dane was super understanding and flexible around our new proposed dates.\",\n",
              "       b\"I watched the woman making my coffee use a dirty rag that she just wiped the counters with on my lid. I asked for a new lid and she gave me an attitude. That's dangerously unsanitary. Train your employees.\",\n",
              "       b'Good value, tasty food, quick service. A nice alternative when I get tired of chipotle',\n",
              "       b\"I love Yats! I thought I wrote a review for Yats before but maybe I haven't and that's hella shocking because Yats is life! \\n\\nYats is creole comfort food that some may beg to differ depending on their taste buds but I love Yats. I will be in NOLA in July and I will compare but I am sure my buds will say Yats lol \\n\\nWhatever your vice is, Yats is the way to go. They used to give out IOU's for those that did not have cash and only cards which screamed loved for me. They now have CC machines so too bad those who were wishing on a possible eat here, play later idea. \\n\\nYats has meals for both vegetarians and meatatarians. Their BB is the boss! It's black beans and corn, sweet and spicy. They also have many other vegetarian options. Their crawfish etouffee is life as well. Anything really is great here. Get extra bread to sop up the back tray pockets. \\n\\nAffordable, flavorful, you won't be disappointed!\"],\n",
              "      dtype=object)>"
            ]
          },
          "metadata": {},
          "execution_count": 36
        }
      ]
    },
    {
      "cell_type": "code",
      "source": [
        "num_train_examples = 80000\n",
        "num_test_examples = 20000\n",
        "\n",
        "max_length = 512\n",
        "\n",
        "X_train_tokenized = tokenizer([str(x.numpy())[2:] for x in tf.convert_to_tensor(X_train['text'][:num_train_examples])], \n",
        "              max_length=max_length,\n",
        "              truncation=True,\n",
        "              padding='max_length', \n",
        "              return_tensors='tf')\n",
        "\n",
        "y_train_tokenized = tf.convert_to_tensor(y_train['stars'][:num_train_examples])\n",
        "\n",
        "x_test_tokenized = tokenizer([str(x.numpy())[2:] for x in tf.convert_to_tensor(X_test['text'][:num_test_examples])], \n",
        "              max_length=max_length,\n",
        "              truncation=True,\n",
        "              padding='max_length', \n",
        "              return_tensors='tf')\n",
        "\n",
        "y_test_tokenized = tf.convert_to_tensor(y_test['stars'][:num_test_examples])"
      ],
      "metadata": {
        "id": "lmYxTPvYIHx2"
      },
      "execution_count": null,
      "outputs": []
    },
    {
      "cell_type": "code",
      "source": [
        "X_train_tokenized"
      ],
      "metadata": {
        "colab": {
          "base_uri": "https://localhost:8080/"
        },
        "id": "BuCmfPlLLKrk",
        "outputId": "68fbcf1b-19ca-4113-9efc-7fc3be47b805"
      },
      "execution_count": null,
      "outputs": [
        {
          "output_type": "execute_result",
          "data": {
            "text/plain": [
              "{'input_ids': <tf.Tensor: shape=(80000, 512), dtype=int32, numpy=\n",
              "array([[  101,  1188,  1282, ...,     0,     0,     0],\n",
              "       [  101,  3100,  5397, ...,     0,     0,     0],\n",
              "       [  101,   146,  2542, ...,     0,     0,     0],\n",
              "       ...,\n",
              "       [  101,  5033,  1110, ...,     0,     0,     0],\n",
              "       [  101, 23158,  1204, ...,     0,     0,     0],\n",
              "       [  101,  9800, 27788, ...,     0,     0,     0]], dtype=int32)>, 'token_type_ids': <tf.Tensor: shape=(80000, 512), dtype=int32, numpy=\n",
              "array([[0, 0, 0, ..., 0, 0, 0],\n",
              "       [0, 0, 0, ..., 0, 0, 0],\n",
              "       [0, 0, 0, ..., 0, 0, 0],\n",
              "       ...,\n",
              "       [0, 0, 0, ..., 0, 0, 0],\n",
              "       [0, 0, 0, ..., 0, 0, 0],\n",
              "       [0, 0, 0, ..., 0, 0, 0]], dtype=int32)>, 'attention_mask': <tf.Tensor: shape=(80000, 512), dtype=int32, numpy=\n",
              "array([[1, 1, 1, ..., 0, 0, 0],\n",
              "       [1, 1, 1, ..., 0, 0, 0],\n",
              "       [1, 1, 1, ..., 0, 0, 0],\n",
              "       ...,\n",
              "       [1, 1, 1, ..., 0, 0, 0],\n",
              "       [1, 1, 1, ..., 0, 0, 0],\n",
              "       [1, 1, 1, ..., 0, 0, 0]], dtype=int32)>}"
            ]
          },
          "metadata": {},
          "execution_count": 38
        }
      ]
    },
    {
      "cell_type": "code",
      "source": [
        "# ?bert_model()"
      ],
      "metadata": {
        "id": "k4eAZ9jNYl7z"
      },
      "execution_count": null,
      "outputs": []
    },
    {
      "cell_type": "code",
      "source": [
        "#bert_out = bert_model(X_train_tokenized)"
      ],
      "metadata": {
        "id": "HaUJpDvQLiHD"
      },
      "execution_count": null,
      "outputs": []
    },
    {
      "cell_type": "code",
      "source": [
        "#bert_out[0].numpy().shape\n",
        "# Batch size, max length, encoding"
      ],
      "metadata": {
        "id": "uinXzHkGNHvk"
      },
      "execution_count": null,
      "outputs": []
    },
    {
      "cell_type": "code",
      "source": [
        "#bert_out[1].numpy().shape\n",
        "# this is the classification encoding, which we will feed to the classification layer"
      ],
      "metadata": {
        "id": "wZivzjOcNmni"
      },
      "execution_count": null,
      "outputs": []
    },
    {
      "cell_type": "code",
      "source": [
        "input_ids = tf.keras.layers.Input(shape=(max_length,), dtype=tf.int32, name='input_ids_layer')\n",
        "token_type_ids = tf.keras.layers.Input(shape=(max_length,), dtype=tf.int32, name='token_types_ids_layer')\n",
        "attention_masks = tf.keras.layers.Input(shape=(max_length,), dtype=tf.int32, name='attention_masks_layer')"
      ],
      "metadata": {
        "id": "OPQwsmjWNyFJ"
      },
      "execution_count": null,
      "outputs": []
    },
    {
      "cell_type": "code",
      "source": [
        "bert_inputs = {'input_ids': input_ids,\n",
        "               'token_type_ids': token_type_ids,\n",
        "               'attention_masks': attention_masks\n",
        "               }"
      ],
      "metadata": {
        "id": "IXRii7xYOiNQ"
      },
      "execution_count": null,
      "outputs": []
    },
    {
      "cell_type": "code",
      "source": [
        "bert_out = bert_model(bert_inputs)[1]"
      ],
      "metadata": {
        "id": "PdMmOhyPPDs6"
      },
      "execution_count": null,
      "outputs": []
    },
    {
      "cell_type": "code",
      "source": [
        "hidden_out = tf.keras.layers.Dense(200, activation='relu')(bert_out)\n"
      ],
      "metadata": {
        "id": "iTEdzGeWQctH"
      },
      "execution_count": null,
      "outputs": []
    },
    {
      "cell_type": "code",
      "source": [
        "classification_out = tf.keras.layers.Dense(5, activation='sigmoid')(hidden_out)\n",
        "# Used 6 categories just to see if this would run (knowing there isn't a 6th category)...\n",
        "# Need to either 1-hot encode the data here (and use categorical cross-entropy) or transform the prediction categories to 0-4 (sparse doesn't like starting at 1 instead of 0)"
      ],
      "metadata": {
        "id": "0R-ot6LaQc5u"
      },
      "execution_count": null,
      "outputs": []
    },
    {
      "cell_type": "code",
      "source": [
        "classification_model = tf.keras.Model(inputs=[input_ids, token_type_ids, attention_masks], outputs=[classification_out])"
      ],
      "metadata": {
        "id": "7gz5YWt9P9CA"
      },
      "execution_count": null,
      "outputs": []
    },
    {
      "cell_type": "code",
      "source": [
        "# ?tf.keras.losses.SparseCategoricalCrossentropy"
      ],
      "metadata": {
        "id": "icZM-pI0u0ai"
      },
      "execution_count": null,
      "outputs": []
    },
    {
      "cell_type": "code",
      "source": [
        "classification_model.compile(optimizer=tf.keras.optimizers.Adam(learning_rate=.00001), \n",
        "                             loss = tf.keras.losses.SparseCategoricalCrossentropy(),\n",
        "                             metrics='accuracy')"
      ],
      "metadata": {
        "id": "uWGYdNkZROZW"
      },
      "execution_count": null,
      "outputs": []
    },
    {
      "cell_type": "code",
      "source": [
        "classification_model.summary()"
      ],
      "metadata": {
        "id": "hApspdAXQO5I",
        "colab": {
          "base_uri": "https://localhost:8080/"
        },
        "outputId": "51456eda-c8e5-4642-9ef3-1859c856e9af"
      },
      "execution_count": null,
      "outputs": [
        {
          "output_type": "stream",
          "name": "stdout",
          "text": [
            "Model: \"model\"\n",
            "__________________________________________________________________________________________________\n",
            " Layer (type)                   Output Shape         Param #     Connected to                     \n",
            "==================================================================================================\n",
            " attention_masks_layer (InputLa  [(None, 512)]       0           []                               \n",
            " yer)                                                                                             \n",
            "                                                                                                  \n",
            " input_ids_layer (InputLayer)   [(None, 512)]        0           []                               \n",
            "                                                                                                  \n",
            " token_types_ids_layer (InputLa  [(None, 512)]       0           []                               \n",
            " yer)                                                                                             \n",
            "                                                                                                  \n",
            " tf_bert_model (TFBertModel)    TFBaseModelOutputWi  108310272   ['attention_masks_layer[0][0]',  \n",
            "                                thPoolingAndCrossAt               'input_ids_layer[0][0]',        \n",
            "                                tentions(last_hidde               'token_types_ids_layer[0][0]']  \n",
            "                                n_state=(None, 512,                                               \n",
            "                                 768),                                                            \n",
            "                                 pooler_output=(Non                                               \n",
            "                                e, 768),                                                          \n",
            "                                 past_key_values=No                                               \n",
            "                                ne, hidden_states=N                                               \n",
            "                                one, attentions=Non                                               \n",
            "                                e, cross_attentions                                               \n",
            "                                =None)                                                            \n",
            "                                                                                                  \n",
            " dense (Dense)                  (None, 200)          153800      ['tf_bert_model[0][1]']          \n",
            "                                                                                                  \n",
            " dense_1 (Dense)                (None, 5)            1005        ['dense[0][0]']                  \n",
            "                                                                                                  \n",
            "==================================================================================================\n",
            "Total params: 108,465,077\n",
            "Trainable params: 108,465,077\n",
            "Non-trainable params: 0\n",
            "__________________________________________________________________________________________________\n"
          ]
        }
      ]
    },
    {
      "cell_type": "code",
      "source": [
        "classification_model.fit([X_train_tokenized.input_ids, X_train_tokenized.token_type_ids, X_train_tokenized.attention_mask],\n",
        "                         y_train_tokenized,\n",
        "                         validation_data=([x_test_tokenized.input_ids, x_test_tokenized.token_type_ids, x_test_tokenized.attention_mask],\n",
        "                                          y_test_tokenized),\n",
        "                         epochs=3,\n",
        "                         batch_size=10)"
      ],
      "metadata": {
        "id": "rH-b3-t9sy6c",
        "colab": {
          "base_uri": "https://localhost:8080/"
        },
        "outputId": "45a3a959-bd9a-4e4c-e732-06e4b94823f1"
      },
      "execution_count": null,
      "outputs": [
        {
          "output_type": "stream",
          "name": "stdout",
          "text": [
            "Epoch 1/3\n",
            "8000/8000 [==============================] - 6012s 751ms/step - loss: 0.8818 - accuracy: 0.6093 - val_loss: 0.7539 - val_accuracy: 0.6694\n",
            "Epoch 2/3\n",
            "8000/8000 [==============================] - 6004s 751ms/step - loss: 0.7006 - accuracy: 0.6956 - val_loss: 0.7452 - val_accuracy: 0.6712\n",
            "Epoch 3/3\n",
            "8000/8000 [==============================] - 6005s 751ms/step - loss: 0.5896 - accuracy: 0.7472 - val_loss: 0.7750 - val_accuracy: 0.6747\n"
          ]
        },
        {
          "output_type": "execute_result",
          "data": {
            "text/plain": [
              "<keras.callbacks.History at 0x7fb37e3c6650>"
            ]
          },
          "metadata": {},
          "execution_count": 53
        }
      ]
    },
    {
      "cell_type": "code",
      "source": [
        "predictions = classification_model.predict([X_train_tokenized.input_ids, X_train_tokenized.token_type_ids, X_train_tokenized.attention_mask]#,\n",
        "                             #batch_size=1,\n",
        "                             #steps=80000)\n",
        ")"
      ],
      "metadata": {
        "id": "a9dAQbIv05k8"
      },
      "execution_count": null,
      "outputs": []
    },
    {
      "cell_type": "code",
      "source": [
        "preds = []\n",
        "for pred in predictions:\n",
        "  preds.append(np.argmax(pred))\n",
        "\n",
        "np.unique(preds)"
      ],
      "metadata": {
        "id": "PIVaJKIwkx8s",
        "colab": {
          "base_uri": "https://localhost:8080/"
        },
        "outputId": "5971e1a0-50d7-41ef-c72c-a5c31356f970"
      },
      "execution_count": null,
      "outputs": [
        {
          "output_type": "execute_result",
          "data": {
            "text/plain": [
              "array([0, 1, 2, 3, 4])"
            ]
          },
          "metadata": {},
          "execution_count": 76
        }
      ]
    },
    {
      "cell_type": "code",
      "source": [
        "predictions.shape"
      ],
      "metadata": {
        "colab": {
          "base_uri": "https://localhost:8080/"
        },
        "id": "BR6As7bi4_hP",
        "outputId": "1fd6d63a-e330-4c37-d2a6-ccfe7feb1814"
      },
      "execution_count": null,
      "outputs": [
        {
          "output_type": "execute_result",
          "data": {
            "text/plain": [
              "(80000, 5)"
            ]
          },
          "metadata": {},
          "execution_count": 77
        }
      ]
    },
    {
      "cell_type": "code",
      "source": [
        "predictions"
      ],
      "metadata": {
        "colab": {
          "base_uri": "https://localhost:8080/"
        },
        "id": "SBN4_kD15xnx",
        "outputId": "08409d38-17c5-4a3c-b30f-26463ee6bdf7"
      },
      "execution_count": null,
      "outputs": [
        {
          "output_type": "execute_result",
          "data": {
            "text/plain": [
              "array([[0.03626691, 0.05791741, 0.21747778, 0.62491596, 0.83137155],\n",
              "       [0.00969902, 0.01243679, 0.07472925, 0.89667344, 0.9892826 ],\n",
              "       [0.9854854 , 0.7612911 , 0.2053543 , 0.02133091, 0.02478397],\n",
              "       ...,\n",
              "       [0.97351855, 0.8721985 , 0.31855977, 0.01945437, 0.01431295],\n",
              "       [0.01162514, 0.36174682, 0.97523266, 0.78721195, 0.05085443],\n",
              "       [0.99668056, 0.58956647, 0.12467027, 0.01727189, 0.02502814]],\n",
              "      dtype=float32)"
            ]
          },
          "metadata": {},
          "execution_count": 78
        }
      ]
    },
    {
      "cell_type": "code",
      "source": [
        "predictions.to_csv('BERT_Predictions_80k.csv', index=False)"
      ],
      "metadata": {
        "id": "hWjtQIl-a4Nj"
      },
      "execution_count": null,
      "outputs": []
    },
    {
      "cell_type": "code",
      "source": [
        "(np.sum(y_train['stars'][:num_train_examples] == 4)) / (len(y_train['stars'][:num_train_examples]))\n",
        "# Train 5s"
      ],
      "metadata": {
        "id": "6EM7uVryRZXW",
        "colab": {
          "base_uri": "https://localhost:8080/"
        },
        "outputId": "d3ec2e98-e600-4c81-9626-af6ebce20a8f"
      },
      "execution_count": null,
      "outputs": [
        {
          "output_type": "execute_result",
          "data": {
            "text/plain": [
              "0.199775"
            ]
          },
          "metadata": {},
          "execution_count": 56
        }
      ]
    },
    {
      "cell_type": "code",
      "source": [
        "(np.sum(y_test['stars'][:num_test_examples] == 4)) / (len(y_test['stars'][:num_test_examples]))\n",
        "# Test 5s (baseline)"
      ],
      "metadata": {
        "id": "2bORhgQYmO1q",
        "colab": {
          "base_uri": "https://localhost:8080/"
        },
        "outputId": "8455e671-bebe-4057-b6f1-7fe45e6cf649"
      },
      "execution_count": null,
      "outputs": [
        {
          "output_type": "execute_result",
          "data": {
            "text/plain": [
              "0.2009"
            ]
          },
          "metadata": {},
          "execution_count": 57
        }
      ]
    },
    {
      "cell_type": "code",
      "source": [
        "np.sum(y_test['stars'][:num_test_examples] == 0)"
      ],
      "metadata": {
        "id": "sXIMc45rAfOV",
        "colab": {
          "base_uri": "https://localhost:8080/"
        },
        "outputId": "5a3dfc9d-fa89-477e-c658-41c6bca0a25e"
      },
      "execution_count": null,
      "outputs": [
        {
          "output_type": "execute_result",
          "data": {
            "text/plain": [
              "4089"
            ]
          },
          "metadata": {},
          "execution_count": 58
        }
      ]
    },
    {
      "cell_type": "code",
      "source": [
        "np.unique(y_test['stars'][:num_test_examples])"
      ],
      "metadata": {
        "id": "AkdzWBZIn3pH",
        "colab": {
          "base_uri": "https://localhost:8080/"
        },
        "outputId": "76b8191c-9bf2-4097-cd99-55c9c390ffac"
      },
      "execution_count": null,
      "outputs": [
        {
          "output_type": "execute_result",
          "data": {
            "text/plain": [
              "array([0., 1., 2., 3., 4.])"
            ]
          },
          "metadata": {},
          "execution_count": 59
        }
      ]
    },
    {
      "cell_type": "markdown",
      "source": [
        "**Problems to Address**\n",
        "* Need to tap into local resources (GPU) to speed processing - may need to specify in the model to utilize the GPU (and change runtime settings)\n",
        "* ***RESOLVED*** Accuracy could be quite low because of such a small data set\n",
        "* ***INCORPORATED*** We should get another dataset that is class-balanced\n",
        "* ***FIXED:*** Loss is way too low... need to investigate this, because it should start higher... first thought was learning rate was too high, but stayed the same at .01 Adam. Maybe this has more to do with the # of categories, which would exmplain the low accuracy and the low loss\n",
        "* ***DONE:*** Need to resolve the wrong number of categories predicted (should be 5, only returning 1)... I think I have the wrong number of neurons in the final prediction layers"
      ],
      "metadata": {
        "id": "qdCa2pH82Hmj"
      }
    },
    {
      "cell_type": "code",
      "source": [
        ""
      ],
      "metadata": {
        "id": "ZrF5M9oS9yjM"
      },
      "execution_count": null,
      "outputs": []
    }
  ]
}