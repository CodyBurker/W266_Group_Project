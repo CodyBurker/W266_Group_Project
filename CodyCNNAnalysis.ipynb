{
  "cells": [
    {
      "cell_type": "markdown",
      "metadata": {
        "id": "view-in-github",
        "colab_type": "text"
      },
      "source": [
        "<a href=\"https://colab.research.google.com/github/CodyBurker/W266_Group_Project/blob/CodyCNNBase/CodyCNNAnalysis.ipynb\" target=\"_parent\"><img src=\"https://colab.research.google.com/assets/colab-badge.svg\" alt=\"Open In Colab\"/></a>"
      ]
    },
    {
      "cell_type": "markdown",
      "id": "8c60a99a",
      "metadata": {
        "id": "8c60a99a"
      },
      "source": [
        "Based on: https://machinelearningmastery.com/develop-word-embedding-model-predicting-movie-review-sentiment/"
      ]
    },
    {
      "cell_type": "code",
      "execution_count": 6,
      "id": "d3d43e6b",
      "metadata": {
        "id": "d3d43e6b"
      },
      "outputs": [],
      "source": [
        "import pandas as pd\n",
        "import string\n",
        "from nltk.corpus import stopwords\n",
        "import nltk"
      ]
    },
    {
      "cell_type": "code",
      "source": [
        "!git clone https://github.com/CodyBurker/W266_Group_Project"
      ],
      "metadata": {
        "colab": {
          "base_uri": "https://localhost:8080/"
        },
        "id": "0LMKJsWAWDCN",
        "outputId": "5b525c0f-1ceb-44f1-e8e1-01c75d96804f"
      },
      "id": "0LMKJsWAWDCN",
      "execution_count": 5,
      "outputs": [
        {
          "output_type": "stream",
          "name": "stdout",
          "text": [
            "Cloning into 'W266_Group_Project'...\n",
            "remote: Enumerating objects: 32, done.\u001b[K\n",
            "remote: Counting objects: 100% (32/32), done.\u001b[K\n",
            "remote: Compressing objects: 100% (26/26), done.\u001b[K\n",
            "remote: Total 32 (delta 8), reused 22 (delta 2), pack-reused 0\u001b[K\n",
            "Unpacking objects: 100% (32/32), done.\n",
            "Checking out files: 100% (9/9), done.\n"
          ]
        }
      ]
    },
    {
      "cell_type": "code",
      "execution_count": 7,
      "id": "4052af92",
      "metadata": {
        "id": "4052af92"
      },
      "outputs": [],
      "source": [
        "def read_in_data(path=\"W266_Group_Project/\"):\n",
        "    import pandas as pd\n",
        "    X_train = pd.read_csv(path + \"x_train_sampled_yelp_data.csv\")\n",
        "    y_train = pd.read_csv(path + \"y_train_sampled_yelp_data.csv\")\n",
        "    X_test = pd.read_csv(path + \"x_test_sampled_yelp_data.csv\")\n",
        "    y_test = pd.read_csv(path + \"y_test_sampled_yelp_data.csv\")\n",
        "    return X_train, X_test, y_train, y_test"
      ]
    },
    {
      "cell_type": "code",
      "execution_count": 15,
      "id": "6b7aac4d",
      "metadata": {
        "id": "6b7aac4d"
      },
      "outputs": [],
      "source": [
        " X_train, X_test, y_train, y_test = read_in_data()"
      ]
    },
    {
      "cell_type": "markdown",
      "source": [
        "https://towardsdev.com/sentiment-analysis-with-cnn-using-keras-c4debff57fc5?gi=708b4ef40e2f"
      ],
      "metadata": {
        "id": "ceOrQM3YXY7t"
      },
      "id": "ceOrQM3YXY7t"
    },
    {
      "cell_type": "markdown",
      "source": [
        "Encode text and pad it."
      ],
      "metadata": {
        "id": "YuZGKY5XY3VG"
      },
      "id": "YuZGKY5XY3VG"
    },
    {
      "cell_type": "code",
      "source": [
        "from keras_preprocessing.text import Tokenizer\n",
        "from keras_preprocessing.sequence import pad_sequences"
      ],
      "metadata": {
        "id": "o90nvLmLXs_Q"
      },
      "id": "o90nvLmLXs_Q",
      "execution_count": 9,
      "outputs": []
    },
    {
      "cell_type": "code",
      "source": [
        "tokenizer = Tokenizer()\n",
        "tokenizer.fit_on_texts(X_train['text'])\n"
      ],
      "metadata": {
        "id": "IQa1fPakXyT0"
      },
      "id": "IQa1fPakXyT0",
      "execution_count": 10,
      "outputs": []
    },
    {
      "cell_type": "code",
      "source": [
        "X_train['encoded'] = tokenizer.texts_to_sequences(X_train['text'])\n",
        "X_test['encoded'] = tokenizer.texts_to_sequences(X_test['text'])"
      ],
      "metadata": {
        "id": "5GbdV6xOX2WP"
      },
      "id": "5GbdV6xOX2WP",
      "execution_count": 11,
      "outputs": []
    },
    {
      "cell_type": "code",
      "source": [
        "# Hyper parameters to tune later: maxlen, padding\n",
        "sentence_len = 10000\n",
        "X_train_encoded =  pad_sequences(X_train['encoded'], maxlen=sentence_len, padding='post')\n",
        "X_test_encoded = pad_sequences(X_test['encoded'], maxlen=sentence_len, padding='post')\n",
        "print(X_train_encoded.shape)\n",
        "print(X_test_encoded.shape)"
      ],
      "metadata": {
        "colab": {
          "base_uri": "https://localhost:8080/"
        },
        "id": "3kIdvlqjYs6u",
        "outputId": "7eb9195a-276d-40f1-9664-9fc5e5ea4f9f"
      },
      "id": "3kIdvlqjYs6u",
      "execution_count": 12,
      "outputs": [
        {
          "output_type": "stream",
          "name": "stdout",
          "text": [
            "(80000, 10000)\n",
            "(20000, 10000)\n"
          ]
        }
      ]
    },
    {
      "cell_type": "markdown",
      "source": [
        "Create model"
      ],
      "metadata": {
        "id": "uGdstENkcNaq"
      },
      "id": "uGdstENkcNaq"
    },
    {
      "cell_type": "code",
      "source": [
        "from keras import Sequential\n",
        "from keras.layers import Dense, Embedding, Activation, Dropout\n",
        "from keras.layers import  MaxPool1D, GlobalMaxPool1D, Conv1D\n",
        "vocab_size = len(tokenizer.word_counts)\n",
        "\n",
        "model = Sequential()\n",
        "model.add(Embedding(vocab_size,300, input_length = sentence_len))\n",
        "model.add(Conv1D(64,8,activation=\"relu\"))\n",
        "model.add(MaxPool1D(2))\n",
        "\n",
        "model.add(Dense(32, activation=\"relu\"))\n",
        "model.add(Dropout(0.5))\n",
        "model.add(Dense(16,activation='relu'))\n",
        "model.add(GlobalMaxPool1D())\n",
        "model.add(Dense(3,activation='softmax'))\n",
        "model.summary()\n",
        "\n"
      ],
      "metadata": {
        "colab": {
          "base_uri": "https://localhost:8080/"
        },
        "id": "whze4UbCbV1N",
        "outputId": "6fd00f87-1c3c-42ff-d27b-04d2195c7cfd"
      },
      "id": "whze4UbCbV1N",
      "execution_count": 13,
      "outputs": [
        {
          "output_type": "stream",
          "name": "stdout",
          "text": [
            "Model: \"sequential\"\n",
            "_________________________________________________________________\n",
            " Layer (type)                Output Shape              Param #   \n",
            "=================================================================\n",
            " embedding (Embedding)       (None, 10000, 300)        23360400  \n",
            "                                                                 \n",
            " conv1d (Conv1D)             (None, 9993, 64)          153664    \n",
            "                                                                 \n",
            " max_pooling1d (MaxPooling1D  (None, 4996, 64)         0         \n",
            " )                                                               \n",
            "                                                                 \n",
            " dense (Dense)               (None, 4996, 32)          2080      \n",
            "                                                                 \n",
            " dropout (Dropout)           (None, 4996, 32)          0         \n",
            "                                                                 \n",
            " dense_1 (Dense)             (None, 4996, 16)          528       \n",
            "                                                                 \n",
            " global_max_pooling1d (Globa  (None, 16)               0         \n",
            " lMaxPooling1D)                                                  \n",
            "                                                                 \n",
            " dense_2 (Dense)             (None, 3)                 51        \n",
            "                                                                 \n",
            "=================================================================\n",
            "Total params: 23,516,723\n",
            "Trainable params: 23,516,723\n",
            "Non-trainable params: 0\n",
            "_________________________________________________________________\n"
          ]
        }
      ]
    },
    {
      "cell_type": "code",
      "source": [
        "model.compile(optimizer='adam', loss='mse',metrics=['mse'])"
      ],
      "metadata": {
        "id": "ScDnJ18_er4q"
      },
      "id": "ScDnJ18_er4q",
      "execution_count": 14,
      "outputs": []
    },
    {
      "cell_type": "code",
      "source": [
        "model.fit(X_train_encoded,y_train, epochs=1, validation_data = [X_test_encoded, y_test])"
      ],
      "metadata": {
        "colab": {
          "base_uri": "https://localhost:8080/"
        },
        "id": "nurpxe8_cTyi",
        "outputId": "c4d02c61-8bcc-4a03-f0de-f4d9bd09aa4f"
      },
      "id": "nurpxe8_cTyi",
      "execution_count": 17,
      "outputs": [
        {
          "output_type": "stream",
          "name": "stdout",
          "text": [
            "2500/2500 [==============================] - 288s 115ms/step - loss: 13.6736 - mse: 13.6736 - val_loss: 13.6966 - val_mse: 13.6966\n"
          ]
        },
        {
          "output_type": "execute_result",
          "data": {
            "text/plain": [
              "<keras.callbacks.History at 0x7f20d0bec710>"
            ]
          },
          "metadata": {},
          "execution_count": 17
        }
      ]
    }
  ],
  "metadata": {
    "kernelspec": {
      "display_name": "conda_tensorflow2_latest_p37",
      "language": "python",
      "name": "conda_tensorflow2_latest_p37"
    },
    "language_info": {
      "codemirror_mode": {
        "name": "ipython",
        "version": 3
      },
      "file_extension": ".py",
      "mimetype": "text/x-python",
      "name": "python",
      "nbconvert_exporter": "python",
      "pygments_lexer": "ipython3",
      "version": "3.7.10"
    },
    "colab": {
      "name": "CodyCNNAnalysis.ipynb",
      "provenance": [],
      "include_colab_link": true
    },
    "accelerator": "GPU"
  },
  "nbformat": 4,
  "nbformat_minor": 5
}