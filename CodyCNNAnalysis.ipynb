{
 "cells": [
  {
   "cell_type": "markdown",
   "id": "8c60a99a",
   "metadata": {},
   "source": [
    "Based on: https://machinelearningmastery.com/develop-word-embedding-model-predicting-movie-review-sentiment/"
   ]
  },
  {
   "cell_type": "code",
   "execution_count": 42,
   "id": "d3d43e6b",
   "metadata": {},
   "outputs": [],
   "source": [
    "import pandas as pd\n",
    "import string\n",
    "from nltk.corpus import stopwords\n",
    "import nltk"
   ]
  },
  {
   "cell_type": "code",
   "execution_count": 36,
   "id": "4052af92",
   "metadata": {},
   "outputs": [],
   "source": [
    "def read_in_data():\n",
    "    import pandas as pd\n",
    "    X_train = pd.read_csv(\"x_train_sampled_yelp_data.csv\")\n",
    "    y_train = pd.read_csv(\"y_train_sampled_yelp_data.csv\")\n",
    "    X_test = pd.read_csv(\"x_test_sampled_yelp_data.csv\")\n",
    "    y_test = pd.read_csv(\"y_test_sampled_yelp_data.csv\")\n",
    "    return X_train, X_test, y_train, y_test"
   ]
  },
  {
   "cell_type": "code",
   "execution_count": 37,
   "id": "6b7aac4d",
   "metadata": {},
   "outputs": [],
   "source": [
    " X_train, X_test, y_train, y_test = read_in_data()"
   ]
  },
  {
   "cell_type": "code",
   "execution_count": 43,
   "id": "42d23729",
   "metadata": {},
   "outputs": [
    {
     "name": "stderr",
     "output_type": "stream",
     "text": [
      "[nltk_data] Downloading package stopwords to\n",
      "[nltk_data]     /home/ec2-user/nltk_data...\n",
      "[nltk_data]   Unzipping corpora/stopwords.zip.\n"
     ]
    }
   ],
   "source": [
    "# turn a doc into clean tokens\n",
    "nltk.download('stopwords')\n",
    "def clean_doc(doc):\n",
    "\t# split into tokens by white space\n",
    "\ttokens = doc.split()\n",
    "\t# remove punctuation from each token\n",
    "\ttable = str.maketrans('', '', string.punctuation)\n",
    "\ttokens = [w.translate(table) for w in tokens]\n",
    "\t# remove remaining tokens that are not alphabetic\n",
    "\ttokens = [word for word in tokens if word.isalpha()]\n",
    "\t# filter out stop words\n",
    "\tstop_words = set(stopwords.words('english'))\n",
    "\ttokens = [w for w in tokens if not w in stop_words]\n",
    "\t# filter out short tokens\n",
    "\ttokens = [word for word in tokens if len(word) > 1]\n",
    "\treturn tokens"
   ]
  },
  {
   "cell_type": "code",
   "execution_count": 45,
   "id": "d4d98127",
   "metadata": {},
   "outputs": [],
   "source": [
    "X_train['cleaned'] = X_train['text'].apply(clean_doc)\n",
    "X_test['cleaned'] = X_test"
   ]
  },
  {
   "cell_type": "code",
   "execution_count": 47,
   "id": "97f5921c",
   "metadata": {},
   "outputs": [
    {
     "data": {
      "text/html": [
       "<div>\n",
       "<style scoped>\n",
       "    .dataframe tbody tr th:only-of-type {\n",
       "        vertical-align: middle;\n",
       "    }\n",
       "\n",
       "    .dataframe tbody tr th {\n",
       "        vertical-align: top;\n",
       "    }\n",
       "\n",
       "    .dataframe thead th {\n",
       "        text-align: right;\n",
       "    }\n",
       "</style>\n",
       "<table border=\"1\" class=\"dataframe\">\n",
       "  <thead>\n",
       "    <tr style=\"text-align: right;\">\n",
       "      <th></th>\n",
       "      <th>text</th>\n",
       "      <th>date</th>\n",
       "      <th>cleaned</th>\n",
       "    </tr>\n",
       "  </thead>\n",
       "  <tbody>\n",
       "    <tr>\n",
       "      <th>0</th>\n",
       "      <td>Sunday afternoon savior. They are great! Helpe...</td>\n",
       "      <td>2018-08-06 00:17:29</td>\n",
       "      <td>[Sunday, afternoon, savior, They, great, Helpe...</td>\n",
       "    </tr>\n",
       "    <tr>\n",
       "      <th>1</th>\n",
       "      <td>Tuesday was my man and I's weekly wing night. ...</td>\n",
       "      <td>2010-11-11 07:10:55</td>\n",
       "      <td>[Tuesday, man, Is, weekly, wing, night, After,...</td>\n",
       "    </tr>\n",
       "    <tr>\n",
       "      <th>2</th>\n",
       "      <td>Everything is presented very nicely at Kishimo...</td>\n",
       "      <td>2015-04-29 19:10:30</td>\n",
       "      <td>[Everything, presented, nicely, Kishimoto, rea...</td>\n",
       "    </tr>\n",
       "    <tr>\n",
       "      <th>3</th>\n",
       "      <td>So good we are thinking of having them cater o...</td>\n",
       "      <td>2015-11-13 23:08:28</td>\n",
       "      <td>[So, good, thinking, cater, wedding, The, al, ...</td>\n",
       "    </tr>\n",
       "    <tr>\n",
       "      <th>4</th>\n",
       "      <td>Wow - pleasantly surprised!! Both my son and I...</td>\n",
       "      <td>2011-11-12 01:57:02</td>\n",
       "      <td>[Wow, pleasantly, surprised, Both, son, BLT, b...</td>\n",
       "    </tr>\n",
       "  </tbody>\n",
       "</table>\n",
       "</div>"
      ],
      "text/plain": [
       "                                                text                 date  \\\n",
       "0  Sunday afternoon savior. They are great! Helpe...  2018-08-06 00:17:29   \n",
       "1  Tuesday was my man and I's weekly wing night. ...  2010-11-11 07:10:55   \n",
       "2  Everything is presented very nicely at Kishimo...  2015-04-29 19:10:30   \n",
       "3  So good we are thinking of having them cater o...  2015-11-13 23:08:28   \n",
       "4  Wow - pleasantly surprised!! Both my son and I...  2011-11-12 01:57:02   \n",
       "\n",
       "                                             cleaned  \n",
       "0  [Sunday, afternoon, savior, They, great, Helpe...  \n",
       "1  [Tuesday, man, Is, weekly, wing, night, After,...  \n",
       "2  [Everything, presented, nicely, Kishimoto, rea...  \n",
       "3  [So, good, thinking, cater, wedding, The, al, ...  \n",
       "4  [Wow, pleasantly, surprised, Both, son, BLT, b...  "
      ]
     },
     "execution_count": 47,
     "metadata": {},
     "output_type": "execute_result"
    }
   ],
   "source": [
    "X_train.head()"
   ]
  },
  {
   "cell_type": "code",
   "execution_count": null,
   "id": "a43df682",
   "metadata": {},
   "outputs": [],
   "source": []
  }
 ],
 "metadata": {
  "kernelspec": {
   "display_name": "conda_tensorflow2_latest_p37",
   "language": "python",
   "name": "conda_tensorflow2_latest_p37"
  },
  "language_info": {
   "codemirror_mode": {
    "name": "ipython",
    "version": 3
   },
   "file_extension": ".py",
   "mimetype": "text/x-python",
   "name": "python",
   "nbconvert_exporter": "python",
   "pygments_lexer": "ipython3",
   "version": "3.7.10"
  }
 },
 "nbformat": 4,
 "nbformat_minor": 5
}
