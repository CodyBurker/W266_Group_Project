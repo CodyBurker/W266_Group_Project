{
  "cells": [
    {
      "cell_type": "markdown",
      "metadata": {
        "id": "view-in-github",
        "colab_type": "text"
      },
      "source": [
        "<a href=\"https://colab.research.google.com/github/CodyBurker/W266_Group_Project/blob/CodyCNNBase/CNN-Balanced.ipynb\" target=\"_parent\"><img src=\"https://colab.research.google.com/assets/colab-badge.svg\" alt=\"Open In Colab\"/></a>"
      ]
    },
    {
      "cell_type": "markdown",
      "id": "8c60a99a",
      "metadata": {
        "id": "8c60a99a"
      },
      "source": [
        "Based on: https://machinelearningmastery.com/develop-word-embedding-model-predicting-movie-review-sentiment/"
      ]
    },
    {
      "cell_type": "code",
      "execution_count": 1,
      "id": "d3d43e6b",
      "metadata": {
        "id": "d3d43e6b"
      },
      "outputs": [],
      "source": [
        "import pandas as pd\n",
        "import string\n",
        "from nltk.corpus import stopwords\n",
        "import nltk\n",
        "import numpy as np"
      ]
    },
    {
      "cell_type": "code",
      "source": [
        "!git clone https://github.com/CodyBurker/W266_Group_Project"
      ],
      "metadata": {
        "colab": {
          "base_uri": "https://localhost:8080/"
        },
        "id": "0LMKJsWAWDCN",
        "outputId": "0e0f4755-a7d3-422f-a91e-37790789a635"
      },
      "id": "0LMKJsWAWDCN",
      "execution_count": 2,
      "outputs": [
        {
          "output_type": "stream",
          "name": "stdout",
          "text": [
            "Cloning into 'W266_Group_Project'...\n",
            "remote: Enumerating objects: 96, done.\u001b[K\n",
            "remote: Counting objects: 100% (96/96), done.\u001b[K\n",
            "remote: Compressing objects: 100% (86/86), done.\u001b[K\n",
            "remote: Total 96 (delta 37), reused 32 (delta 5), pack-reused 0\u001b[K\n",
            "Unpacking objects: 100% (96/96), done.\n",
            "Checking out files: 100% (14/14), done.\n"
          ]
        }
      ]
    },
    {
      "cell_type": "code",
      "execution_count": 11,
      "id": "4052af92",
      "metadata": {
        "id": "4052af92"
      },
      "outputs": [],
      "source": [
        "X_train = pd.read_csv('W266_Group_Project/x_train_balanced.csv')\n",
        "y_train = pd.read_csv('W266_Group_Project/y_train_balanced.csv')\n",
        "X_test = pd.read_csv('W266_Group_Project/x_test_balanced.csv')\n",
        "# y_test = pd.read_csv('W266_Group_Project/y_test_balanced.csv')\n",
        "X_test = pd.read_csv('W266_Group_Project/x_test_sampled_yelp_data.csv')\n",
        "y_test = pd.read_csv('W266_Group_Project/y_test_sampled_yelp_data.csv')\n",
        "\n",
        "y_train = np.array(y_train.stars.astype('int')) - 1\n",
        "y_test = np.array(y_test.stars.astype('int')) - 1"
      ]
    },
    {
      "cell_type": "code",
      "source": [
        "pd.DataFrame({'stars':y_train}).groupby(['stars']).size()"
      ],
      "metadata": {
        "id": "gvaPbbnBSx48",
        "outputId": "e3d11141-35c4-498c-a3f2-9e1e72799485",
        "colab": {
          "base_uri": "https://localhost:8080/"
        }
      },
      "id": "gvaPbbnBSx48",
      "execution_count": 14,
      "outputs": [
        {
          "output_type": "execute_result",
          "data": {
            "text/plain": [
              "stars\n",
              "0    15911\n",
              "1    15991\n",
              "2    16049\n",
              "3    16067\n",
              "4    15982\n",
              "dtype: int64"
            ]
          },
          "metadata": {},
          "execution_count": 14
        }
      ]
    },
    {
      "cell_type": "code",
      "source": [
        "pd.DataFrame({'stars':y_test}).groupby(['stars']).size()"
      ],
      "metadata": {
        "id": "cpbGgW3STz1r",
        "outputId": "73814bfc-8af4-4c47-976f-1ccf57c0fd91",
        "colab": {
          "base_uri": "https://localhost:8080/"
        }
      },
      "id": "cpbGgW3STz1r",
      "execution_count": 15,
      "outputs": [
        {
          "output_type": "execute_result",
          "data": {
            "text/plain": [
              "stars\n",
              "0    2967\n",
              "1    1597\n",
              "2    2117\n",
              "3    4433\n",
              "4    8886\n",
              "dtype: int64"
            ]
          },
          "metadata": {},
          "execution_count": 15
        }
      ]
    },
    {
      "cell_type": "markdown",
      "source": [
        "https://towardsdev.com/sentiment-analysis-with-cnn-using-keras-c4debff57fc5?gi=708b4ef40e2f"
      ],
      "metadata": {
        "id": "ceOrQM3YXY7t"
      },
      "id": "ceOrQM3YXY7t"
    },
    {
      "cell_type": "markdown",
      "source": [
        "Encode text and pad it."
      ],
      "metadata": {
        "id": "YuZGKY5XY3VG"
      },
      "id": "YuZGKY5XY3VG"
    },
    {
      "cell_type": "code",
      "source": [
        "from keras_preprocessing.text import Tokenizer\n",
        "from keras_preprocessing.sequence import pad_sequences"
      ],
      "metadata": {
        "id": "o90nvLmLXs_Q"
      },
      "id": "o90nvLmLXs_Q",
      "execution_count": 16,
      "outputs": []
    },
    {
      "cell_type": "code",
      "source": [
        "tokenizer = Tokenizer()\n",
        "tokenizer.fit_on_texts(X_train['text'])\n"
      ],
      "metadata": {
        "id": "IQa1fPakXyT0"
      },
      "id": "IQa1fPakXyT0",
      "execution_count": 17,
      "outputs": []
    },
    {
      "cell_type": "code",
      "source": [
        "X_train['encoded'] = tokenizer.texts_to_sequences(X_train['text'])\n",
        "X_test['encoded'] = tokenizer.texts_to_sequences(X_test['text'])"
      ],
      "metadata": {
        "id": "5GbdV6xOX2WP"
      },
      "id": "5GbdV6xOX2WP",
      "execution_count": 18,
      "outputs": []
    },
    {
      "cell_type": "code",
      "source": [
        "import matplotlib.pyplot as plt\n",
        "plt.hist(X_train['encoded'].apply(len))"
      ],
      "metadata": {
        "id": "Lua8k2hqwuxA",
        "colab": {
          "base_uri": "https://localhost:8080/",
          "height": 352
        },
        "outputId": "6cce3d4f-77af-41de-e122-de8707f4671b"
      },
      "id": "Lua8k2hqwuxA",
      "execution_count": 19,
      "outputs": [
        {
          "output_type": "execute_result",
          "data": {
            "text/plain": [
              "(array([45971., 22019.,  7220.,  2693.,  1085.,   491.,   244.,   126.,\n",
              "           99.,    52.]),\n",
              " array([   1. ,  100.9,  200.8,  300.7,  400.6,  500.5,  600.4,  700.3,\n",
              "         800.2,  900.1, 1000. ]),\n",
              " <a list of 10 Patch objects>)"
            ]
          },
          "metadata": {},
          "execution_count": 19
        },
        {
          "output_type": "display_data",
          "data": {
            "text/plain": [
              "<Figure size 432x288 with 1 Axes>"
            ],
            "image/png": "[encoded data removed]"
          },
          "metadata": {
            "needs_background": "light"
          }
        }
      ]
    },
    {
      "cell_type": "code",
      "source": [
        "# Hyper parameters to tune later: maxlen, padding\n",
        "sentence_len = 200\n",
        "X_train_encoded =  pad_sequences(X_train['encoded'], maxlen=sentence_len, padding='post', truncating='post')\n",
        "X_test_encoded = pad_sequences(X_test['encoded'], maxlen=sentence_len, padding='post', truncating = 'post')\n",
        "print(X_train_encoded.shape)\n",
        "print(X_test_encoded.shape)"
      ],
      "metadata": {
        "id": "3kIdvlqjYs6u",
        "colab": {
          "base_uri": "https://localhost:8080/"
        },
        "outputId": "c911d13d-1e3b-43c0-9e91-46d7b7de083f"
      },
      "id": "3kIdvlqjYs6u",
      "execution_count": 20,
      "outputs": [
        {
          "output_type": "stream",
          "name": "stdout",
          "text": [
            "(80000, 200)\n",
            "(20000, 200)\n"
          ]
        }
      ]
    },
    {
      "cell_type": "markdown",
      "source": [
        "Create model"
      ],
      "metadata": {
        "id": "uGdstENkcNaq"
      },
      "id": "uGdstENkcNaq"
    },
    {
      "cell_type": "code",
      "source": [
        "from keras.layers.pooling import GlobalMaxPool1D\n",
        "from keras import Sequential\n",
        "from keras.layers import Dense, Embedding, Activation, Dropout\n",
        "from keras.layers import  MaxPool1D, GlobalMaxPool1D, Conv1D\n",
        "vocab_size = len(tokenizer.word_counts)\n",
        "# New model architecture\n",
        "model2 = Sequential()\n",
        "model2.add(Embedding(vocab_size,10, input_length = sentence_len))\n",
        "model2.add(Conv1D(64,8,activation=\"relu\"))\n",
        "model2.add(GlobalMaxPool1D())\n",
        "model2.add(Dense(32, activation=\"relu\"))\n",
        "model2.add(Dropout(0.5))\n",
        "model2.add(Dense(5,activation='softmax'))\n",
        "# model2.add(Dense(1,activation='relu'))\n",
        "from keras.utils.vis_utils import plot_model\n",
        "model2.compile(optimizer='sgd', loss='sparse_categorical_crossentropy',metrics=['accuracy'])\n",
        "plot_model(model2,show_shapes=True)\n"
      ],
      "metadata": {
        "id": "Y17rx1U6j6eD",
        "colab": {
          "base_uri": "https://localhost:8080/",
          "height": 754
        },
        "outputId": "b4dcd769-98e3-4149-9b64-f162ece576ea"
      },
      "id": "Y17rx1U6j6eD",
      "execution_count": 31,
      "outputs": [
        {
          "output_type": "execute_result",
          "data": {
            "text/plain": [
              "<IPython.core.display.Image object>"
            ],
            "image/png": "[encoded data removed]"
          },
          "metadata": {},
          "execution_count": 31
        }
      ]
    },
    {
      "cell_type": "code",
      "source": [
        "from keras.callbacks import EarlyStopping\n",
        "# callback = EarlyStopping(monitor='val_accuracy', patience=15)\n",
        "\n",
        "history = model2.fit(X_train_encoded,y_train,\n",
        "           epochs=150,\n",
        "           batch_size=128, \n",
        "           validation_data = [X_test_encoded, y_test],\n",
        "          #  callbacks = [callback]\n",
        "           )"
      ],
      "metadata": {
        "id": "N779vE4stPaK",
        "colab": {
          "base_uri": "https://localhost:8080/"
        },
        "outputId": "5a611dac-c697-4f42-dde1-4796a10dc70e"
      },
      "id": "N779vE4stPaK",
      "execution_count": 32,
      "outputs": [
        {
          "output_type": "stream",
          "name": "stdout",
          "text": [
            "Epoch 1/150\n",
            "625/625 [==============================] - 3s 4ms/step - loss: 1.6094 - accuracy: 0.2007 - val_loss: 1.6078 - val_accuracy: 0.2389\n",
            "Epoch 2/150\n",
            "625/625 [==============================] - 2s 3ms/step - loss: 1.6088 - accuracy: 0.2068 - val_loss: 1.6110 - val_accuracy: 0.1493\n",
            "Epoch 3/150\n",
            "625/625 [==============================] - 2s 3ms/step - loss: 1.6084 - accuracy: 0.2152 - val_loss: 1.6092 - val_accuracy: 0.2046\n",
            "Epoch 4/150\n",
            "625/625 [==============================] - 2s 3ms/step - loss: 1.6081 - accuracy: 0.2177 - val_loss: 1.6081 - val_accuracy: 0.2347\n",
            "Epoch 5/150\n",
            "625/625 [==============================] - 2s 3ms/step - loss: 1.6078 - accuracy: 0.2254 - val_loss: 1.6080 - val_accuracy: 0.2022\n",
            "Epoch 6/150\n",
            "625/625 [==============================] - 2s 3ms/step - loss: 1.6073 - accuracy: 0.2263 - val_loss: 1.6088 - val_accuracy: 0.2394\n",
            "Epoch 7/150\n",
            "625/625 [==============================] - 2s 3ms/step - loss: 1.6070 - accuracy: 0.2291 - val_loss: 1.6060 - val_accuracy: 0.2907\n",
            "Epoch 8/150\n",
            "625/625 [==============================] - 2s 3ms/step - loss: 1.6062 - accuracy: 0.2350 - val_loss: 1.6063 - val_accuracy: 0.2571\n",
            "Epoch 9/150\n",
            "625/625 [==============================] - 2s 3ms/step - loss: 1.6050 - accuracy: 0.2391 - val_loss: 1.6044 - val_accuracy: 0.2898\n",
            "Epoch 10/150\n",
            "625/625 [==============================] - 2s 3ms/step - loss: 1.6028 - accuracy: 0.2479 - val_loss: 1.6051 - val_accuracy: 0.2573\n",
            "Epoch 11/150\n",
            "625/625 [==============================] - 2s 3ms/step - loss: 1.5984 - accuracy: 0.2634 - val_loss: 1.5986 - val_accuracy: 0.3530\n",
            "Epoch 12/150\n",
            "625/625 [==============================] - 2s 3ms/step - loss: 1.5896 - accuracy: 0.2780 - val_loss: 1.5903 - val_accuracy: 0.3428\n",
            "Epoch 13/150\n",
            "625/625 [==============================] - 2s 3ms/step - loss: 1.5812 - accuracy: 0.2824 - val_loss: 1.5817 - val_accuracy: 0.3544\n",
            "Epoch 14/150\n",
            "625/625 [==============================] - 2s 3ms/step - loss: 1.5760 - accuracy: 0.2825 - val_loss: 1.5696 - val_accuracy: 0.3560\n",
            "Epoch 15/150\n",
            "625/625 [==============================] - 2s 3ms/step - loss: 1.5707 - accuracy: 0.2863 - val_loss: 1.5625 - val_accuracy: 0.3586\n",
            "Epoch 16/150\n",
            "625/625 [==============================] - 2s 3ms/step - loss: 1.5657 - accuracy: 0.2891 - val_loss: 1.5526 - val_accuracy: 0.3596\n",
            "Epoch 17/150\n",
            "625/625 [==============================] - 2s 3ms/step - loss: 1.5569 - accuracy: 0.2978 - val_loss: 1.5448 - val_accuracy: 0.3575\n",
            "Epoch 18/150\n",
            "625/625 [==============================] - 2s 3ms/step - loss: 1.5476 - accuracy: 0.3062 - val_loss: 1.5285 - val_accuracy: 0.3675\n",
            "Epoch 19/150\n",
            "625/625 [==============================] - 2s 3ms/step - loss: 1.5397 - accuracy: 0.3115 - val_loss: 1.5210 - val_accuracy: 0.3711\n",
            "Epoch 20/150\n",
            "625/625 [==============================] - 2s 3ms/step - loss: 1.5339 - accuracy: 0.3128 - val_loss: 1.5116 - val_accuracy: 0.3787\n",
            "Epoch 21/150\n",
            "625/625 [==============================] - 2s 3ms/step - loss: 1.5255 - accuracy: 0.3185 - val_loss: 1.5103 - val_accuracy: 0.3780\n",
            "Epoch 22/150\n",
            "625/625 [==============================] - 2s 3ms/step - loss: 1.5179 - accuracy: 0.3246 - val_loss: 1.4995 - val_accuracy: 0.3845\n",
            "Epoch 23/150\n",
            "625/625 [==============================] - 2s 3ms/step - loss: 1.5126 - accuracy: 0.3298 - val_loss: 1.4933 - val_accuracy: 0.3884\n",
            "Epoch 24/150\n",
            "625/625 [==============================] - 2s 3ms/step - loss: 1.5046 - accuracy: 0.3340 - val_loss: 1.4828 - val_accuracy: 0.3914\n",
            "Epoch 25/150\n",
            "625/625 [==============================] - 2s 3ms/step - loss: 1.4935 - accuracy: 0.3427 - val_loss: 1.4778 - val_accuracy: 0.3904\n",
            "Epoch 26/150\n",
            "625/625 [==============================] - 2s 3ms/step - loss: 1.4803 - accuracy: 0.3494 - val_loss: 1.4575 - val_accuracy: 0.3970\n",
            "Epoch 27/150\n",
            "625/625 [==============================] - 2s 3ms/step - loss: 1.4639 - accuracy: 0.3606 - val_loss: 1.4347 - val_accuracy: 0.4076\n",
            "Epoch 28/150\n",
            "625/625 [==============================] - 2s 3ms/step - loss: 1.4461 - accuracy: 0.3677 - val_loss: 1.4126 - val_accuracy: 0.4218\n",
            "Epoch 29/150\n",
            "625/625 [==============================] - 2s 3ms/step - loss: 1.4294 - accuracy: 0.3762 - val_loss: 1.4121 - val_accuracy: 0.4167\n",
            "Epoch 30/150\n",
            "625/625 [==============================] - 2s 3ms/step - loss: 1.4130 - accuracy: 0.3845 - val_loss: 1.3780 - val_accuracy: 0.4387\n",
            "Epoch 31/150\n",
            "625/625 [==============================] - 2s 3ms/step - loss: 1.3958 - accuracy: 0.3952 - val_loss: 1.3442 - val_accuracy: 0.4539\n",
            "Epoch 32/150\n",
            "625/625 [==============================] - 2s 3ms/step - loss: 1.3761 - accuracy: 0.4047 - val_loss: 1.3305 - val_accuracy: 0.4584\n",
            "Epoch 33/150\n",
            "625/625 [==============================] - 2s 3ms/step - loss: 1.3561 - accuracy: 0.4126 - val_loss: 1.3124 - val_accuracy: 0.4683\n",
            "Epoch 34/150\n",
            "625/625 [==============================] - 2s 3ms/step - loss: 1.3352 - accuracy: 0.4224 - val_loss: 1.2834 - val_accuracy: 0.4852\n",
            "Epoch 35/150\n",
            "625/625 [==============================] - 2s 3ms/step - loss: 1.3154 - accuracy: 0.4326 - val_loss: 1.2507 - val_accuracy: 0.4941\n",
            "Epoch 36/150\n",
            "625/625 [==============================] - 2s 3ms/step - loss: 1.2949 - accuracy: 0.4401 - val_loss: 1.2268 - val_accuracy: 0.5088\n",
            "Epoch 37/150\n",
            "625/625 [==============================] - 2s 3ms/step - loss: 1.2745 - accuracy: 0.4476 - val_loss: 1.2125 - val_accuracy: 0.5132\n",
            "Epoch 38/150\n",
            "625/625 [==============================] - 2s 3ms/step - loss: 1.2546 - accuracy: 0.4604 - val_loss: 1.1764 - val_accuracy: 0.5321\n",
            "Epoch 39/150\n",
            "625/625 [==============================] - 2s 3ms/step - loss: 1.2345 - accuracy: 0.4670 - val_loss: 1.1656 - val_accuracy: 0.5351\n",
            "Epoch 40/150\n",
            "625/625 [==============================] - 2s 3ms/step - loss: 1.2147 - accuracy: 0.4746 - val_loss: 1.1241 - val_accuracy: 0.5559\n",
            "Epoch 41/150\n",
            "625/625 [==============================] - 2s 4ms/step - loss: 1.1998 - accuracy: 0.4830 - val_loss: 1.1157 - val_accuracy: 0.5549\n",
            "Epoch 42/150\n",
            "625/625 [==============================] - 2s 3ms/step - loss: 1.1869 - accuracy: 0.4897 - val_loss: 1.0928 - val_accuracy: 0.5640\n",
            "Epoch 43/150\n",
            "625/625 [==============================] - 2s 3ms/step - loss: 1.1730 - accuracy: 0.4943 - val_loss: 1.0775 - val_accuracy: 0.5666\n",
            "Epoch 44/150\n",
            "625/625 [==============================] - 2s 3ms/step - loss: 1.1594 - accuracy: 0.5016 - val_loss: 1.0772 - val_accuracy: 0.5713\n",
            "Epoch 45/150\n",
            "625/625 [==============================] - 2s 3ms/step - loss: 1.1463 - accuracy: 0.5071 - val_loss: 1.0662 - val_accuracy: 0.5771\n",
            "Epoch 46/150\n",
            "625/625 [==============================] - 2s 3ms/step - loss: 1.1333 - accuracy: 0.5102 - val_loss: 1.0414 - val_accuracy: 0.5863\n",
            "Epoch 47/150\n",
            "625/625 [==============================] - 2s 3ms/step - loss: 1.1234 - accuracy: 0.5167 - val_loss: 1.0208 - val_accuracy: 0.5940\n",
            "Epoch 48/150\n",
            "625/625 [==============================] - 2s 3ms/step - loss: 1.1142 - accuracy: 0.5202 - val_loss: 1.0194 - val_accuracy: 0.5928\n",
            "Epoch 49/150\n",
            "625/625 [==============================] - 2s 3ms/step - loss: 1.1066 - accuracy: 0.5242 - val_loss: 1.0168 - val_accuracy: 0.5924\n",
            "Epoch 50/150\n",
            "625/625 [==============================] - 2s 3ms/step - loss: 1.0983 - accuracy: 0.5269 - val_loss: 1.0170 - val_accuracy: 0.5918\n",
            "Epoch 51/150\n",
            "625/625 [==============================] - 2s 3ms/step - loss: 1.0909 - accuracy: 0.5314 - val_loss: 1.0001 - val_accuracy: 0.6001\n",
            "Epoch 52/150\n",
            "625/625 [==============================] - 2s 3ms/step - loss: 1.0853 - accuracy: 0.5334 - val_loss: 0.9848 - val_accuracy: 0.6036\n",
            "Epoch 53/150\n",
            "625/625 [==============================] - 2s 3ms/step - loss: 1.0777 - accuracy: 0.5368 - val_loss: 0.9924 - val_accuracy: 0.5984\n",
            "Epoch 54/150\n",
            "625/625 [==============================] - 2s 3ms/step - loss: 1.0716 - accuracy: 0.5360 - val_loss: 1.0079 - val_accuracy: 0.5964\n",
            "Epoch 55/150\n",
            "625/625 [==============================] - 2s 3ms/step - loss: 1.0673 - accuracy: 0.5419 - val_loss: 0.9904 - val_accuracy: 0.6028\n",
            "Epoch 56/150\n",
            "625/625 [==============================] - 2s 3ms/step - loss: 1.0634 - accuracy: 0.5436 - val_loss: 0.9766 - val_accuracy: 0.6062\n",
            "Epoch 57/150\n",
            "625/625 [==============================] - 2s 3ms/step - loss: 1.0559 - accuracy: 0.5460 - val_loss: 0.9712 - val_accuracy: 0.6065\n",
            "Epoch 58/150\n",
            "625/625 [==============================] - 2s 3ms/step - loss: 1.0505 - accuracy: 0.5483 - val_loss: 0.9733 - val_accuracy: 0.6040\n",
            "Epoch 59/150\n",
            "625/625 [==============================] - 2s 3ms/step - loss: 1.0477 - accuracy: 0.5488 - val_loss: 0.9731 - val_accuracy: 0.6054\n",
            "Epoch 60/150\n",
            "625/625 [==============================] - 2s 3ms/step - loss: 1.0424 - accuracy: 0.5524 - val_loss: 0.9481 - val_accuracy: 0.6181\n",
            "Epoch 61/150\n",
            "625/625 [==============================] - 2s 3ms/step - loss: 1.0359 - accuracy: 0.5545 - val_loss: 0.9598 - val_accuracy: 0.6120\n",
            "Epoch 62/150\n",
            "625/625 [==============================] - 2s 4ms/step - loss: 1.0327 - accuracy: 0.5560 - val_loss: 0.9372 - val_accuracy: 0.6222\n",
            "Epoch 63/150\n",
            "625/625 [==============================] - 2s 3ms/step - loss: 1.0275 - accuracy: 0.5581 - val_loss: 0.9394 - val_accuracy: 0.6212\n",
            "Epoch 64/150\n",
            "625/625 [==============================] - 2s 3ms/step - loss: 1.0257 - accuracy: 0.5592 - val_loss: 0.9501 - val_accuracy: 0.6163\n",
            "Epoch 65/150\n",
            "625/625 [==============================] - 2s 3ms/step - loss: 1.0198 - accuracy: 0.5618 - val_loss: 0.9635 - val_accuracy: 0.6111\n",
            "Epoch 66/150\n",
            "625/625 [==============================] - 2s 3ms/step - loss: 1.0155 - accuracy: 0.5640 - val_loss: 0.9584 - val_accuracy: 0.6144\n",
            "Epoch 67/150\n",
            "625/625 [==============================] - 2s 3ms/step - loss: 1.0134 - accuracy: 0.5648 - val_loss: 0.9341 - val_accuracy: 0.6220\n",
            "Epoch 68/150\n",
            "625/625 [==============================] - 2s 3ms/step - loss: 1.0083 - accuracy: 0.5691 - val_loss: 0.9591 - val_accuracy: 0.6098\n",
            "Epoch 69/150\n",
            "625/625 [==============================] - 2s 3ms/step - loss: 1.0040 - accuracy: 0.5676 - val_loss: 0.9512 - val_accuracy: 0.6197\n",
            "Epoch 70/150\n",
            "625/625 [==============================] - 2s 3ms/step - loss: 1.0006 - accuracy: 0.5680 - val_loss: 0.9379 - val_accuracy: 0.6205\n",
            "Epoch 71/150\n",
            "625/625 [==============================] - 2s 3ms/step - loss: 0.9964 - accuracy: 0.5738 - val_loss: 0.9725 - val_accuracy: 0.6059\n",
            "Epoch 72/150\n",
            "625/625 [==============================] - 2s 3ms/step - loss: 0.9936 - accuracy: 0.5730 - val_loss: 0.9344 - val_accuracy: 0.6223\n",
            "Epoch 73/150\n",
            "625/625 [==============================] - 2s 3ms/step - loss: 0.9891 - accuracy: 0.5764 - val_loss: 0.9487 - val_accuracy: 0.6150\n",
            "Epoch 74/150\n",
            "625/625 [==============================] - 2s 3ms/step - loss: 0.9885 - accuracy: 0.5765 - val_loss: 0.9159 - val_accuracy: 0.6282\n",
            "Epoch 75/150\n",
            "625/625 [==============================] - 2s 3ms/step - loss: 0.9833 - accuracy: 0.5786 - val_loss: 0.9287 - val_accuracy: 0.6260\n",
            "Epoch 76/150\n",
            "625/625 [==============================] - 2s 3ms/step - loss: 0.9798 - accuracy: 0.5804 - val_loss: 0.9309 - val_accuracy: 0.6263\n",
            "Epoch 77/150\n",
            "625/625 [==============================] - 2s 3ms/step - loss: 0.9764 - accuracy: 0.5799 - val_loss: 0.9308 - val_accuracy: 0.6187\n",
            "Epoch 78/150\n",
            "625/625 [==============================] - 2s 3ms/step - loss: 0.9726 - accuracy: 0.5834 - val_loss: 0.9155 - val_accuracy: 0.6306\n",
            "Epoch 79/150\n",
            "625/625 [==============================] - 2s 3ms/step - loss: 0.9723 - accuracy: 0.5840 - val_loss: 0.9316 - val_accuracy: 0.6253\n",
            "Epoch 80/150\n",
            "625/625 [==============================] - 2s 4ms/step - loss: 0.9667 - accuracy: 0.5869 - val_loss: 0.9203 - val_accuracy: 0.6281\n",
            "Epoch 81/150\n",
            "625/625 [==============================] - 2s 3ms/step - loss: 0.9651 - accuracy: 0.5874 - val_loss: 0.9213 - val_accuracy: 0.6277\n",
            "Epoch 82/150\n",
            "625/625 [==============================] - 2s 3ms/step - loss: 0.9600 - accuracy: 0.5885 - val_loss: 0.9561 - val_accuracy: 0.6136\n",
            "Epoch 83/150\n",
            "625/625 [==============================] - 2s 3ms/step - loss: 0.9566 - accuracy: 0.5908 - val_loss: 0.9307 - val_accuracy: 0.6241\n",
            "Epoch 84/150\n",
            "625/625 [==============================] - 2s 3ms/step - loss: 0.9555 - accuracy: 0.5929 - val_loss: 0.9248 - val_accuracy: 0.6274\n",
            "Epoch 85/150\n",
            "625/625 [==============================] - 2s 3ms/step - loss: 0.9545 - accuracy: 0.5918 - val_loss: 0.9275 - val_accuracy: 0.6248\n",
            "Epoch 86/150\n",
            "625/625 [==============================] - 2s 3ms/step - loss: 0.9492 - accuracy: 0.5935 - val_loss: 0.9199 - val_accuracy: 0.6264\n",
            "Epoch 87/150\n",
            "625/625 [==============================] - 2s 4ms/step - loss: 0.9490 - accuracy: 0.5930 - val_loss: 0.9075 - val_accuracy: 0.6344\n",
            "Epoch 88/150\n",
            "625/625 [==============================] - 2s 4ms/step - loss: 0.9439 - accuracy: 0.5951 - val_loss: 0.9151 - val_accuracy: 0.6293\n",
            "Epoch 89/150\n",
            "625/625 [==============================] - 2s 3ms/step - loss: 0.9446 - accuracy: 0.5954 - val_loss: 0.9019 - val_accuracy: 0.6380\n",
            "Epoch 90/150\n",
            "625/625 [==============================] - 2s 3ms/step - loss: 0.9393 - accuracy: 0.5980 - val_loss: 0.9300 - val_accuracy: 0.6234\n",
            "Epoch 91/150\n",
            "625/625 [==============================] - 2s 3ms/step - loss: 0.9359 - accuracy: 0.5982 - val_loss: 0.9128 - val_accuracy: 0.6310\n",
            "Epoch 92/150\n",
            "625/625 [==============================] - 2s 3ms/step - loss: 0.9360 - accuracy: 0.6016 - val_loss: 0.8994 - val_accuracy: 0.6360\n",
            "Epoch 93/150\n",
            "625/625 [==============================] - 2s 3ms/step - loss: 0.9318 - accuracy: 0.6011 - val_loss: 0.9057 - val_accuracy: 0.6352\n",
            "Epoch 94/150\n",
            "625/625 [==============================] - 2s 3ms/step - loss: 0.9297 - accuracy: 0.6005 - val_loss: 0.9287 - val_accuracy: 0.6184\n",
            "Epoch 95/150\n",
            "625/625 [==============================] - 2s 3ms/step - loss: 0.9261 - accuracy: 0.6032 - val_loss: 0.8877 - val_accuracy: 0.6395\n",
            "Epoch 96/150\n",
            "625/625 [==============================] - 2s 3ms/step - loss: 0.9244 - accuracy: 0.6064 - val_loss: 0.9063 - val_accuracy: 0.6341\n",
            "Epoch 97/150\n",
            "625/625 [==============================] - 2s 3ms/step - loss: 0.9232 - accuracy: 0.6065 - val_loss: 0.9021 - val_accuracy: 0.6379\n",
            "Epoch 98/150\n",
            "625/625 [==============================] - 2s 3ms/step - loss: 0.9189 - accuracy: 0.6064 - val_loss: 0.9036 - val_accuracy: 0.6387\n",
            "Epoch 99/150\n",
            "625/625 [==============================] - 2s 3ms/step - loss: 0.9180 - accuracy: 0.6101 - val_loss: 0.9336 - val_accuracy: 0.6263\n",
            "Epoch 100/150\n",
            "625/625 [==============================] - 2s 3ms/step - loss: 0.9150 - accuracy: 0.6077 - val_loss: 0.9078 - val_accuracy: 0.6370\n",
            "Epoch 101/150\n",
            "625/625 [==============================] - 2s 3ms/step - loss: 0.9130 - accuracy: 0.6098 - val_loss: 0.9153 - val_accuracy: 0.6292\n",
            "Epoch 102/150\n",
            "625/625 [==============================] - 2s 3ms/step - loss: 0.9101 - accuracy: 0.6126 - val_loss: 0.9122 - val_accuracy: 0.6331\n",
            "Epoch 103/150\n",
            "625/625 [==============================] - 2s 3ms/step - loss: 0.9092 - accuracy: 0.6105 - val_loss: 0.8823 - val_accuracy: 0.6453\n",
            "Epoch 104/150\n",
            "625/625 [==============================] - 2s 3ms/step - loss: 0.9038 - accuracy: 0.6151 - val_loss: 0.8965 - val_accuracy: 0.6396\n",
            "Epoch 105/150\n",
            "625/625 [==============================] - 2s 4ms/step - loss: 0.9031 - accuracy: 0.6141 - val_loss: 0.8974 - val_accuracy: 0.6363\n",
            "Epoch 106/150\n",
            "625/625 [==============================] - 2s 3ms/step - loss: 0.9003 - accuracy: 0.6154 - val_loss: 0.9078 - val_accuracy: 0.6389\n",
            "Epoch 107/150\n",
            "625/625 [==============================] - 2s 3ms/step - loss: 0.8977 - accuracy: 0.6168 - val_loss: 0.8985 - val_accuracy: 0.6359\n",
            "Epoch 108/150\n",
            "625/625 [==============================] - 2s 3ms/step - loss: 0.8978 - accuracy: 0.6181 - val_loss: 0.8941 - val_accuracy: 0.6343\n",
            "Epoch 109/150\n",
            "625/625 [==============================] - 2s 3ms/step - loss: 0.8938 - accuracy: 0.6192 - val_loss: 0.8822 - val_accuracy: 0.6428\n",
            "Epoch 110/150\n",
            "625/625 [==============================] - 2s 3ms/step - loss: 0.8921 - accuracy: 0.6203 - val_loss: 0.9092 - val_accuracy: 0.6297\n",
            "Epoch 111/150\n",
            "625/625 [==============================] - 2s 4ms/step - loss: 0.8910 - accuracy: 0.6206 - val_loss: 0.9142 - val_accuracy: 0.6320\n",
            "Epoch 112/150\n",
            "625/625 [==============================] - 2s 3ms/step - loss: 0.8872 - accuracy: 0.6234 - val_loss: 0.8854 - val_accuracy: 0.6425\n",
            "Epoch 113/150\n",
            "625/625 [==============================] - 2s 3ms/step - loss: 0.8838 - accuracy: 0.6231 - val_loss: 0.9270 - val_accuracy: 0.6272\n",
            "Epoch 114/150\n",
            "625/625 [==============================] - 2s 3ms/step - loss: 0.8859 - accuracy: 0.6226 - val_loss: 0.8868 - val_accuracy: 0.6405\n",
            "Epoch 115/150\n",
            "625/625 [==============================] - 2s 3ms/step - loss: 0.8795 - accuracy: 0.6251 - val_loss: 0.9092 - val_accuracy: 0.6392\n",
            "Epoch 116/150\n",
            "625/625 [==============================] - 2s 3ms/step - loss: 0.8783 - accuracy: 0.6255 - val_loss: 0.9125 - val_accuracy: 0.6302\n",
            "Epoch 117/150\n",
            "625/625 [==============================] - 2s 3ms/step - loss: 0.8760 - accuracy: 0.6258 - val_loss: 0.8847 - val_accuracy: 0.6446\n",
            "Epoch 118/150\n",
            "625/625 [==============================] - 2s 3ms/step - loss: 0.8749 - accuracy: 0.6277 - val_loss: 0.8913 - val_accuracy: 0.6445\n",
            "Epoch 119/150\n",
            "625/625 [==============================] - 2s 3ms/step - loss: 0.8724 - accuracy: 0.6293 - val_loss: 0.8891 - val_accuracy: 0.6429\n",
            "Epoch 120/150\n",
            "625/625 [==============================] - 2s 3ms/step - loss: 0.8705 - accuracy: 0.6300 - val_loss: 0.9082 - val_accuracy: 0.6332\n",
            "Epoch 121/150\n",
            "625/625 [==============================] - 2s 3ms/step - loss: 0.8683 - accuracy: 0.6306 - val_loss: 0.8997 - val_accuracy: 0.6378\n",
            "Epoch 122/150\n",
            "625/625 [==============================] - 2s 3ms/step - loss: 0.8664 - accuracy: 0.6322 - val_loss: 0.9261 - val_accuracy: 0.6250\n",
            "Epoch 123/150\n",
            "625/625 [==============================] - 2s 3ms/step - loss: 0.8632 - accuracy: 0.6326 - val_loss: 0.9231 - val_accuracy: 0.6317\n",
            "Epoch 124/150\n",
            "625/625 [==============================] - 2s 3ms/step - loss: 0.8624 - accuracy: 0.6326 - val_loss: 0.9011 - val_accuracy: 0.6391\n",
            "Epoch 125/150\n",
            "625/625 [==============================] - 2s 3ms/step - loss: 0.8595 - accuracy: 0.6331 - val_loss: 0.8909 - val_accuracy: 0.6375\n",
            "Epoch 126/150\n",
            "625/625 [==============================] - 2s 3ms/step - loss: 0.8576 - accuracy: 0.6338 - val_loss: 0.9093 - val_accuracy: 0.6272\n",
            "Epoch 127/150\n",
            "625/625 [==============================] - 2s 3ms/step - loss: 0.8542 - accuracy: 0.6372 - val_loss: 0.9048 - val_accuracy: 0.6355\n",
            "Epoch 128/150\n",
            "625/625 [==============================] - 2s 3ms/step - loss: 0.8526 - accuracy: 0.6377 - val_loss: 0.8883 - val_accuracy: 0.6413\n",
            "Epoch 129/150\n",
            "625/625 [==============================] - 2s 3ms/step - loss: 0.8537 - accuracy: 0.6385 - val_loss: 0.9390 - val_accuracy: 0.6267\n",
            "Epoch 130/150\n",
            "625/625 [==============================] - 2s 3ms/step - loss: 0.8477 - accuracy: 0.6390 - val_loss: 0.9036 - val_accuracy: 0.6367\n",
            "Epoch 131/150\n",
            "625/625 [==============================] - 2s 3ms/step - loss: 0.8458 - accuracy: 0.6401 - val_loss: 0.9290 - val_accuracy: 0.6275\n",
            "Epoch 132/150\n",
            "625/625 [==============================] - 2s 3ms/step - loss: 0.8437 - accuracy: 0.6412 - val_loss: 0.9144 - val_accuracy: 0.6324\n",
            "Epoch 133/150\n",
            "625/625 [==============================] - 2s 3ms/step - loss: 0.8435 - accuracy: 0.6427 - val_loss: 0.9738 - val_accuracy: 0.6096\n",
            "Epoch 134/150\n",
            "625/625 [==============================] - 2s 3ms/step - loss: 0.8396 - accuracy: 0.6443 - val_loss: 0.9118 - val_accuracy: 0.6337\n",
            "Epoch 135/150\n",
            "625/625 [==============================] - 2s 3ms/step - loss: 0.8382 - accuracy: 0.6453 - val_loss: 0.9204 - val_accuracy: 0.6365\n",
            "Epoch 136/150\n",
            "625/625 [==============================] - 2s 3ms/step - loss: 0.8387 - accuracy: 0.6440 - val_loss: 0.8970 - val_accuracy: 0.6375\n",
            "Epoch 137/150\n",
            "625/625 [==============================] - 2s 3ms/step - loss: 0.8353 - accuracy: 0.6474 - val_loss: 0.9127 - val_accuracy: 0.6378\n",
            "Epoch 138/150\n",
            "625/625 [==============================] - 2s 3ms/step - loss: 0.8316 - accuracy: 0.6478 - val_loss: 0.9386 - val_accuracy: 0.6309\n",
            "Epoch 139/150\n",
            "625/625 [==============================] - 2s 3ms/step - loss: 0.8303 - accuracy: 0.6496 - val_loss: 0.9383 - val_accuracy: 0.6271\n",
            "Epoch 140/150\n",
            "625/625 [==============================] - 2s 3ms/step - loss: 0.8298 - accuracy: 0.6464 - val_loss: 0.9220 - val_accuracy: 0.6344\n",
            "Epoch 141/150\n",
            "625/625 [==============================] - 2s 3ms/step - loss: 0.8266 - accuracy: 0.6492 - val_loss: 0.9436 - val_accuracy: 0.6305\n",
            "Epoch 142/150\n",
            "625/625 [==============================] - 2s 3ms/step - loss: 0.8253 - accuracy: 0.6514 - val_loss: 0.9149 - val_accuracy: 0.6382\n",
            "Epoch 143/150\n",
            "625/625 [==============================] - 2s 3ms/step - loss: 0.8217 - accuracy: 0.6518 - val_loss: 0.9080 - val_accuracy: 0.6383\n",
            "Epoch 144/150\n",
            "625/625 [==============================] - 2s 3ms/step - loss: 0.8215 - accuracy: 0.6536 - val_loss: 0.9349 - val_accuracy: 0.6307\n",
            "Epoch 145/150\n",
            "625/625 [==============================] - 2s 3ms/step - loss: 0.8175 - accuracy: 0.6551 - val_loss: 0.9236 - val_accuracy: 0.6354\n",
            "Epoch 146/150\n",
            "625/625 [==============================] - 2s 3ms/step - loss: 0.8167 - accuracy: 0.6538 - val_loss: 0.9027 - val_accuracy: 0.6435\n",
            "Epoch 147/150\n",
            "625/625 [==============================] - 2s 3ms/step - loss: 0.8155 - accuracy: 0.6551 - val_loss: 0.9107 - val_accuracy: 0.6345\n",
            "Epoch 148/150\n",
            "625/625 [==============================] - 2s 3ms/step - loss: 0.8099 - accuracy: 0.6572 - val_loss: 0.9372 - val_accuracy: 0.6273\n",
            "Epoch 149/150\n",
            "625/625 [==============================] - 2s 3ms/step - loss: 0.8095 - accuracy: 0.6585 - val_loss: 0.9102 - val_accuracy: 0.6405\n",
            "Epoch 150/150\n",
            "625/625 [==============================] - 2s 3ms/step - loss: 0.8086 - accuracy: 0.6576 - val_loss: 0.9199 - val_accuracy: 0.6388\n"
          ]
        }
      ]
    },
    {
      "cell_type": "code",
      "source": [
        "plt.plot(history.history['accuracy'])\n",
        "plt.plot(history.history['val_accuracy'])\n",
        "plt.title('model accuracy')\n",
        "plt.ylabel('accuracy')\n",
        "plt.xlabel('epoch')\n",
        "plt.legend(['train', 'val'], loc='upper left')\n",
        "plt.show()"
      ],
      "metadata": {
        "id": "M3tO5zhd-HIo",
        "outputId": "47c49a48-7261-4baf-de4f-b0bd8e28c3e8",
        "colab": {
          "base_uri": "https://localhost:8080/",
          "height": 295
        }
      },
      "id": "M3tO5zhd-HIo",
      "execution_count": 33,
      "outputs": [
        {
          "output_type": "display_data",
          "data": {
            "text/plain": [
              "<Figure size 432x288 with 1 Axes>"
            ],
            "image/png": "[encoded data removed]"
          },
          "metadata": {
            "needs_background": "light"
          }
        }
      ]
    },
    {
      "cell_type": "code",
      "source": [
        "# Generate confusion matrix on test set\n",
        "test_preds = model2.predict(X_test_encoded)\n",
        "test_preds_stars = test_preds.argmax(axis=1) + 1\n",
        "from sklearn.metrics import confusion_matrix\n",
        "cf = confusion_matrix(y_test + 1, test_preds_stars)\n",
        "import seaborn as sns\n",
        "sns.heatmap(cf)"
      ],
      "metadata": {
        "colab": {
          "base_uri": "https://localhost:8080/",
          "height": 282
        },
        "id": "fR02rcp-EPYk",
        "outputId": "9d334d8c-be27-4642-9c89-74b532b1671e"
      },
      "id": "fR02rcp-EPYk",
      "execution_count": 34,
      "outputs": [
        {
          "output_type": "execute_result",
          "data": {
            "text/plain": [
              "<matplotlib.axes._subplots.AxesSubplot at 0x7f55a60f0990>"
            ]
          },
          "metadata": {},
          "execution_count": 34
        },
        {
          "output_type": "display_data",
          "data": {
            "text/plain": [
              "<Figure size 432x288 with 2 Axes>"
            ],
            "image/png": "[encoded data removed]"
          },
          "metadata": {
            "needs_background": "light"
          }
        }
      ]
    },
    {
      "cell_type": "code",
      "source": [
        "y_test_pd = pd.DataFrame({'stars':y_test})\n",
        "y_test_pd.stars = y_test_pd.stars + 1\n",
        "# freq = y_test_pd.groupby(['stars']).size()\n",
        "(y_test_pd.stars.value_counts() / len(y_test_pd)).plot.barh()"
      ],
      "metadata": {
        "colab": {
          "base_uri": "https://localhost:8080/",
          "height": 282
        },
        "id": "8P4JJ2yqFlhZ",
        "outputId": "830fd8a7-5c60-4f76-eb28-fa5304520162"
      },
      "id": "8P4JJ2yqFlhZ",
      "execution_count": 35,
      "outputs": [
        {
          "output_type": "execute_result",
          "data": {
            "text/plain": [
              "<matplotlib.axes._subplots.AxesSubplot at 0x7f5584087790>"
            ]
          },
          "metadata": {},
          "execution_count": 35
        },
        {
          "output_type": "display_data",
          "data": {
            "text/plain": [
              "<Figure size 432x288 with 1 Axes>"
            ],
            "image/png": "[encoded data removed]"
          },
          "metadata": {
            "needs_background": "light"
          }
        }
      ]
    },
    {
      "cell_type": "code",
      "source": [
        ""
      ],
      "metadata": {
        "id": "8U7stqf3W2QC"
      },
      "id": "8U7stqf3W2QC",
      "execution_count": null,
      "outputs": []
    }
  ],
  "metadata": {
    "kernelspec": {
      "display_name": "conda_tensorflow2_latest_p37",
      "language": "python",
      "name": "conda_tensorflow2_latest_p37"
    },
    "language_info": {
      "codemirror_mode": {
        "name": "ipython",
        "version": 3
      },
      "file_extension": ".py",
      "mimetype": "text/x-python",
      "name": "python",
      "nbconvert_exporter": "python",
      "pygments_lexer": "ipython3",
      "version": "3.7.10"
    },
    "colab": {
      "name": "CodyCNNAnalysis2.ipynb",
      "provenance": [],
      "background_execution": "on",
      "collapsed_sections": [],
      "include_colab_link": true
    },
    "accelerator": "GPU"
  },
  "nbformat": 4,
  "nbformat_minor": 5
}