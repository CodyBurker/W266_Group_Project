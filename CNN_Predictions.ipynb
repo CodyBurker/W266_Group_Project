{
  "cells": [
    {
      "cell_type": "markdown",
      "metadata": {
        "id": "view-in-github",
        "colab_type": "text"
      },
      "source": [
        "<a href=\"https://colab.research.google.com/github/CodyBurker/W266_Group_Project/blob/master/CNN_Predictions.ipynb\" target=\"_parent\"><img src=\"https://colab.research.google.com/assets/colab-badge.svg\" alt=\"Open In Colab\"/></a>"
      ]
    },
    {
      "cell_type": "markdown",
      "id": "8c60a99a",
      "metadata": {
        "id": "8c60a99a"
      },
      "source": [
        "Based on: https://machinelearningmastery.com/develop-word-embedding-model-predicting-movie-review-sentiment/"
      ]
    },
    {
      "cell_type": "code",
      "execution_count": 1,
      "id": "d3d43e6b",
      "metadata": {
        "id": "d3d43e6b"
      },
      "outputs": [],
      "source": [
        "import pandas as pd\n",
        "import string\n",
        "from nltk.corpus import stopwords\n",
        "import nltk\n",
        "import numpy as np"
      ]
    },
    {
      "cell_type": "code",
      "source": [
        "!git clone https://github.com/CodyBurker/W266_Group_Project"
      ],
      "metadata": {
        "colab": {
          "base_uri": "https://localhost:8080/"
        },
        "id": "0LMKJsWAWDCN",
        "outputId": "4fd496dd-ff78-4610-b8ab-d5f676acf197"
      },
      "id": "0LMKJsWAWDCN",
      "execution_count": 2,
      "outputs": [
        {
          "output_type": "stream",
          "name": "stdout",
          "text": [
            "Cloning into 'W266_Group_Project'...\n",
            "remote: Enumerating objects: 186, done.\u001b[K\n",
            "remote: Counting objects: 100% (186/186), done.\u001b[K\n",
            "remote: Compressing objects: 100% (168/168), done.\u001b[K\n",
            "remote: Total 186 (delta 77), reused 67 (delta 13), pack-reused 0\u001b[K\n",
            "Receiving objects: 100% (186/186), 138.88 MiB | 10.52 MiB/s, done.\n",
            "Resolving deltas: 100% (77/77), done.\n",
            "Checking out files: 100% (41/41), done.\n"
          ]
        }
      ]
    },
    {
      "cell_type": "code",
      "execution_count": 5,
      "id": "6b7aac4d",
      "metadata": {
        "id": "6b7aac4d"
      },
      "outputs": [],
      "source": [
        "X_train = pd.read_csv(\"W266_Group_Project/x_train_stage_1_sampled_yelp_data.csv\")\n",
        "y_train = pd.read_csv(\"W266_Group_Project/y_train_stage_1_sampled_yelp_data.csv\")\n",
        "X_test = pd.read_csv(\"W266_Group_Project/x_test_sampled_yelp_data_NEW.csv\")\n",
        "y_test = pd.read_csv(\"W266_Group_Project/y_test_sampled_yelp_data_NEW.csv\")\n",
        "y_train = np.array(y_train.stars.astype('int')) - 1\n",
        "y_test = np.array(y_test.stars.astype('int')) - 1"
      ]
    },
    {
      "cell_type": "markdown",
      "source": [
        "Encode text and pad it."
      ],
      "metadata": {
        "id": "YuZGKY5XY3VG"
      },
      "id": "YuZGKY5XY3VG"
    },
    {
      "cell_type": "code",
      "source": [
        "from keras_preprocessing.text import Tokenizer\n",
        "from keras_preprocessing.sequence import pad_sequences"
      ],
      "metadata": {
        "id": "o90nvLmLXs_Q"
      },
      "id": "o90nvLmLXs_Q",
      "execution_count": 4,
      "outputs": []
    },
    {
      "cell_type": "code",
      "source": [
        "tokenizer = Tokenizer()\n",
        "tokenizer.fit_on_texts(X_train['text'])\n"
      ],
      "metadata": {
        "id": "IQa1fPakXyT0"
      },
      "id": "IQa1fPakXyT0",
      "execution_count": 6,
      "outputs": []
    },
    {
      "cell_type": "code",
      "source": [
        "# Hyper parameters to tune later: maxlen, padding\n",
        "sentence_len = 1024"
      ],
      "metadata": {
        "id": "3kIdvlqjYs6u"
      },
      "id": "3kIdvlqjYs6u",
      "execution_count": 8,
      "outputs": []
    },
    {
      "cell_type": "code",
      "source": [
        "from tensorflow import keras\n",
        "model = keras.models.load_model('W266_Group_Project/CNNModel')\n",
        "x_train_stage_2 = pd.read_csv(\"W266_Group_Project/x_test_sampled_yelp_data_NEW.csv\")\n",
        "x_train_stage_2_tok = tokenizer.texts_to_sequences(x_train_stage_2['text'])\n",
        "x_train_stage_2_enc = pad_sequences(x_train_stage_2_tok, maxlen=sentence_len, padding='post', truncating = 'post')\n",
        "\n",
        "# y_train_stage_2 = pd.read_csv(\"W266_Group_Project/y_train_stage_2_sampled_yelp_data.csv\")\n",
        "# y_train_stage_2_tok = tokenizer.texts_to_sequences(y_train_stage_2['text'])\n",
        "# y_train_stage_2_enc = pad_sequences(x_train_stage_2_tok, maxlen=sentence_len, padding='post', truncating = 'post')\n"
      ],
      "metadata": {
        "id": "2No5htkrjm-I"
      },
      "id": "2No5htkrjm-I",
      "execution_count": 11,
      "outputs": []
    },
    {
      "cell_type": "code",
      "source": [
        "stage_2_preds = model.predict(x_train_stage_2_enc)"
      ],
      "metadata": {
        "id": "kDQrT6s5Gw0b"
      },
      "id": "kDQrT6s5Gw0b",
      "execution_count": 12,
      "outputs": []
    },
    {
      "cell_type": "code",
      "source": [
        "stage_2_preds[0:10]"
      ],
      "metadata": {
        "id": "ZXF8azbjHZDO",
        "outputId": "501ff907-d9da-4f9a-a8c1-36447fcd04dd",
        "colab": {
          "base_uri": "https://localhost:8080/"
        }
      },
      "id": "ZXF8azbjHZDO",
      "execution_count": 13,
      "outputs": [
        {
          "output_type": "execute_result",
          "data": {
            "text/plain": [
              "array([[3.1926638e-07, 8.4973442e-07, 1.2803802e-04, 5.6307755e-02,\n",
              "        9.4356310e-01],\n",
              "       [3.9673426e-07, 6.1862315e-06, 1.8268750e-03, 2.7340049e-01,\n",
              "        7.2476602e-01],\n",
              "       [1.5019916e-07, 1.4409806e-06, 4.6640221e-04, 1.5705076e-01,\n",
              "        8.4248126e-01],\n",
              "       [5.1040797e-07, 1.1121765e-06, 1.5059375e-04, 5.6604505e-02,\n",
              "        9.4324332e-01],\n",
              "       [1.6187517e-04, 3.9040970e-04, 8.3310986e-03, 1.9678921e-01,\n",
              "        7.9432738e-01],\n",
              "       [6.0401903e-06, 3.0412317e-05, 2.7157126e-03, 2.2024938e-01,\n",
              "        7.7699846e-01],\n",
              "       [8.7334290e-03, 4.8385742e-03, 2.1619990e-02, 1.5556428e-01,\n",
              "        8.0924380e-01],\n",
              "       [1.6305953e-03, 6.7020371e-03, 9.1605790e-02, 5.1989555e-01,\n",
              "        3.8016605e-01],\n",
              "       [1.5201421e-05, 7.9249339e-06, 1.8598697e-04, 2.8272552e-02,\n",
              "        9.7151834e-01],\n",
              "       [5.4163377e-07, 3.6022911e-06, 7.7499083e-04, 1.5937975e-01,\n",
              "        8.3984107e-01]], dtype=float32)"
            ]
          },
          "metadata": {},
          "execution_count": 13
        }
      ]
    },
    {
      "cell_type": "code",
      "source": [
        "preds_processed = np.argmax(stage_2_preds,axis=1) +1"
      ],
      "metadata": {
        "id": "sot0u6wPG2oB"
      },
      "id": "sot0u6wPG2oB",
      "execution_count": 14,
      "outputs": []
    },
    {
      "cell_type": "code",
      "source": [
        "preds_processed[0:10]"
      ],
      "metadata": {
        "id": "cuFUe4S6HeBK",
        "outputId": "4136d1c6-dcab-4f69-b873-3ce20eee4122",
        "colab": {
          "base_uri": "https://localhost:8080/"
        }
      },
      "id": "cuFUe4S6HeBK",
      "execution_count": 15,
      "outputs": [
        {
          "output_type": "execute_result",
          "data": {
            "text/plain": [
              "array([5, 5, 5, 5, 5, 5, 5, 4, 5, 5])"
            ]
          },
          "metadata": {},
          "execution_count": 15
        }
      ]
    },
    {
      "cell_type": "code",
      "source": [
        "# Write processed preds to disk\n",
        "pd.DataFrame({'CNN_predictions':preds_processed}).to_csv(\"W266_Group_Project/X_test_predictions_1_to_5_CNN.csv\")"
      ],
      "metadata": {
        "id": "C_DYbn8fHm-I"
      },
      "id": "C_DYbn8fHm-I",
      "execution_count": 17,
      "outputs": []
    },
    {
      "cell_type": "code",
      "source": [
        ""
      ],
      "metadata": {
        "id": "igE5jLpDBHy5"
      },
      "id": "igE5jLpDBHy5",
      "execution_count": null,
      "outputs": []
    }
  ],
  "metadata": {
    "kernelspec": {
      "display_name": "conda_tensorflow2_latest_p37",
      "language": "python",
      "name": "conda_tensorflow2_latest_p37"
    },
    "language_info": {
      "codemirror_mode": {
        "name": "ipython",
        "version": 3
      },
      "file_extension": ".py",
      "mimetype": "text/x-python",
      "name": "python",
      "nbconvert_exporter": "python",
      "pygments_lexer": "ipython3",
      "version": "3.7.10"
    },
    "colab": {
      "name": "CodyCNNAnalysis2.ipynb",
      "provenance": [],
      "background_execution": "on",
      "collapsed_sections": [],
      "include_colab_link": true
    },
    "accelerator": "GPU"
  },
  "nbformat": 4,
  "nbformat_minor": 5
}