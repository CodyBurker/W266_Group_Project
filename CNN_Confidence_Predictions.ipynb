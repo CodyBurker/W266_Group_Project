{
  "cells": [
    {
      "cell_type": "markdown",
      "metadata": {
        "id": "view-in-github",
        "colab_type": "text"
      },
      "source": [
        "<a href=\"https://colab.research.google.com/github/CodyBurker/W266_Group_Project/blob/master/CNN_Confidence_Predictions.ipynb\" target=\"_parent\"><img src=\"https://colab.research.google.com/assets/colab-badge.svg\" alt=\"Open In Colab\"/></a>"
      ]
    },
    {
      "cell_type": "markdown",
      "id": "8c60a99a",
      "metadata": {
        "id": "8c60a99a"
      },
      "source": [
        "Based on: https://machinelearningmastery.com/develop-word-embedding-model-predicting-movie-review-sentiment/"
      ]
    },
    {
      "cell_type": "code",
      "execution_count": 1,
      "id": "d3d43e6b",
      "metadata": {
        "id": "d3d43e6b"
      },
      "outputs": [],
      "source": [
        "import pandas as pd\n",
        "import string\n",
        "from nltk.corpus import stopwords\n",
        "import nltk\n",
        "import numpy as np"
      ]
    },
    {
      "cell_type": "code",
      "source": [
        "!git clone https://github.com/CodyBurker/W266_Group_Project"
      ],
      "metadata": {
        "colab": {
          "base_uri": "https://localhost:8080/"
        },
        "id": "0LMKJsWAWDCN",
        "outputId": "310d36cf-e8c3-4858-bf0a-6bd5a0c18d45"
      },
      "id": "0LMKJsWAWDCN",
      "execution_count": 2,
      "outputs": [
        {
          "output_type": "stream",
          "name": "stdout",
          "text": [
            "Cloning into 'W266_Group_Project'...\n",
            "remote: Enumerating objects: 206, done.\u001b[K\n",
            "remote: Counting objects: 100% (206/206), done.\u001b[K\n",
            "remote: Compressing objects: 100% (185/185), done.\u001b[K\n",
            "remote: Total 206 (delta 86), reused 78 (delta 16), pack-reused 0\u001b[K\n",
            "Receiving objects: 100% (206/206), 141.57 MiB | 26.39 MiB/s, done.\n",
            "Resolving deltas: 100% (86/86), done.\n",
            "Checking out files: 100% (46/46), done.\n"
          ]
        }
      ]
    },
    {
      "cell_type": "code",
      "execution_count": 3,
      "id": "6b7aac4d",
      "metadata": {
        "id": "6b7aac4d"
      },
      "outputs": [],
      "source": [
        "X_train = pd.read_csv(\"W266_Group_Project/x_train_stage_1_sampled_yelp_data.csv\")\n",
        "y_train = pd.read_csv(\"W266_Group_Project/y_train_stage_1_sampled_yelp_data.csv\")\n",
        "X_test = pd.read_csv(\"W266_Group_Project/x_test_sampled_yelp_data_NEW.csv\")\n",
        "y_test = pd.read_csv(\"W266_Group_Project/y_test_sampled_yelp_data_NEW.csv\")\n",
        "y_train = np.array(y_train.stars.astype('int')) - 1\n",
        "y_test = np.array(y_test.stars.astype('int')) - 1"
      ]
    },
    {
      "cell_type": "markdown",
      "source": [
        "Encode text and pad it."
      ],
      "metadata": {
        "id": "YuZGKY5XY3VG"
      },
      "id": "YuZGKY5XY3VG"
    },
    {
      "cell_type": "code",
      "source": [
        "from keras_preprocessing.text import Tokenizer\n",
        "from keras_preprocessing.sequence import pad_sequences"
      ],
      "metadata": {
        "id": "o90nvLmLXs_Q"
      },
      "id": "o90nvLmLXs_Q",
      "execution_count": 4,
      "outputs": []
    },
    {
      "cell_type": "code",
      "source": [
        "tokenizer = Tokenizer()\n",
        "tokenizer.fit_on_texts(X_train['text'])\n"
      ],
      "metadata": {
        "id": "IQa1fPakXyT0"
      },
      "id": "IQa1fPakXyT0",
      "execution_count": 5,
      "outputs": []
    },
    {
      "cell_type": "code",
      "source": [
        "# Hyper parameters to tune later: maxlen, padding\n",
        "sentence_len = 1024"
      ],
      "metadata": {
        "id": "3kIdvlqjYs6u"
      },
      "id": "3kIdvlqjYs6u",
      "execution_count": 6,
      "outputs": []
    },
    {
      "cell_type": "code",
      "source": [
        "from tensorflow import keras\n",
        "model = keras.models.load_model('W266_Group_Project/CNNModel')\n",
        "x_train_stage_2 = pd.read_csv(\"W266_Group_Project/x_test_sampled_yelp_data_NEW.csv\")\n",
        "x_train_stage_2_tok = tokenizer.texts_to_sequences(x_train_stage_2['text'])\n",
        "x_train_stage_2_enc = pad_sequences(x_train_stage_2_tok, maxlen=sentence_len, padding='post', truncating = 'post')\n",
        "\n"
      ],
      "metadata": {
        "id": "2No5htkrjm-I"
      },
      "id": "2No5htkrjm-I",
      "execution_count": 7,
      "outputs": []
    },
    {
      "cell_type": "code",
      "source": [
        "stage_2_preds = model.predict(x_train_stage_2_enc)"
      ],
      "metadata": {
        "id": "kDQrT6s5Gw0b"
      },
      "id": "kDQrT6s5Gw0b",
      "execution_count": 8,
      "outputs": []
    },
    {
      "cell_type": "code",
      "source": [
        "stage_2_preds[0:10]"
      ],
      "metadata": {
        "id": "ZXF8azbjHZDO",
        "outputId": "e435f539-8a1e-4905-e820-88c0b9e2449d",
        "colab": {
          "base_uri": "https://localhost:8080/"
        }
      },
      "id": "ZXF8azbjHZDO",
      "execution_count": 9,
      "outputs": [
        {
          "output_type": "execute_result",
          "data": {
            "text/plain": [
              "array([[3.1757440e-07, 8.4638953e-07, 1.2774019e-04, 5.6284491e-02,\n",
              "        9.4358665e-01],\n",
              "       [3.9557483e-07, 6.1688356e-06, 1.8233644e-03, 2.7319172e-01,\n",
              "        7.2497833e-01],\n",
              "       [1.5015698e-07, 1.4413097e-06, 4.6647715e-04, 1.5703022e-01,\n",
              "        8.4250170e-01],\n",
              "       [5.0936126e-07, 1.1098323e-06, 1.5037988e-04, 5.6569081e-02,\n",
              "        9.4327897e-01],\n",
              "       [1.6168639e-04, 3.8985137e-04, 8.3200857e-03, 1.9665444e-01,\n",
              "        7.9447395e-01],\n",
              "       [6.0385287e-06, 3.0404935e-05, 2.7150663e-03, 2.2024299e-01,\n",
              "        7.7700549e-01],\n",
              "       [8.7030344e-03, 4.8253406e-03, 2.1583719e-02, 1.5553042e-01,\n",
              "        8.0935746e-01],\n",
              "       [1.6287164e-03, 6.6912826e-03, 9.1496527e-02, 5.1976049e-01,\n",
              "        3.8042295e-01],\n",
              "       [1.5208273e-05, 7.9325973e-06, 1.8611125e-04, 2.8281190e-02,\n",
              "        9.7150958e-01],\n",
              "       [5.4007791e-07, 3.5952880e-06, 7.7410898e-04, 1.5931532e-01,\n",
              "        8.3990639e-01]], dtype=float32)"
            ]
          },
          "metadata": {},
          "execution_count": 9
        }
      ]
    },
    {
      "cell_type": "code",
      "source": [
        "stage_2_preds_df = pd.DataFrame(stage_2_preds)\n",
        "stage_2_preds_df.columns = ['CNN1','CNN2','CNN3','CNN4','CNN5']\n",
        "stage_2_preds_df"
      ],
      "metadata": {
        "id": "sot0u6wPG2oB",
        "outputId": "6697605c-7115-451d-a94d-9a652993c52c",
        "colab": {
          "base_uri": "https://localhost:8080/",
          "height": 423
        }
      },
      "id": "sot0u6wPG2oB",
      "execution_count": 10,
      "outputs": [
        {
          "output_type": "execute_result",
          "data": {
            "text/plain": [
              "               CNN1          CNN2      CNN3      CNN4      CNN5\n",
              "0      3.175744e-07  8.463895e-07  0.000128  0.056284  0.943587\n",
              "1      3.955748e-07  6.168836e-06  0.001823  0.273192  0.724978\n",
              "2      1.501570e-07  1.441310e-06  0.000466  0.157030  0.842502\n",
              "3      5.093613e-07  1.109832e-06  0.000150  0.056569  0.943279\n",
              "4      1.616864e-04  3.898514e-04  0.008320  0.196654  0.794474\n",
              "...             ...           ...       ...       ...       ...\n",
              "19995  2.565809e-04  1.956197e-03  0.052796  0.521081  0.423910\n",
              "19996  6.199432e-01  1.163955e-01  0.054377  0.038821  0.170463\n",
              "19997  3.410459e-01  2.749152e-01  0.238238  0.090561  0.055240\n",
              "19998  2.941808e-04  2.484921e-04  0.003160  0.099359  0.896939\n",
              "19999  3.012473e-06  1.417427e-05  0.001501  0.179933  0.818549\n",
              "\n",
              "[20000 rows x 5 columns]"
            ],
            "text/html": [
              "\n",
              "  <div id=\"df-2ff84f9a-d33c-4088-bd3b-965b2147c9d0\">\n",
              "    <div class=\"colab-df-container\">\n",
              "      <div>\n",
              "<style scoped>\n",
              "    .dataframe tbody tr th:only-of-type {\n",
              "        vertical-align: middle;\n",
              "    }\n",
              "\n",
              "    .dataframe tbody tr th {\n",
              "        vertical-align: top;\n",
              "    }\n",
              "\n",
              "    .dataframe thead th {\n",
              "        text-align: right;\n",
              "    }\n",
              "</style>\n",
              "<table border=\"1\" class=\"dataframe\">\n",
              "  <thead>\n",
              "    <tr style=\"text-align: right;\">\n",
              "      <th></th>\n",
              "      <th>CNN1</th>\n",
              "      <th>CNN2</th>\n",
              "      <th>CNN3</th>\n",
              "      <th>CNN4</th>\n",
              "      <th>CNN5</th>\n",
              "    </tr>\n",
              "  </thead>\n",
              "  <tbody>\n",
              "    <tr>\n",
              "      <th>0</th>\n",
              "      <td>3.175744e-07</td>\n",
              "      <td>8.463895e-07</td>\n",
              "      <td>0.000128</td>\n",
              "      <td>0.056284</td>\n",
              "      <td>0.943587</td>\n",
              "    </tr>\n",
              "    <tr>\n",
              "      <th>1</th>\n",
              "      <td>3.955748e-07</td>\n",
              "      <td>6.168836e-06</td>\n",
              "      <td>0.001823</td>\n",
              "      <td>0.273192</td>\n",
              "      <td>0.724978</td>\n",
              "    </tr>\n",
              "    <tr>\n",
              "      <th>2</th>\n",
              "      <td>1.501570e-07</td>\n",
              "      <td>1.441310e-06</td>\n",
              "      <td>0.000466</td>\n",
              "      <td>0.157030</td>\n",
              "      <td>0.842502</td>\n",
              "    </tr>\n",
              "    <tr>\n",
              "      <th>3</th>\n",
              "      <td>5.093613e-07</td>\n",
              "      <td>1.109832e-06</td>\n",
              "      <td>0.000150</td>\n",
              "      <td>0.056569</td>\n",
              "      <td>0.943279</td>\n",
              "    </tr>\n",
              "    <tr>\n",
              "      <th>4</th>\n",
              "      <td>1.616864e-04</td>\n",
              "      <td>3.898514e-04</td>\n",
              "      <td>0.008320</td>\n",
              "      <td>0.196654</td>\n",
              "      <td>0.794474</td>\n",
              "    </tr>\n",
              "    <tr>\n",
              "      <th>...</th>\n",
              "      <td>...</td>\n",
              "      <td>...</td>\n",
              "      <td>...</td>\n",
              "      <td>...</td>\n",
              "      <td>...</td>\n",
              "    </tr>\n",
              "    <tr>\n",
              "      <th>19995</th>\n",
              "      <td>2.565809e-04</td>\n",
              "      <td>1.956197e-03</td>\n",
              "      <td>0.052796</td>\n",
              "      <td>0.521081</td>\n",
              "      <td>0.423910</td>\n",
              "    </tr>\n",
              "    <tr>\n",
              "      <th>19996</th>\n",
              "      <td>6.199432e-01</td>\n",
              "      <td>1.163955e-01</td>\n",
              "      <td>0.054377</td>\n",
              "      <td>0.038821</td>\n",
              "      <td>0.170463</td>\n",
              "    </tr>\n",
              "    <tr>\n",
              "      <th>19997</th>\n",
              "      <td>3.410459e-01</td>\n",
              "      <td>2.749152e-01</td>\n",
              "      <td>0.238238</td>\n",
              "      <td>0.090561</td>\n",
              "      <td>0.055240</td>\n",
              "    </tr>\n",
              "    <tr>\n",
              "      <th>19998</th>\n",
              "      <td>2.941808e-04</td>\n",
              "      <td>2.484921e-04</td>\n",
              "      <td>0.003160</td>\n",
              "      <td>0.099359</td>\n",
              "      <td>0.896939</td>\n",
              "    </tr>\n",
              "    <tr>\n",
              "      <th>19999</th>\n",
              "      <td>3.012473e-06</td>\n",
              "      <td>1.417427e-05</td>\n",
              "      <td>0.001501</td>\n",
              "      <td>0.179933</td>\n",
              "      <td>0.818549</td>\n",
              "    </tr>\n",
              "  </tbody>\n",
              "</table>\n",
              "<p>20000 rows × 5 columns</p>\n",
              "</div>\n",
              "      <button class=\"colab-df-convert\" onclick=\"convertToInteractive('df-2ff84f9a-d33c-4088-bd3b-965b2147c9d0')\"\n",
              "              title=\"Convert this dataframe to an interactive table.\"\n",
              "              style=\"display:none;\">\n",
              "        \n",
              "  <svg xmlns=\"http://www.w3.org/2000/svg\" height=\"24px\"viewBox=\"0 0 24 24\"\n",
              "       width=\"24px\">\n",
              "    <path d=\"M0 0h24v24H0V0z\" fill=\"none\"/>\n",
              "    <path d=\"M18.56 5.44l.94 2.06.94-2.06 2.06-.94-2.06-.94-.94-2.06-.94 2.06-2.06.94zm-11 1L8.5 8.5l.94-2.06 2.06-.94-2.06-.94L8.5 2.5l-.94 2.06-2.06.94zm10 10l.94 2.06.94-2.06 2.06-.94-2.06-.94-.94-2.06-.94 2.06-2.06.94z\"/><path d=\"M17.41 7.96l-1.37-1.37c-.4-.4-.92-.59-1.43-.59-.52 0-1.04.2-1.43.59L10.3 9.45l-7.72 7.72c-.78.78-.78 2.05 0 2.83L4 21.41c.39.39.9.59 1.41.59.51 0 1.02-.2 1.41-.59l7.78-7.78 2.81-2.81c.8-.78.8-2.07 0-2.86zM5.41 20L4 18.59l7.72-7.72 1.47 1.35L5.41 20z\"/>\n",
              "  </svg>\n",
              "      </button>\n",
              "      \n",
              "  <style>\n",
              "    .colab-df-container {\n",
              "      display:flex;\n",
              "      flex-wrap:wrap;\n",
              "      gap: 12px;\n",
              "    }\n",
              "\n",
              "    .colab-df-convert {\n",
              "      background-color: #E8F0FE;\n",
              "      border: none;\n",
              "      border-radius: 50%;\n",
              "      cursor: pointer;\n",
              "      display: none;\n",
              "      fill: #1967D2;\n",
              "      height: 32px;\n",
              "      padding: 0 0 0 0;\n",
              "      width: 32px;\n",
              "    }\n",
              "\n",
              "    .colab-df-convert:hover {\n",
              "      background-color: #E2EBFA;\n",
              "      box-shadow: 0px 1px 2px rgba(60, 64, 67, 0.3), 0px 1px 3px 1px rgba(60, 64, 67, 0.15);\n",
              "      fill: #174EA6;\n",
              "    }\n",
              "\n",
              "    [theme=dark] .colab-df-convert {\n",
              "      background-color: #3B4455;\n",
              "      fill: #D2E3FC;\n",
              "    }\n",
              "\n",
              "    [theme=dark] .colab-df-convert:hover {\n",
              "      background-color: #434B5C;\n",
              "      box-shadow: 0px 1px 3px 1px rgba(0, 0, 0, 0.15);\n",
              "      filter: drop-shadow(0px 1px 2px rgba(0, 0, 0, 0.3));\n",
              "      fill: #FFFFFF;\n",
              "    }\n",
              "  </style>\n",
              "\n",
              "      <script>\n",
              "        const buttonEl =\n",
              "          document.querySelector('#df-2ff84f9a-d33c-4088-bd3b-965b2147c9d0 button.colab-df-convert');\n",
              "        buttonEl.style.display =\n",
              "          google.colab.kernel.accessAllowed ? 'block' : 'none';\n",
              "\n",
              "        async function convertToInteractive(key) {\n",
              "          const element = document.querySelector('#df-2ff84f9a-d33c-4088-bd3b-965b2147c9d0');\n",
              "          const dataTable =\n",
              "            await google.colab.kernel.invokeFunction('convertToInteractive',\n",
              "                                                     [key], {});\n",
              "          if (!dataTable) return;\n",
              "\n",
              "          const docLinkHtml = 'Like what you see? Visit the ' +\n",
              "            '<a target=\"_blank\" href=https://colab.research.google.com/notebooks/data_table.ipynb>data table notebook</a>'\n",
              "            + ' to learn more about interactive tables.';\n",
              "          element.innerHTML = '';\n",
              "          dataTable['output_type'] = 'display_data';\n",
              "          await google.colab.output.renderOutput(dataTable, element);\n",
              "          const docLink = document.createElement('div');\n",
              "          docLink.innerHTML = docLinkHtml;\n",
              "          element.appendChild(docLink);\n",
              "        }\n",
              "      </script>\n",
              "    </div>\n",
              "  </div>\n",
              "  "
            ]
          },
          "metadata": {},
          "execution_count": 10
        }
      ]
    },
    {
      "cell_type": "code",
      "source": [
        "# Write processed preds to disk\n",
        "stage_2_preds_df.to_csv(\"W266_Group_Project/CNN_X_test_predictions_Confidence.csv\")"
      ],
      "metadata": {
        "id": "C_DYbn8fHm-I"
      },
      "id": "C_DYbn8fHm-I",
      "execution_count": 11,
      "outputs": []
    },
    {
      "cell_type": "markdown",
      "source": [
        "80k Stage 2"
      ],
      "metadata": {
        "id": "SVsrn_LyVmCf"
      },
      "id": "SVsrn_LyVmCf"
    },
    {
      "cell_type": "code",
      "source": [
        "x_train_stage_2 = pd.read_csv(\"W266_Group_Project/x_train_stage_2_sampled_yelp_data.csv\")\n",
        "x_train_stage_2_tok = tokenizer.texts_to_sequences(x_train_stage_2['text'])\n",
        "x_train_stage_2_enc = pad_sequences(x_train_stage_2_tok, maxlen=sentence_len, padding='post', truncating = 'post')"
      ],
      "metadata": {
        "id": "igE5jLpDBHy5"
      },
      "id": "igE5jLpDBHy5",
      "execution_count": 12,
      "outputs": []
    },
    {
      "cell_type": "code",
      "source": [
        "stage_2_preds_df = pd.DataFrame(stage_2_preds)\n",
        "stage_2_preds_df.columns = ['CNN1','CNN2','CNN3','CNN4','CNN5']\n",
        "stage_2_preds_df"
      ],
      "metadata": {
        "id": "4rNtGP8KVtL9",
        "outputId": "d60931af-a3f3-4889-c911-8711b14a2e83",
        "colab": {
          "base_uri": "https://localhost:8080/",
          "height": 423
        }
      },
      "id": "4rNtGP8KVtL9",
      "execution_count": 13,
      "outputs": [
        {
          "output_type": "execute_result",
          "data": {
            "text/plain": [
              "               CNN1          CNN2      CNN3      CNN4      CNN5\n",
              "0      3.175744e-07  8.463895e-07  0.000128  0.056284  0.943587\n",
              "1      3.955748e-07  6.168836e-06  0.001823  0.273192  0.724978\n",
              "2      1.501570e-07  1.441310e-06  0.000466  0.157030  0.842502\n",
              "3      5.093613e-07  1.109832e-06  0.000150  0.056569  0.943279\n",
              "4      1.616864e-04  3.898514e-04  0.008320  0.196654  0.794474\n",
              "...             ...           ...       ...       ...       ...\n",
              "19995  2.565809e-04  1.956197e-03  0.052796  0.521081  0.423910\n",
              "19996  6.199432e-01  1.163955e-01  0.054377  0.038821  0.170463\n",
              "19997  3.410459e-01  2.749152e-01  0.238238  0.090561  0.055240\n",
              "19998  2.941808e-04  2.484921e-04  0.003160  0.099359  0.896939\n",
              "19999  3.012473e-06  1.417427e-05  0.001501  0.179933  0.818549\n",
              "\n",
              "[20000 rows x 5 columns]"
            ],
            "text/html": [
              "\n",
              "  <div id=\"df-74c3c417-51a6-4b85-8bb2-e3df46e77f5f\">\n",
              "    <div class=\"colab-df-container\">\n",
              "      <div>\n",
              "<style scoped>\n",
              "    .dataframe tbody tr th:only-of-type {\n",
              "        vertical-align: middle;\n",
              "    }\n",
              "\n",
              "    .dataframe tbody tr th {\n",
              "        vertical-align: top;\n",
              "    }\n",
              "\n",
              "    .dataframe thead th {\n",
              "        text-align: right;\n",
              "    }\n",
              "</style>\n",
              "<table border=\"1\" class=\"dataframe\">\n",
              "  <thead>\n",
              "    <tr style=\"text-align: right;\">\n",
              "      <th></th>\n",
              "      <th>CNN1</th>\n",
              "      <th>CNN2</th>\n",
              "      <th>CNN3</th>\n",
              "      <th>CNN4</th>\n",
              "      <th>CNN5</th>\n",
              "    </tr>\n",
              "  </thead>\n",
              "  <tbody>\n",
              "    <tr>\n",
              "      <th>0</th>\n",
              "      <td>3.175744e-07</td>\n",
              "      <td>8.463895e-07</td>\n",
              "      <td>0.000128</td>\n",
              "      <td>0.056284</td>\n",
              "      <td>0.943587</td>\n",
              "    </tr>\n",
              "    <tr>\n",
              "      <th>1</th>\n",
              "      <td>3.955748e-07</td>\n",
              "      <td>6.168836e-06</td>\n",
              "      <td>0.001823</td>\n",
              "      <td>0.273192</td>\n",
              "      <td>0.724978</td>\n",
              "    </tr>\n",
              "    <tr>\n",
              "      <th>2</th>\n",
              "      <td>1.501570e-07</td>\n",
              "      <td>1.441310e-06</td>\n",
              "      <td>0.000466</td>\n",
              "      <td>0.157030</td>\n",
              "      <td>0.842502</td>\n",
              "    </tr>\n",
              "    <tr>\n",
              "      <th>3</th>\n",
              "      <td>5.093613e-07</td>\n",
              "      <td>1.109832e-06</td>\n",
              "      <td>0.000150</td>\n",
              "      <td>0.056569</td>\n",
              "      <td>0.943279</td>\n",
              "    </tr>\n",
              "    <tr>\n",
              "      <th>4</th>\n",
              "      <td>1.616864e-04</td>\n",
              "      <td>3.898514e-04</td>\n",
              "      <td>0.008320</td>\n",
              "      <td>0.196654</td>\n",
              "      <td>0.794474</td>\n",
              "    </tr>\n",
              "    <tr>\n",
              "      <th>...</th>\n",
              "      <td>...</td>\n",
              "      <td>...</td>\n",
              "      <td>...</td>\n",
              "      <td>...</td>\n",
              "      <td>...</td>\n",
              "    </tr>\n",
              "    <tr>\n",
              "      <th>19995</th>\n",
              "      <td>2.565809e-04</td>\n",
              "      <td>1.956197e-03</td>\n",
              "      <td>0.052796</td>\n",
              "      <td>0.521081</td>\n",
              "      <td>0.423910</td>\n",
              "    </tr>\n",
              "    <tr>\n",
              "      <th>19996</th>\n",
              "      <td>6.199432e-01</td>\n",
              "      <td>1.163955e-01</td>\n",
              "      <td>0.054377</td>\n",
              "      <td>0.038821</td>\n",
              "      <td>0.170463</td>\n",
              "    </tr>\n",
              "    <tr>\n",
              "      <th>19997</th>\n",
              "      <td>3.410459e-01</td>\n",
              "      <td>2.749152e-01</td>\n",
              "      <td>0.238238</td>\n",
              "      <td>0.090561</td>\n",
              "      <td>0.055240</td>\n",
              "    </tr>\n",
              "    <tr>\n",
              "      <th>19998</th>\n",
              "      <td>2.941808e-04</td>\n",
              "      <td>2.484921e-04</td>\n",
              "      <td>0.003160</td>\n",
              "      <td>0.099359</td>\n",
              "      <td>0.896939</td>\n",
              "    </tr>\n",
              "    <tr>\n",
              "      <th>19999</th>\n",
              "      <td>3.012473e-06</td>\n",
              "      <td>1.417427e-05</td>\n",
              "      <td>0.001501</td>\n",
              "      <td>0.179933</td>\n",
              "      <td>0.818549</td>\n",
              "    </tr>\n",
              "  </tbody>\n",
              "</table>\n",
              "<p>20000 rows × 5 columns</p>\n",
              "</div>\n",
              "      <button class=\"colab-df-convert\" onclick=\"convertToInteractive('df-74c3c417-51a6-4b85-8bb2-e3df46e77f5f')\"\n",
              "              title=\"Convert this dataframe to an interactive table.\"\n",
              "              style=\"display:none;\">\n",
              "        \n",
              "  <svg xmlns=\"http://www.w3.org/2000/svg\" height=\"24px\"viewBox=\"0 0 24 24\"\n",
              "       width=\"24px\">\n",
              "    <path d=\"M0 0h24v24H0V0z\" fill=\"none\"/>\n",
              "    <path d=\"M18.56 5.44l.94 2.06.94-2.06 2.06-.94-2.06-.94-.94-2.06-.94 2.06-2.06.94zm-11 1L8.5 8.5l.94-2.06 2.06-.94-2.06-.94L8.5 2.5l-.94 2.06-2.06.94zm10 10l.94 2.06.94-2.06 2.06-.94-2.06-.94-.94-2.06-.94 2.06-2.06.94z\"/><path d=\"M17.41 7.96l-1.37-1.37c-.4-.4-.92-.59-1.43-.59-.52 0-1.04.2-1.43.59L10.3 9.45l-7.72 7.72c-.78.78-.78 2.05 0 2.83L4 21.41c.39.39.9.59 1.41.59.51 0 1.02-.2 1.41-.59l7.78-7.78 2.81-2.81c.8-.78.8-2.07 0-2.86zM5.41 20L4 18.59l7.72-7.72 1.47 1.35L5.41 20z\"/>\n",
              "  </svg>\n",
              "      </button>\n",
              "      \n",
              "  <style>\n",
              "    .colab-df-container {\n",
              "      display:flex;\n",
              "      flex-wrap:wrap;\n",
              "      gap: 12px;\n",
              "    }\n",
              "\n",
              "    .colab-df-convert {\n",
              "      background-color: #E8F0FE;\n",
              "      border: none;\n",
              "      border-radius: 50%;\n",
              "      cursor: pointer;\n",
              "      display: none;\n",
              "      fill: #1967D2;\n",
              "      height: 32px;\n",
              "      padding: 0 0 0 0;\n",
              "      width: 32px;\n",
              "    }\n",
              "\n",
              "    .colab-df-convert:hover {\n",
              "      background-color: #E2EBFA;\n",
              "      box-shadow: 0px 1px 2px rgba(60, 64, 67, 0.3), 0px 1px 3px 1px rgba(60, 64, 67, 0.15);\n",
              "      fill: #174EA6;\n",
              "    }\n",
              "\n",
              "    [theme=dark] .colab-df-convert {\n",
              "      background-color: #3B4455;\n",
              "      fill: #D2E3FC;\n",
              "    }\n",
              "\n",
              "    [theme=dark] .colab-df-convert:hover {\n",
              "      background-color: #434B5C;\n",
              "      box-shadow: 0px 1px 3px 1px rgba(0, 0, 0, 0.15);\n",
              "      filter: drop-shadow(0px 1px 2px rgba(0, 0, 0, 0.3));\n",
              "      fill: #FFFFFF;\n",
              "    }\n",
              "  </style>\n",
              "\n",
              "      <script>\n",
              "        const buttonEl =\n",
              "          document.querySelector('#df-74c3c417-51a6-4b85-8bb2-e3df46e77f5f button.colab-df-convert');\n",
              "        buttonEl.style.display =\n",
              "          google.colab.kernel.accessAllowed ? 'block' : 'none';\n",
              "\n",
              "        async function convertToInteractive(key) {\n",
              "          const element = document.querySelector('#df-74c3c417-51a6-4b85-8bb2-e3df46e77f5f');\n",
              "          const dataTable =\n",
              "            await google.colab.kernel.invokeFunction('convertToInteractive',\n",
              "                                                     [key], {});\n",
              "          if (!dataTable) return;\n",
              "\n",
              "          const docLinkHtml = 'Like what you see? Visit the ' +\n",
              "            '<a target=\"_blank\" href=https://colab.research.google.com/notebooks/data_table.ipynb>data table notebook</a>'\n",
              "            + ' to learn more about interactive tables.';\n",
              "          element.innerHTML = '';\n",
              "          dataTable['output_type'] = 'display_data';\n",
              "          await google.colab.output.renderOutput(dataTable, element);\n",
              "          const docLink = document.createElement('div');\n",
              "          docLink.innerHTML = docLinkHtml;\n",
              "          element.appendChild(docLink);\n",
              "        }\n",
              "      </script>\n",
              "    </div>\n",
              "  </div>\n",
              "  "
            ]
          },
          "metadata": {},
          "execution_count": 13
        }
      ]
    },
    {
      "cell_type": "code",
      "source": [
        "stage_2_preds_df.to_csv(\"W266_Group_Project/CNN_X_test_stage2_predictions_Confidence.csv\")"
      ],
      "metadata": {
        "id": "pDcCP_3FVu_M"
      },
      "id": "pDcCP_3FVu_M",
      "execution_count": 14,
      "outputs": []
    }
  ],
  "metadata": {
    "kernelspec": {
      "display_name": "conda_tensorflow2_latest_p37",
      "language": "python",
      "name": "conda_tensorflow2_latest_p37"
    },
    "language_info": {
      "codemirror_mode": {
        "name": "ipython",
        "version": 3
      },
      "file_extension": ".py",
      "mimetype": "text/x-python",
      "name": "python",
      "nbconvert_exporter": "python",
      "pygments_lexer": "ipython3",
      "version": "3.7.10"
    },
    "colab": {
      "name": "CodyCNNAnalysis2.ipynb",
      "provenance": [],
      "background_execution": "on",
      "collapsed_sections": [],
      "include_colab_link": true
    },
    "accelerator": "GPU"
  },
  "nbformat": 4,
  "nbformat_minor": 5
}