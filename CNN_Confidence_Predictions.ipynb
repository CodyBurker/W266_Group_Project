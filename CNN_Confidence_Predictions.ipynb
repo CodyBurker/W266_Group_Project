{
  "cells": [
    {
      "cell_type": "markdown",
      "metadata": {
        "id": "view-in-github",
        "colab_type": "text"
      },
      "source": [
        "<a href=\"https://colab.research.google.com/github/CodyBurker/W266_Group_Project/blob/master/CNN_Confidence_Predictions.ipynb\" target=\"_parent\"><img src=\"https://colab.research.google.com/assets/colab-badge.svg\" alt=\"Open In Colab\"/></a>"
      ]
    },
    {
      "cell_type": "markdown",
      "id": "8c60a99a",
      "metadata": {
        "id": "8c60a99a"
      },
      "source": [
        "Based on: https://machinelearningmastery.com/develop-word-embedding-model-predicting-movie-review-sentiment/"
      ]
    },
    {
      "cell_type": "code",
      "execution_count": 1,
      "id": "d3d43e6b",
      "metadata": {
        "id": "d3d43e6b"
      },
      "outputs": [],
      "source": [
        "import pandas as pd\n",
        "import string\n",
        "from nltk.corpus import stopwords\n",
        "import nltk\n",
        "import numpy as np"
      ]
    },
    {
      "cell_type": "code",
      "source": [
        "!git clone https://github.com/CodyBurker/W266_Group_Project"
      ],
      "metadata": {
        "colab": {
          "base_uri": "https://localhost:8080/"
        },
        "id": "0LMKJsWAWDCN",
        "outputId": "a8ba9821-7c8e-4042-9c20-15f90c615121"
      },
      "id": "0LMKJsWAWDCN",
      "execution_count": 2,
      "outputs": [
        {
          "output_type": "stream",
          "name": "stdout",
          "text": [
            "Cloning into 'W266_Group_Project'...\n",
            "remote: Enumerating objects: 224, done.\u001b[K\n",
            "remote: Counting objects: 100% (224/224), done.\u001b[K\n",
            "remote: Compressing objects: 100% (199/199), done.\u001b[K\n",
            "remote: Total 224 (delta 97), reused 85 (delta 20), pack-reused 0\u001b[K\n",
            "Receiving objects: 100% (224/224), 142.11 MiB | 23.96 MiB/s, done.\n",
            "Resolving deltas: 100% (97/97), done.\n",
            "Checking out files: 100% (48/48), done.\n"
          ]
        }
      ]
    },
    {
      "cell_type": "code",
      "execution_count": 3,
      "id": "6b7aac4d",
      "metadata": {
        "id": "6b7aac4d"
      },
      "outputs": [],
      "source": [
        "X_train = pd.read_csv(\"W266_Group_Project/x_train_stage_1_sampled_yelp_data.csv\")\n",
        "y_train = pd.read_csv(\"W266_Group_Project/y_train_stage_1_sampled_yelp_data.csv\")\n",
        "X_test = pd.read_csv(\"W266_Group_Project/x_test_sampled_yelp_data_NEW.csv\")\n",
        "y_test = pd.read_csv(\"W266_Group_Project/y_test_sampled_yelp_data_NEW.csv\")\n",
        "y_train = np.array(y_train.stars.astype('int')) - 1\n",
        "y_test = np.array(y_test.stars.astype('int')) - 1"
      ]
    },
    {
      "cell_type": "markdown",
      "source": [
        "Encode text and pad it."
      ],
      "metadata": {
        "id": "YuZGKY5XY3VG"
      },
      "id": "YuZGKY5XY3VG"
    },
    {
      "cell_type": "code",
      "source": [
        "from keras_preprocessing.text import Tokenizer\n",
        "from keras_preprocessing.sequence import pad_sequences"
      ],
      "metadata": {
        "id": "o90nvLmLXs_Q"
      },
      "id": "o90nvLmLXs_Q",
      "execution_count": 6,
      "outputs": []
    },
    {
      "cell_type": "code",
      "source": [
        "tokenizer = Tokenizer()\n",
        "tokenizer.fit_on_texts(X_train['text'])\n"
      ],
      "metadata": {
        "id": "IQa1fPakXyT0"
      },
      "id": "IQa1fPakXyT0",
      "execution_count": 7,
      "outputs": []
    },
    {
      "cell_type": "code",
      "source": [
        "# Hyper parameters to tune later: maxlen, padding\n",
        "sentence_len = 1024"
      ],
      "metadata": {
        "id": "3kIdvlqjYs6u"
      },
      "id": "3kIdvlqjYs6u",
      "execution_count": 8,
      "outputs": []
    },
    {
      "cell_type": "code",
      "source": [
        "from tensorflow import keras\n",
        "model = keras.models.load_model('W266_Group_Project/CNNModel')\n",
        "x_train_stage_2 = pd.read_csv(\"W266_Group_Project/x_train_stage_2_sampled_yelp_data.csv\")\n",
        "x_train_stage_2_tok = tokenizer.texts_to_sequences(x_train_stage_2['text'])\n",
        "x_train_stage_2_enc = pad_sequences(x_train_stage_2_tok, maxlen=sentence_len, padding='post', truncating = 'post')\n",
        "\n"
      ],
      "metadata": {
        "id": "2No5htkrjm-I"
      },
      "id": "2No5htkrjm-I",
      "execution_count": 9,
      "outputs": []
    },
    {
      "cell_type": "code",
      "source": [
        "stage_2_preds = model.predict(x_train_stage_2_enc)"
      ],
      "metadata": {
        "id": "kDQrT6s5Gw0b"
      },
      "id": "kDQrT6s5Gw0b",
      "execution_count": 11,
      "outputs": []
    },
    {
      "cell_type": "code",
      "source": [
        "stage_2_preds[0:10]"
      ],
      "metadata": {
        "id": "ZXF8azbjHZDO",
        "outputId": "ad144601-57a1-4aeb-cdb5-8b5a0c49c8e0",
        "colab": {
          "base_uri": "https://localhost:8080/"
        }
      },
      "id": "ZXF8azbjHZDO",
      "execution_count": 12,
      "outputs": [
        {
          "output_type": "execute_result",
          "data": {
            "text/plain": [
              "array([[5.4274762e-11, 2.7156696e-10, 6.2438602e-07, 1.1437516e-02,\n",
              "        9.8856187e-01],\n",
              "       [8.0849964e-04, 1.5695454e-03, 2.1825543e-02, 2.7155662e-01,\n",
              "        7.0423973e-01],\n",
              "       [1.5388006e-04, 8.8449102e-04, 2.4960924e-02, 3.8966149e-01,\n",
              "        5.8433920e-01],\n",
              "       [2.2776437e-03, 7.5082546e-03, 8.4344968e-02, 5.0288910e-01,\n",
              "        4.0298003e-01],\n",
              "       [2.6412055e-04, 2.9147661e-03, 7.7409886e-02, 6.0425001e-01,\n",
              "        3.1516132e-01],\n",
              "       [5.8987451e-01, 3.6625132e-01, 4.3304168e-02, 5.3667545e-04,\n",
              "        3.3230252e-05],\n",
              "       [2.8363879e-06, 1.9484212e-06, 8.6495951e-05, 2.2184024e-02,\n",
              "        9.7772467e-01],\n",
              "       [5.4703225e-05, 1.1042092e-03, 4.7679093e-02, 6.1958158e-01,\n",
              "        3.3158043e-01],\n",
              "       [1.3357954e-05, 1.2611100e-04, 8.1348065e-03, 3.7151840e-01,\n",
              "        6.2020731e-01],\n",
              "       [3.8825037e-06, 8.4894040e-05, 1.0302837e-02, 4.6546927e-01,\n",
              "        5.2413911e-01]], dtype=float32)"
            ]
          },
          "metadata": {},
          "execution_count": 12
        }
      ]
    },
    {
      "cell_type": "code",
      "source": [
        "stage_2_preds_df = pd.DataFrame(stage_2_preds)\n",
        "stage_2_preds_df.columns = ['CNN1','CNN2','CNN3','CNN4','CNN5']\n",
        "stage_2_preds_df"
      ],
      "metadata": {
        "id": "sot0u6wPG2oB",
        "outputId": "4c2d619a-99ea-4644-b381-4fd016134ebf",
        "colab": {
          "base_uri": "https://localhost:8080/",
          "height": 423
        }
      },
      "id": "sot0u6wPG2oB",
      "execution_count": 13,
      "outputs": [
        {
          "output_type": "execute_result",
          "data": {
            "text/plain": [
              "               CNN1          CNN2          CNN3      CNN4      CNN5\n",
              "0      5.427476e-11  2.715670e-10  6.243860e-07  0.011438  0.988562\n",
              "1      8.084996e-04  1.569545e-03  2.182554e-02  0.271557  0.704240\n",
              "2      1.538801e-04  8.844910e-04  2.496092e-02  0.389661  0.584339\n",
              "3      2.277644e-03  7.508255e-03  8.434497e-02  0.502889  0.402980\n",
              "4      2.641206e-04  2.914766e-03  7.740989e-02  0.604250  0.315161\n",
              "...             ...           ...           ...       ...       ...\n",
              "79995  7.084869e-04  3.085575e-03  5.436052e-02  0.466108  0.475737\n",
              "79996  9.292719e-08  7.591374e-07  2.654752e-04  0.121828  0.877906\n",
              "79997  3.046503e-04  3.520773e-04  4.828411e-03  0.132024  0.862490\n",
              "79998  6.403273e-05  1.884199e-03  8.940139e-02  0.711236  0.197414\n",
              "79999  2.152871e-05  5.342661e-04  4.390914e-02  0.660857  0.294678\n",
              "\n",
              "[80000 rows x 5 columns]"
            ],
            "text/html": [
              "\n",
              "  <div id=\"df-b3cbaecd-312e-450c-9303-675ea8106dd2\">\n",
              "    <div class=\"colab-df-container\">\n",
              "      <div>\n",
              "<style scoped>\n",
              "    .dataframe tbody tr th:only-of-type {\n",
              "        vertical-align: middle;\n",
              "    }\n",
              "\n",
              "    .dataframe tbody tr th {\n",
              "        vertical-align: top;\n",
              "    }\n",
              "\n",
              "    .dataframe thead th {\n",
              "        text-align: right;\n",
              "    }\n",
              "</style>\n",
              "<table border=\"1\" class=\"dataframe\">\n",
              "  <thead>\n",
              "    <tr style=\"text-align: right;\">\n",
              "      <th></th>\n",
              "      <th>CNN1</th>\n",
              "      <th>CNN2</th>\n",
              "      <th>CNN3</th>\n",
              "      <th>CNN4</th>\n",
              "      <th>CNN5</th>\n",
              "    </tr>\n",
              "  </thead>\n",
              "  <tbody>\n",
              "    <tr>\n",
              "      <th>0</th>\n",
              "      <td>5.427476e-11</td>\n",
              "      <td>2.715670e-10</td>\n",
              "      <td>6.243860e-07</td>\n",
              "      <td>0.011438</td>\n",
              "      <td>0.988562</td>\n",
              "    </tr>\n",
              "    <tr>\n",
              "      <th>1</th>\n",
              "      <td>8.084996e-04</td>\n",
              "      <td>1.569545e-03</td>\n",
              "      <td>2.182554e-02</td>\n",
              "      <td>0.271557</td>\n",
              "      <td>0.704240</td>\n",
              "    </tr>\n",
              "    <tr>\n",
              "      <th>2</th>\n",
              "      <td>1.538801e-04</td>\n",
              "      <td>8.844910e-04</td>\n",
              "      <td>2.496092e-02</td>\n",
              "      <td>0.389661</td>\n",
              "      <td>0.584339</td>\n",
              "    </tr>\n",
              "    <tr>\n",
              "      <th>3</th>\n",
              "      <td>2.277644e-03</td>\n",
              "      <td>7.508255e-03</td>\n",
              "      <td>8.434497e-02</td>\n",
              "      <td>0.502889</td>\n",
              "      <td>0.402980</td>\n",
              "    </tr>\n",
              "    <tr>\n",
              "      <th>4</th>\n",
              "      <td>2.641206e-04</td>\n",
              "      <td>2.914766e-03</td>\n",
              "      <td>7.740989e-02</td>\n",
              "      <td>0.604250</td>\n",
              "      <td>0.315161</td>\n",
              "    </tr>\n",
              "    <tr>\n",
              "      <th>...</th>\n",
              "      <td>...</td>\n",
              "      <td>...</td>\n",
              "      <td>...</td>\n",
              "      <td>...</td>\n",
              "      <td>...</td>\n",
              "    </tr>\n",
              "    <tr>\n",
              "      <th>79995</th>\n",
              "      <td>7.084869e-04</td>\n",
              "      <td>3.085575e-03</td>\n",
              "      <td>5.436052e-02</td>\n",
              "      <td>0.466108</td>\n",
              "      <td>0.475737</td>\n",
              "    </tr>\n",
              "    <tr>\n",
              "      <th>79996</th>\n",
              "      <td>9.292719e-08</td>\n",
              "      <td>7.591374e-07</td>\n",
              "      <td>2.654752e-04</td>\n",
              "      <td>0.121828</td>\n",
              "      <td>0.877906</td>\n",
              "    </tr>\n",
              "    <tr>\n",
              "      <th>79997</th>\n",
              "      <td>3.046503e-04</td>\n",
              "      <td>3.520773e-04</td>\n",
              "      <td>4.828411e-03</td>\n",
              "      <td>0.132024</td>\n",
              "      <td>0.862490</td>\n",
              "    </tr>\n",
              "    <tr>\n",
              "      <th>79998</th>\n",
              "      <td>6.403273e-05</td>\n",
              "      <td>1.884199e-03</td>\n",
              "      <td>8.940139e-02</td>\n",
              "      <td>0.711236</td>\n",
              "      <td>0.197414</td>\n",
              "    </tr>\n",
              "    <tr>\n",
              "      <th>79999</th>\n",
              "      <td>2.152871e-05</td>\n",
              "      <td>5.342661e-04</td>\n",
              "      <td>4.390914e-02</td>\n",
              "      <td>0.660857</td>\n",
              "      <td>0.294678</td>\n",
              "    </tr>\n",
              "  </tbody>\n",
              "</table>\n",
              "<p>80000 rows × 5 columns</p>\n",
              "</div>\n",
              "      <button class=\"colab-df-convert\" onclick=\"convertToInteractive('df-b3cbaecd-312e-450c-9303-675ea8106dd2')\"\n",
              "              title=\"Convert this dataframe to an interactive table.\"\n",
              "              style=\"display:none;\">\n",
              "        \n",
              "  <svg xmlns=\"http://www.w3.org/2000/svg\" height=\"24px\"viewBox=\"0 0 24 24\"\n",
              "       width=\"24px\">\n",
              "    <path d=\"M0 0h24v24H0V0z\" fill=\"none\"/>\n",
              "    <path d=\"M18.56 5.44l.94 2.06.94-2.06 2.06-.94-2.06-.94-.94-2.06-.94 2.06-2.06.94zm-11 1L8.5 8.5l.94-2.06 2.06-.94-2.06-.94L8.5 2.5l-.94 2.06-2.06.94zm10 10l.94 2.06.94-2.06 2.06-.94-2.06-.94-.94-2.06-.94 2.06-2.06.94z\"/><path d=\"M17.41 7.96l-1.37-1.37c-.4-.4-.92-.59-1.43-.59-.52 0-1.04.2-1.43.59L10.3 9.45l-7.72 7.72c-.78.78-.78 2.05 0 2.83L4 21.41c.39.39.9.59 1.41.59.51 0 1.02-.2 1.41-.59l7.78-7.78 2.81-2.81c.8-.78.8-2.07 0-2.86zM5.41 20L4 18.59l7.72-7.72 1.47 1.35L5.41 20z\"/>\n",
              "  </svg>\n",
              "      </button>\n",
              "      \n",
              "  <style>\n",
              "    .colab-df-container {\n",
              "      display:flex;\n",
              "      flex-wrap:wrap;\n",
              "      gap: 12px;\n",
              "    }\n",
              "\n",
              "    .colab-df-convert {\n",
              "      background-color: #E8F0FE;\n",
              "      border: none;\n",
              "      border-radius: 50%;\n",
              "      cursor: pointer;\n",
              "      display: none;\n",
              "      fill: #1967D2;\n",
              "      height: 32px;\n",
              "      padding: 0 0 0 0;\n",
              "      width: 32px;\n",
              "    }\n",
              "\n",
              "    .colab-df-convert:hover {\n",
              "      background-color: #E2EBFA;\n",
              "      box-shadow: 0px 1px 2px rgba(60, 64, 67, 0.3), 0px 1px 3px 1px rgba(60, 64, 67, 0.15);\n",
              "      fill: #174EA6;\n",
              "    }\n",
              "\n",
              "    [theme=dark] .colab-df-convert {\n",
              "      background-color: #3B4455;\n",
              "      fill: #D2E3FC;\n",
              "    }\n",
              "\n",
              "    [theme=dark] .colab-df-convert:hover {\n",
              "      background-color: #434B5C;\n",
              "      box-shadow: 0px 1px 3px 1px rgba(0, 0, 0, 0.15);\n",
              "      filter: drop-shadow(0px 1px 2px rgba(0, 0, 0, 0.3));\n",
              "      fill: #FFFFFF;\n",
              "    }\n",
              "  </style>\n",
              "\n",
              "      <script>\n",
              "        const buttonEl =\n",
              "          document.querySelector('#df-b3cbaecd-312e-450c-9303-675ea8106dd2 button.colab-df-convert');\n",
              "        buttonEl.style.display =\n",
              "          google.colab.kernel.accessAllowed ? 'block' : 'none';\n",
              "\n",
              "        async function convertToInteractive(key) {\n",
              "          const element = document.querySelector('#df-b3cbaecd-312e-450c-9303-675ea8106dd2');\n",
              "          const dataTable =\n",
              "            await google.colab.kernel.invokeFunction('convertToInteractive',\n",
              "                                                     [key], {});\n",
              "          if (!dataTable) return;\n",
              "\n",
              "          const docLinkHtml = 'Like what you see? Visit the ' +\n",
              "            '<a target=\"_blank\" href=https://colab.research.google.com/notebooks/data_table.ipynb>data table notebook</a>'\n",
              "            + ' to learn more about interactive tables.';\n",
              "          element.innerHTML = '';\n",
              "          dataTable['output_type'] = 'display_data';\n",
              "          await google.colab.output.renderOutput(dataTable, element);\n",
              "          const docLink = document.createElement('div');\n",
              "          docLink.innerHTML = docLinkHtml;\n",
              "          element.appendChild(docLink);\n",
              "        }\n",
              "      </script>\n",
              "    </div>\n",
              "  </div>\n",
              "  "
            ]
          },
          "metadata": {},
          "execution_count": 13
        }
      ]
    },
    {
      "cell_type": "code",
      "source": [
        "# Write processed preds to disk\n",
        "stage_2_preds_df.to_csv(\"W266_Group_Project/CNN_Confidence_x_train_stage_2_sampled_yelp_data.csv\")"
      ],
      "metadata": {
        "id": "C_DYbn8fHm-I"
      },
      "id": "C_DYbn8fHm-I",
      "execution_count": 14,
      "outputs": []
    },
    {
      "cell_type": "markdown",
      "source": [
        "80k Stage 2"
      ],
      "metadata": {
        "id": "SVsrn_LyVmCf"
      },
      "id": "SVsrn_LyVmCf"
    },
    {
      "cell_type": "code",
      "source": [
        "x_train_stage_2 = pd.read_csv(\"W266_Group_Project/x_test_sampled_yelp_data_NEW.csv\")\n",
        "x_train_stage_2_tok = tokenizer.texts_to_sequences(x_train_stage_2['text'])\n",
        "x_train_stage_2_enc = pad_sequences(x_train_stage_2_tok, maxlen=sentence_len, padding='post', truncating = 'post')"
      ],
      "metadata": {
        "id": "igE5jLpDBHy5"
      },
      "id": "igE5jLpDBHy5",
      "execution_count": 15,
      "outputs": []
    },
    {
      "cell_type": "code",
      "source": [
        "x_train_stage_2_preds = model.predict(x_train_stage_2_enc)"
      ],
      "metadata": {
        "id": "4HKZVa1Db-zt"
      },
      "id": "4HKZVa1Db-zt",
      "execution_count": 16,
      "outputs": []
    },
    {
      "cell_type": "code",
      "source": [
        "stage_2_preds_df = pd.DataFrame(x_train_stage_2_preds)\n",
        "stage_2_preds_df.columns = ['CNN1','CNN2','CNN3','CNN4','CNN5']\n",
        "stage_2_preds_df"
      ],
      "metadata": {
        "id": "4rNtGP8KVtL9",
        "outputId": "3d3eae62-9b6b-44e9-db29-ecb969e3c9e8",
        "colab": {
          "base_uri": "https://localhost:8080/",
          "height": 423
        }
      },
      "id": "4rNtGP8KVtL9",
      "execution_count": 17,
      "outputs": [
        {
          "output_type": "execute_result",
          "data": {
            "text/plain": [
              "               CNN1          CNN2      CNN3      CNN4      CNN5\n",
              "0      3.192664e-07  8.497344e-07  0.000128  0.056308  0.943563\n",
              "1      3.967343e-07  6.186232e-06  0.001827  0.273400  0.724766\n",
              "2      1.501992e-07  1.440981e-06  0.000466  0.157051  0.842481\n",
              "3      5.104080e-07  1.112177e-06  0.000151  0.056605  0.943243\n",
              "4      1.618752e-04  3.904097e-04  0.008331  0.196789  0.794327\n",
              "...             ...           ...       ...       ...       ...\n",
              "19995  2.566059e-04  1.955470e-03  0.052774  0.521049  0.423965\n",
              "19996  6.207200e-01  1.164334e-01  0.054312  0.038678  0.169856\n",
              "19997  3.409913e-01  2.749851e-01  0.238320  0.090529  0.055175\n",
              "19998  2.946011e-04  2.487160e-04  0.003161  0.099363  0.896932\n",
              "19999  3.013830e-06  1.417894e-05  0.001501  0.179909  0.818573\n",
              "\n",
              "[20000 rows x 5 columns]"
            ],
            "text/html": [
              "\n",
              "  <div id=\"df-5e8522b6-8778-4215-887b-222b547c72e3\">\n",
              "    <div class=\"colab-df-container\">\n",
              "      <div>\n",
              "<style scoped>\n",
              "    .dataframe tbody tr th:only-of-type {\n",
              "        vertical-align: middle;\n",
              "    }\n",
              "\n",
              "    .dataframe tbody tr th {\n",
              "        vertical-align: top;\n",
              "    }\n",
              "\n",
              "    .dataframe thead th {\n",
              "        text-align: right;\n",
              "    }\n",
              "</style>\n",
              "<table border=\"1\" class=\"dataframe\">\n",
              "  <thead>\n",
              "    <tr style=\"text-align: right;\">\n",
              "      <th></th>\n",
              "      <th>CNN1</th>\n",
              "      <th>CNN2</th>\n",
              "      <th>CNN3</th>\n",
              "      <th>CNN4</th>\n",
              "      <th>CNN5</th>\n",
              "    </tr>\n",
              "  </thead>\n",
              "  <tbody>\n",
              "    <tr>\n",
              "      <th>0</th>\n",
              "      <td>3.192664e-07</td>\n",
              "      <td>8.497344e-07</td>\n",
              "      <td>0.000128</td>\n",
              "      <td>0.056308</td>\n",
              "      <td>0.943563</td>\n",
              "    </tr>\n",
              "    <tr>\n",
              "      <th>1</th>\n",
              "      <td>3.967343e-07</td>\n",
              "      <td>6.186232e-06</td>\n",
              "      <td>0.001827</td>\n",
              "      <td>0.273400</td>\n",
              "      <td>0.724766</td>\n",
              "    </tr>\n",
              "    <tr>\n",
              "      <th>2</th>\n",
              "      <td>1.501992e-07</td>\n",
              "      <td>1.440981e-06</td>\n",
              "      <td>0.000466</td>\n",
              "      <td>0.157051</td>\n",
              "      <td>0.842481</td>\n",
              "    </tr>\n",
              "    <tr>\n",
              "      <th>3</th>\n",
              "      <td>5.104080e-07</td>\n",
              "      <td>1.112177e-06</td>\n",
              "      <td>0.000151</td>\n",
              "      <td>0.056605</td>\n",
              "      <td>0.943243</td>\n",
              "    </tr>\n",
              "    <tr>\n",
              "      <th>4</th>\n",
              "      <td>1.618752e-04</td>\n",
              "      <td>3.904097e-04</td>\n",
              "      <td>0.008331</td>\n",
              "      <td>0.196789</td>\n",
              "      <td>0.794327</td>\n",
              "    </tr>\n",
              "    <tr>\n",
              "      <th>...</th>\n",
              "      <td>...</td>\n",
              "      <td>...</td>\n",
              "      <td>...</td>\n",
              "      <td>...</td>\n",
              "      <td>...</td>\n",
              "    </tr>\n",
              "    <tr>\n",
              "      <th>19995</th>\n",
              "      <td>2.566059e-04</td>\n",
              "      <td>1.955470e-03</td>\n",
              "      <td>0.052774</td>\n",
              "      <td>0.521049</td>\n",
              "      <td>0.423965</td>\n",
              "    </tr>\n",
              "    <tr>\n",
              "      <th>19996</th>\n",
              "      <td>6.207200e-01</td>\n",
              "      <td>1.164334e-01</td>\n",
              "      <td>0.054312</td>\n",
              "      <td>0.038678</td>\n",
              "      <td>0.169856</td>\n",
              "    </tr>\n",
              "    <tr>\n",
              "      <th>19997</th>\n",
              "      <td>3.409913e-01</td>\n",
              "      <td>2.749851e-01</td>\n",
              "      <td>0.238320</td>\n",
              "      <td>0.090529</td>\n",
              "      <td>0.055175</td>\n",
              "    </tr>\n",
              "    <tr>\n",
              "      <th>19998</th>\n",
              "      <td>2.946011e-04</td>\n",
              "      <td>2.487160e-04</td>\n",
              "      <td>0.003161</td>\n",
              "      <td>0.099363</td>\n",
              "      <td>0.896932</td>\n",
              "    </tr>\n",
              "    <tr>\n",
              "      <th>19999</th>\n",
              "      <td>3.013830e-06</td>\n",
              "      <td>1.417894e-05</td>\n",
              "      <td>0.001501</td>\n",
              "      <td>0.179909</td>\n",
              "      <td>0.818573</td>\n",
              "    </tr>\n",
              "  </tbody>\n",
              "</table>\n",
              "<p>20000 rows × 5 columns</p>\n",
              "</div>\n",
              "      <button class=\"colab-df-convert\" onclick=\"convertToInteractive('df-5e8522b6-8778-4215-887b-222b547c72e3')\"\n",
              "              title=\"Convert this dataframe to an interactive table.\"\n",
              "              style=\"display:none;\">\n",
              "        \n",
              "  <svg xmlns=\"http://www.w3.org/2000/svg\" height=\"24px\"viewBox=\"0 0 24 24\"\n",
              "       width=\"24px\">\n",
              "    <path d=\"M0 0h24v24H0V0z\" fill=\"none\"/>\n",
              "    <path d=\"M18.56 5.44l.94 2.06.94-2.06 2.06-.94-2.06-.94-.94-2.06-.94 2.06-2.06.94zm-11 1L8.5 8.5l.94-2.06 2.06-.94-2.06-.94L8.5 2.5l-.94 2.06-2.06.94zm10 10l.94 2.06.94-2.06 2.06-.94-2.06-.94-.94-2.06-.94 2.06-2.06.94z\"/><path d=\"M17.41 7.96l-1.37-1.37c-.4-.4-.92-.59-1.43-.59-.52 0-1.04.2-1.43.59L10.3 9.45l-7.72 7.72c-.78.78-.78 2.05 0 2.83L4 21.41c.39.39.9.59 1.41.59.51 0 1.02-.2 1.41-.59l7.78-7.78 2.81-2.81c.8-.78.8-2.07 0-2.86zM5.41 20L4 18.59l7.72-7.72 1.47 1.35L5.41 20z\"/>\n",
              "  </svg>\n",
              "      </button>\n",
              "      \n",
              "  <style>\n",
              "    .colab-df-container {\n",
              "      display:flex;\n",
              "      flex-wrap:wrap;\n",
              "      gap: 12px;\n",
              "    }\n",
              "\n",
              "    .colab-df-convert {\n",
              "      background-color: #E8F0FE;\n",
              "      border: none;\n",
              "      border-radius: 50%;\n",
              "      cursor: pointer;\n",
              "      display: none;\n",
              "      fill: #1967D2;\n",
              "      height: 32px;\n",
              "      padding: 0 0 0 0;\n",
              "      width: 32px;\n",
              "    }\n",
              "\n",
              "    .colab-df-convert:hover {\n",
              "      background-color: #E2EBFA;\n",
              "      box-shadow: 0px 1px 2px rgba(60, 64, 67, 0.3), 0px 1px 3px 1px rgba(60, 64, 67, 0.15);\n",
              "      fill: #174EA6;\n",
              "    }\n",
              "\n",
              "    [theme=dark] .colab-df-convert {\n",
              "      background-color: #3B4455;\n",
              "      fill: #D2E3FC;\n",
              "    }\n",
              "\n",
              "    [theme=dark] .colab-df-convert:hover {\n",
              "      background-color: #434B5C;\n",
              "      box-shadow: 0px 1px 3px 1px rgba(0, 0, 0, 0.15);\n",
              "      filter: drop-shadow(0px 1px 2px rgba(0, 0, 0, 0.3));\n",
              "      fill: #FFFFFF;\n",
              "    }\n",
              "  </style>\n",
              "\n",
              "      <script>\n",
              "        const buttonEl =\n",
              "          document.querySelector('#df-5e8522b6-8778-4215-887b-222b547c72e3 button.colab-df-convert');\n",
              "        buttonEl.style.display =\n",
              "          google.colab.kernel.accessAllowed ? 'block' : 'none';\n",
              "\n",
              "        async function convertToInteractive(key) {\n",
              "          const element = document.querySelector('#df-5e8522b6-8778-4215-887b-222b547c72e3');\n",
              "          const dataTable =\n",
              "            await google.colab.kernel.invokeFunction('convertToInteractive',\n",
              "                                                     [key], {});\n",
              "          if (!dataTable) return;\n",
              "\n",
              "          const docLinkHtml = 'Like what you see? Visit the ' +\n",
              "            '<a target=\"_blank\" href=https://colab.research.google.com/notebooks/data_table.ipynb>data table notebook</a>'\n",
              "            + ' to learn more about interactive tables.';\n",
              "          element.innerHTML = '';\n",
              "          dataTable['output_type'] = 'display_data';\n",
              "          await google.colab.output.renderOutput(dataTable, element);\n",
              "          const docLink = document.createElement('div');\n",
              "          docLink.innerHTML = docLinkHtml;\n",
              "          element.appendChild(docLink);\n",
              "        }\n",
              "      </script>\n",
              "    </div>\n",
              "  </div>\n",
              "  "
            ]
          },
          "metadata": {},
          "execution_count": 17
        }
      ]
    },
    {
      "cell_type": "code",
      "source": [
        "stage_2_preds_df.to_csv(\"W266_Group_Project/CNN_Confidence_x_test_sampled_yelp_data_NEW.csv\")"
      ],
      "metadata": {
        "id": "pDcCP_3FVu_M"
      },
      "id": "pDcCP_3FVu_M",
      "execution_count": 18,
      "outputs": []
    },
    {
      "cell_type": "code",
      "source": [
        ""
      ],
      "metadata": {
        "id": "azYzduEwPxau"
      },
      "id": "azYzduEwPxau",
      "execution_count": 19,
      "outputs": []
    },
    {
      "cell_type": "code",
      "source": [
        ""
      ],
      "metadata": {
        "id": "vI1GlUNKcTf_",
        "outputId": "ae7772a6-cd0a-44b7-9177-420b193d6b90",
        "colab": {
          "base_uri": "https://localhost:8080/"
        }
      },
      "id": "vI1GlUNKcTf_",
      "execution_count": 20,
      "outputs": [
        {
          "output_type": "stream",
          "name": "stdout",
          "text": [
            "fatal: not a git repository (or any of the parent directories): .git\n",
            "fatal: not a git repository (or any of the parent directories): .git\n"
          ]
        }
      ]
    },
    {
      "cell_type": "code",
      "source": [
        ""
      ],
      "metadata": {
        "id": "2poe0iDccX4V"
      },
      "id": "2poe0iDccX4V",
      "execution_count": null,
      "outputs": []
    }
  ],
  "metadata": {
    "kernelspec": {
      "display_name": "conda_tensorflow2_latest_p37",
      "language": "python",
      "name": "conda_tensorflow2_latest_p37"
    },
    "language_info": {
      "codemirror_mode": {
        "name": "ipython",
        "version": 3
      },
      "file_extension": ".py",
      "mimetype": "text/x-python",
      "name": "python",
      "nbconvert_exporter": "python",
      "pygments_lexer": "ipython3",
      "version": "3.7.10"
    },
    "colab": {
      "name": "CodyCNNAnalysis2.ipynb",
      "provenance": [],
      "background_execution": "on",
      "collapsed_sections": [],
      "include_colab_link": true
    },
    "accelerator": "GPU"
  },
  "nbformat": 4,
  "nbformat_minor": 5
}