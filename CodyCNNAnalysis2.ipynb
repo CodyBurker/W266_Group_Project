{
  "cells": [
    {
      "cell_type": "markdown",
      "metadata": {
        "id": "view-in-github",
        "colab_type": "text"
      },
      "source": [
        "<a href=\"https://colab.research.google.com/github/CodyBurker/W266_Group_Project/blob/CodyCNNBase/CodyCNNAnalysis2.ipynb\" target=\"_parent\"><img src=\"https://colab.research.google.com/assets/colab-badge.svg\" alt=\"Open In Colab\"/></a>"
      ]
    },
    {
      "cell_type": "markdown",
      "id": "8c60a99a",
      "metadata": {
        "id": "8c60a99a"
      },
      "source": [
        "Based on: https://machinelearningmastery.com/develop-word-embedding-model-predicting-movie-review-sentiment/"
      ]
    },
    {
      "cell_type": "code",
      "execution_count": 2,
      "id": "d3d43e6b",
      "metadata": {
        "id": "d3d43e6b"
      },
      "outputs": [],
      "source": [
        "import pandas as pd\n",
        "import string\n",
        "from nltk.corpus import stopwords\n",
        "import nltk\n",
        "import numpy as np"
      ]
    },
    {
      "cell_type": "code",
      "source": [
        "!git clone https://github.com/CodyBurker/W266_Group_Project"
      ],
      "metadata": {
        "colab": {
          "base_uri": "https://localhost:8080/"
        },
        "id": "0LMKJsWAWDCN",
        "outputId": "1ac75825-0bf1-42ae-b922-5931930396e3"
      },
      "id": "0LMKJsWAWDCN",
      "execution_count": 3,
      "outputs": [
        {
          "output_type": "stream",
          "name": "stdout",
          "text": [
            "Cloning into 'W266_Group_Project'...\n",
            "remote: Enumerating objects: 139, done.\u001b[K\n",
            "remote: Counting objects: 100% (139/139), done.\u001b[K\n",
            "remote: Compressing objects: 100% (127/127), done.\u001b[K\n",
            "remote: Total 139 (delta 57), reused 42 (delta 7), pack-reused 0\u001b[K\n",
            "Receiving objects: 100% (139/139), 133.37 MiB | 26.77 MiB/s, done.\n",
            "Resolving deltas: 100% (57/57), done.\n",
            "Checking out files: 100% (20/20), done.\n"
          ]
        }
      ]
    },
    {
      "cell_type": "code",
      "execution_count": 4,
      "id": "4052af92",
      "metadata": {
        "id": "4052af92"
      },
      "outputs": [],
      "source": [
        "def read_in_data(path=\"W266_Group_Project/\"):\n",
        "    import pandas as pd\n",
        "    X_train = pd.read_csv(path + \"x_train_sampled_yelp_data.csv\")\n",
        "    y_train = pd.read_csv(path + \"y_train_sampled_yelp_data.csv\")\n",
        "    X_test = pd.read_csv(path + \"x_test_sampled_yelp_data.csv\")\n",
        "    y_test = pd.read_csv(path + \"y_test_sampled_yelp_data.csv\")\n",
        "    return X_train, X_test, y_train, y_test"
      ]
    },
    {
      "cell_type": "code",
      "execution_count": 15,
      "id": "6b7aac4d",
      "metadata": {
        "id": "6b7aac4d"
      },
      "outputs": [],
      "source": [
        "X_train = pd.read_csv(\"W266_Group_Project/x_train_stage_1_sampled_yelp_data.csv\")\n",
        "y_train = pd.read_csv(\"W266_Group_Project/y_train_stage_1_sampled_yelp_data.csv\")\n",
        "X_test = pd.read_csv(\"W266_Group_Project/x_test_sampled_yelp_data_NEW.csv\")\n",
        "y_test = pd.read_csv(\"W266_Group_Project/y_test_sampled_yelp_data_NEW.csv\")\n",
        "y_train = np.array(y_train.stars.astype('int')) - 1\n",
        "y_test = np.array(y_test.stars.astype('int')) - 1"
      ]
    },
    {
      "cell_type": "markdown",
      "source": [
        "https://towardsdev.com/sentiment-analysis-with-cnn-using-keras-c4debff57fc5?gi=708b4ef40e2f"
      ],
      "metadata": {
        "id": "ceOrQM3YXY7t"
      },
      "id": "ceOrQM3YXY7t"
    },
    {
      "cell_type": "markdown",
      "source": [
        "Encode text and pad it."
      ],
      "metadata": {
        "id": "YuZGKY5XY3VG"
      },
      "id": "YuZGKY5XY3VG"
    },
    {
      "cell_type": "code",
      "source": [
        ""
      ],
      "metadata": {
        "id": "1tvRcs5RtiyX"
      },
      "id": "1tvRcs5RtiyX",
      "execution_count": 5,
      "outputs": []
    },
    {
      "cell_type": "markdown",
      "source": [
        "Word2Vec: https://machinelearningknowledge.ai/word2vec-in-gensim-explained-for-creating-word-embedding-models-pretrained-and-custom/"
      ],
      "metadata": {
        "id": "soLNy3-ktjoi"
      },
      "id": "soLNy3-ktjoi"
    },
    {
      "cell_type": "code",
      "source": [
        "# from gensim.models import Word2Vec,KeyedVectors"
      ],
      "metadata": {
        "id": "3NwD8KzOtJ_f"
      },
      "id": "3NwD8KzOtJ_f",
      "execution_count": 6,
      "outputs": []
    },
    {
      "cell_type": "code",
      "source": [
        "from keras_preprocessing.text import Tokenizer\n",
        "from keras_preprocessing.sequence import pad_sequences"
      ],
      "metadata": {
        "id": "o90nvLmLXs_Q"
      },
      "id": "o90nvLmLXs_Q",
      "execution_count": 22,
      "outputs": []
    },
    {
      "cell_type": "code",
      "source": [
        "tokenizer = Tokenizer()\n",
        "tokenizer.fit_on_texts(X_train['text'])\n"
      ],
      "metadata": {
        "id": "IQa1fPakXyT0"
      },
      "id": "IQa1fPakXyT0",
      "execution_count": 23,
      "outputs": []
    },
    {
      "cell_type": "code",
      "source": [
        "X_train['encoded'] = tokenizer.texts_to_sequences(X_train['text'])\n",
        "X_test['encoded'] = tokenizer.texts_to_sequences(X_test['text'])"
      ],
      "metadata": {
        "id": "5GbdV6xOX2WP"
      },
      "id": "5GbdV6xOX2WP",
      "execution_count": 24,
      "outputs": []
    },
    {
      "cell_type": "code",
      "source": [
        "import matplotlib.pyplot as plt\n",
        "plt.hist(X_train['encoded'].apply(len))"
      ],
      "metadata": {
        "id": "Lua8k2hqwuxA",
        "colab": {
          "base_uri": "https://localhost:8080/",
          "height": 333
        },
        "outputId": "69e3f38f-e77e-4054-bd33-f39586d0a2bf"
      },
      "id": "Lua8k2hqwuxA",
      "execution_count": 25,
      "outputs": [
        {
          "output_type": "execute_result",
          "data": {
            "text/plain": [
              "(array([46671., 21294.,  7147.,  2708.,  1110.,   544.,   225.,   128.,\n",
              "           89.,    84.]),\n",
              " array([  1.,  98., 195., 292., 389., 486., 583., 680., 777., 874., 971.]),\n",
              " <a list of 10 Patch objects>)"
            ]
          },
          "metadata": {},
          "execution_count": 25
        },
        {
          "output_type": "display_data",
          "data": {
            "text/plain": [
              "<Figure size 432x288 with 1 Axes>"
            ],
            "image/png": "[encoded data removed]"
          },
          "metadata": {
            "needs_background": "light"
          }
        }
      ]
    },
    {
      "cell_type": "code",
      "source": [
        "# Hyper parameters to tune later: maxlen, padding\n",
        "sentence_len = 1024\n",
        "X_train_encoded =  pad_sequences(X_train['encoded'], maxlen=sentence_len, padding='post', truncating='post')\n",
        "X_test_encoded = pad_sequences(X_test['encoded'], maxlen=sentence_len, padding='post', truncating = 'post')\n",
        "print(X_train_encoded.shape)\n",
        "print(X_test_encoded.shape)"
      ],
      "metadata": {
        "id": "3kIdvlqjYs6u",
        "colab": {
          "base_uri": "https://localhost:8080/"
        },
        "outputId": "50e24a99-4efb-4053-c4d9-73bf872ff5d8"
      },
      "id": "3kIdvlqjYs6u",
      "execution_count": 26,
      "outputs": [
        {
          "output_type": "stream",
          "name": "stdout",
          "text": [
            "(80000, 1024)\n",
            "(20000, 1024)\n"
          ]
        }
      ]
    },
    {
      "cell_type": "markdown",
      "source": [
        "Create model"
      ],
      "metadata": {
        "id": "uGdstENkcNaq"
      },
      "id": "uGdstENkcNaq"
    },
    {
      "cell_type": "markdown",
      "source": [
        "New Arcitecture: https://aclanthology.org/D14-1181.pdf"
      ],
      "metadata": {
        "id": "pxFqvPwdp9CY"
      },
      "id": "pxFqvPwdp9CY"
    },
    {
      "cell_type": "code",
      "source": [
        "from keras.layers.pooling import GlobalMaxPool1D\n",
        "from keras import Sequential\n",
        "from keras.layers import Dense, Embedding, Activation, Dropout\n",
        "from keras.layers import  MaxPool1D, GlobalMaxPool1D, Conv1D\n",
        "vocab_size = len(tokenizer.word_counts)\n",
        "# New model architecture\n",
        "model2 = Sequential()\n",
        "model2.add(Embedding(vocab_size,10, input_length = sentence_len))\n",
        "model2.add(Conv1D(64,8,activation=\"relu\"))\n",
        "model2.add(GlobalMaxPool1D())\n",
        "model2.add(Dense(32, activation=\"relu\"))\n",
        "model2.add(Dropout(0.5))\n",
        "model2.add(Dense(5,activation='softmax'))\n",
        "# model2.add(Dense(1,activation='relu'))\n",
        "from keras.utils.vis_utils import plot_model\n",
        "model2.compile(optimizer='sgd', loss='sparse_categorical_crossentropy',metrics=['accuracy'])\n",
        "plot_model(model2,show_shapes=True)\n"
      ],
      "metadata": {
        "id": "Y17rx1U6j6eD",
        "colab": {
          "base_uri": "https://localhost:8080/",
          "height": 754
        },
        "outputId": "ca5bad43-8087-4739-a4b7-3be0fd5c8730"
      },
      "id": "Y17rx1U6j6eD",
      "execution_count": 27,
      "outputs": [
        {
          "output_type": "execute_result",
          "data": {
            "text/plain": [
              "<IPython.core.display.Image object>"
            ],
            "image/png": "[encoded data removed]"
          },
          "metadata": {},
          "execution_count": 27
        }
      ]
    },
    {
      "cell_type": "code",
      "source": [
        "from keras.callbacks import EarlyStopping\n",
        "from tqdm.keras import TqdmCallback\n",
        "from keras.callbacks import ModelCheckpoint\n",
        "\n",
        "callback = EarlyStopping(monitor='val_accuracy', patience=15)\n",
        "\n",
        "model_checkpoint = ModelCheckpoint(\n",
        "    filepath=\"W266_Group_Project/CNNModel/\",\n",
        "    monitor=\"val_accuracy\"\n",
        ")\n",
        "\n",
        "history = model2.fit(X_train_encoded,y_train,\n",
        "           epochs=150,\n",
        "           batch_size=128, \n",
        "           validation_data = [X_test_encoded, y_test],\n",
        "           callbacks = [TqdmCallback(verbose=0), model_checkpoint],\n",
        "           verbose=0,)"
      ],
      "metadata": {
        "id": "N779vE4stPaK",
        "colab": {
          "base_uri": "https://localhost:8080/",
          "height": 1000,
          "referenced_widgets": [
            "600806c07d824db2bf347334a1c8ecd8",
            "37087b4d0a634e318ef8b055312614e7",
            "3ecd04b351ec4cc5aac36dd331d32d4e",
            "caccc87b01944b209dabd0c6baad78e8",
            "ba0559e1a6c140f096ced9b8f2cc047e",
            "df0fd3f88ce74d96a5519eafdb1121a4",
            "3e5d65d3af7f409d9bd2e896560de8fb",
            "73401e2f0cb141c3b5af97a043b572d5",
            "495901ff36144d418b71d636a5426a75",
            "f65e763ef8544039ad4decb622122920",
            "db21b286c591426fae33b1b29c1dc9d4"
          ]
        },
        "outputId": "93f1fc78-0acd-4e74-dcc3-361673890dfc"
      },
      "id": "N779vE4stPaK",
      "execution_count": 28,
      "outputs": [
        {
          "output_type": "display_data",
          "data": {
            "text/plain": [
              "0epoch [00:00, ?epoch/s]"
            ],
            "application/vnd.jupyter.widget-view+json": {
              "version_major": 2,
              "version_minor": 0,
              "model_id": "600806c07d824db2bf347334a1c8ecd8"
            }
          },
          "metadata": {}
        },
        {
          "output_type": "stream",
          "name": "stdout",
          "text": [
            "INFO:tensorflow:Assets written to: W266_Group_Project/CNNModel/assets\n",
            "INFO:tensorflow:Assets written to: W266_Group_Project/CNNModel/assets\n",
            "INFO:tensorflow:Assets written to: W266_Group_Project/CNNModel/assets\n",
            "INFO:tensorflow:Assets written to: W266_Group_Project/CNNModel/assets\n",
            "INFO:tensorflow:Assets written to: W266_Group_Project/CNNModel/assets\n",
            "INFO:tensorflow:Assets written to: W266_Group_Project/CNNModel/assets\n",
            "INFO:tensorflow:Assets written to: W266_Group_Project/CNNModel/assets\n",
            "INFO:tensorflow:Assets written to: W266_Group_Project/CNNModel/assets\n",
            "INFO:tensorflow:Assets written to: W266_Group_Project/CNNModel/assets\n",
            "INFO:tensorflow:Assets written to: W266_Group_Project/CNNModel/assets\n",
            "INFO:tensorflow:Assets written to: W266_Group_Project/CNNModel/assets\n",
            "INFO:tensorflow:Assets written to: W266_Group_Project/CNNModel/assets\n",
            "INFO:tensorflow:Assets written to: W266_Group_Project/CNNModel/assets\n",
            "INFO:tensorflow:Assets written to: W266_Group_Project/CNNModel/assets\n",
            "INFO:tensorflow:Assets written to: W266_Group_Project/CNNModel/assets\n",
            "INFO:tensorflow:Assets written to: W266_Group_Project/CNNModel/assets\n",
            "INFO:tensorflow:Assets written to: W266_Group_Project/CNNModel/assets\n",
            "INFO:tensorflow:Assets written to: W266_Group_Project/CNNModel/assets\n",
            "INFO:tensorflow:Assets written to: W266_Group_Project/CNNModel/assets\n",
            "INFO:tensorflow:Assets written to: W266_Group_Project/CNNModel/assets\n",
            "INFO:tensorflow:Assets written to: W266_Group_Project/CNNModel/assets\n",
            "INFO:tensorflow:Assets written to: W266_Group_Project/CNNModel/assets\n",
            "INFO:tensorflow:Assets written to: W266_Group_Project/CNNModel/assets\n",
            "INFO:tensorflow:Assets written to: W266_Group_Project/CNNModel/assets\n",
            "INFO:tensorflow:Assets written to: W266_Group_Project/CNNModel/assets\n",
            "INFO:tensorflow:Assets written to: W266_Group_Project/CNNModel/assets\n",
            "INFO:tensorflow:Assets written to: W266_Group_Project/CNNModel/assets\n",
            "INFO:tensorflow:Assets written to: W266_Group_Project/CNNModel/assets\n",
            "INFO:tensorflow:Assets written to: W266_Group_Project/CNNModel/assets\n",
            "INFO:tensorflow:Assets written to: W266_Group_Project/CNNModel/assets\n",
            "INFO:tensorflow:Assets written to: W266_Group_Project/CNNModel/assets\n",
            "INFO:tensorflow:Assets written to: W266_Group_Project/CNNModel/assets\n",
            "INFO:tensorflow:Assets written to: W266_Group_Project/CNNModel/assets\n",
            "INFO:tensorflow:Assets written to: W266_Group_Project/CNNModel/assets\n",
            "INFO:tensorflow:Assets written to: W266_Group_Project/CNNModel/assets\n",
            "INFO:tensorflow:Assets written to: W266_Group_Project/CNNModel/assets\n",
            "INFO:tensorflow:Assets written to: W266_Group_Project/CNNModel/assets\n",
            "INFO:tensorflow:Assets written to: W266_Group_Project/CNNModel/assets\n",
            "INFO:tensorflow:Assets written to: W266_Group_Project/CNNModel/assets\n",
            "INFO:tensorflow:Assets written to: W266_Group_Project/CNNModel/assets\n",
            "INFO:tensorflow:Assets written to: W266_Group_Project/CNNModel/assets\n",
            "INFO:tensorflow:Assets written to: W266_Group_Project/CNNModel/assets\n",
            "INFO:tensorflow:Assets written to: W266_Group_Project/CNNModel/assets\n",
            "INFO:tensorflow:Assets written to: W266_Group_Project/CNNModel/assets\n",
            "INFO:tensorflow:Assets written to: W266_Group_Project/CNNModel/assets\n",
            "INFO:tensorflow:Assets written to: W266_Group_Project/CNNModel/assets\n",
            "INFO:tensorflow:Assets written to: W266_Group_Project/CNNModel/assets\n",
            "INFO:tensorflow:Assets written to: W266_Group_Project/CNNModel/assets\n",
            "INFO:tensorflow:Assets written to: W266_Group_Project/CNNModel/assets\n",
            "INFO:tensorflow:Assets written to: W266_Group_Project/CNNModel/assets\n",
            "INFO:tensorflow:Assets written to: W266_Group_Project/CNNModel/assets\n",
            "INFO:tensorflow:Assets written to: W266_Group_Project/CNNModel/assets\n",
            "INFO:tensorflow:Assets written to: W266_Group_Project/CNNModel/assets\n",
            "INFO:tensorflow:Assets written to: W266_Group_Project/CNNModel/assets\n",
            "INFO:tensorflow:Assets written to: W266_Group_Project/CNNModel/assets\n",
            "INFO:tensorflow:Assets written to: W266_Group_Project/CNNModel/assets\n",
            "INFO:tensorflow:Assets written to: W266_Group_Project/CNNModel/assets\n",
            "INFO:tensorflow:Assets written to: W266_Group_Project/CNNModel/assets\n",
            "INFO:tensorflow:Assets written to: W266_Group_Project/CNNModel/assets\n",
            "INFO:tensorflow:Assets written to: W266_Group_Project/CNNModel/assets\n",
            "INFO:tensorflow:Assets written to: W266_Group_Project/CNNModel/assets\n",
            "INFO:tensorflow:Assets written to: W266_Group_Project/CNNModel/assets\n",
            "INFO:tensorflow:Assets written to: W266_Group_Project/CNNModel/assets\n",
            "INFO:tensorflow:Assets written to: W266_Group_Project/CNNModel/assets\n",
            "INFO:tensorflow:Assets written to: W266_Group_Project/CNNModel/assets\n",
            "INFO:tensorflow:Assets written to: W266_Group_Project/CNNModel/assets\n",
            "INFO:tensorflow:Assets written to: W266_Group_Project/CNNModel/assets\n",
            "INFO:tensorflow:Assets written to: W266_Group_Project/CNNModel/assets\n",
            "INFO:tensorflow:Assets written to: W266_Group_Project/CNNModel/assets\n",
            "INFO:tensorflow:Assets written to: W266_Group_Project/CNNModel/assets\n",
            "INFO:tensorflow:Assets written to: W266_Group_Project/CNNModel/assets\n",
            "INFO:tensorflow:Assets written to: W266_Group_Project/CNNModel/assets\n",
            "INFO:tensorflow:Assets written to: W266_Group_Project/CNNModel/assets\n",
            "INFO:tensorflow:Assets written to: W266_Group_Project/CNNModel/assets\n",
            "INFO:tensorflow:Assets written to: W266_Group_Project/CNNModel/assets\n",
            "INFO:tensorflow:Assets written to: W266_Group_Project/CNNModel/assets\n",
            "INFO:tensorflow:Assets written to: W266_Group_Project/CNNModel/assets\n",
            "INFO:tensorflow:Assets written to: W266_Group_Project/CNNModel/assets\n",
            "INFO:tensorflow:Assets written to: W266_Group_Project/CNNModel/assets\n",
            "INFO:tensorflow:Assets written to: W266_Group_Project/CNNModel/assets\n",
            "INFO:tensorflow:Assets written to: W266_Group_Project/CNNModel/assets\n",
            "INFO:tensorflow:Assets written to: W266_Group_Project/CNNModel/assets\n",
            "INFO:tensorflow:Assets written to: W266_Group_Project/CNNModel/assets\n",
            "INFO:tensorflow:Assets written to: W266_Group_Project/CNNModel/assets\n",
            "INFO:tensorflow:Assets written to: W266_Group_Project/CNNModel/assets\n",
            "INFO:tensorflow:Assets written to: W266_Group_Project/CNNModel/assets\n",
            "INFO:tensorflow:Assets written to: W266_Group_Project/CNNModel/assets\n",
            "INFO:tensorflow:Assets written to: W266_Group_Project/CNNModel/assets\n",
            "INFO:tensorflow:Assets written to: W266_Group_Project/CNNModel/assets\n",
            "INFO:tensorflow:Assets written to: W266_Group_Project/CNNModel/assets\n",
            "INFO:tensorflow:Assets written to: W266_Group_Project/CNNModel/assets\n",
            "INFO:tensorflow:Assets written to: W266_Group_Project/CNNModel/assets\n",
            "INFO:tensorflow:Assets written to: W266_Group_Project/CNNModel/assets\n",
            "INFO:tensorflow:Assets written to: W266_Group_Project/CNNModel/assets\n",
            "INFO:tensorflow:Assets written to: W266_Group_Project/CNNModel/assets\n",
            "INFO:tensorflow:Assets written to: W266_Group_Project/CNNModel/assets\n",
            "INFO:tensorflow:Assets written to: W266_Group_Project/CNNModel/assets\n",
            "INFO:tensorflow:Assets written to: W266_Group_Project/CNNModel/assets\n",
            "INFO:tensorflow:Assets written to: W266_Group_Project/CNNModel/assets\n",
            "INFO:tensorflow:Assets written to: W266_Group_Project/CNNModel/assets\n",
            "INFO:tensorflow:Assets written to: W266_Group_Project/CNNModel/assets\n",
            "INFO:tensorflow:Assets written to: W266_Group_Project/CNNModel/assets\n",
            "INFO:tensorflow:Assets written to: W266_Group_Project/CNNModel/assets\n",
            "INFO:tensorflow:Assets written to: W266_Group_Project/CNNModel/assets\n",
            "INFO:tensorflow:Assets written to: W266_Group_Project/CNNModel/assets\n",
            "INFO:tensorflow:Assets written to: W266_Group_Project/CNNModel/assets\n",
            "INFO:tensorflow:Assets written to: W266_Group_Project/CNNModel/assets\n",
            "INFO:tensorflow:Assets written to: W266_Group_Project/CNNModel/assets\n",
            "INFO:tensorflow:Assets written to: W266_Group_Project/CNNModel/assets\n",
            "INFO:tensorflow:Assets written to: W266_Group_Project/CNNModel/assets\n",
            "INFO:tensorflow:Assets written to: W266_Group_Project/CNNModel/assets\n",
            "INFO:tensorflow:Assets written to: W266_Group_Project/CNNModel/assets\n",
            "INFO:tensorflow:Assets written to: W266_Group_Project/CNNModel/assets\n",
            "INFO:tensorflow:Assets written to: W266_Group_Project/CNNModel/assets\n",
            "INFO:tensorflow:Assets written to: W266_Group_Project/CNNModel/assets\n",
            "INFO:tensorflow:Assets written to: W266_Group_Project/CNNModel/assets\n",
            "INFO:tensorflow:Assets written to: W266_Group_Project/CNNModel/assets\n",
            "INFO:tensorflow:Assets written to: W266_Group_Project/CNNModel/assets\n",
            "INFO:tensorflow:Assets written to: W266_Group_Project/CNNModel/assets\n",
            "INFO:tensorflow:Assets written to: W266_Group_Project/CNNModel/assets\n",
            "INFO:tensorflow:Assets written to: W266_Group_Project/CNNModel/assets\n",
            "INFO:tensorflow:Assets written to: W266_Group_Project/CNNModel/assets\n",
            "INFO:tensorflow:Assets written to: W266_Group_Project/CNNModel/assets\n",
            "INFO:tensorflow:Assets written to: W266_Group_Project/CNNModel/assets\n",
            "INFO:tensorflow:Assets written to: W266_Group_Project/CNNModel/assets\n",
            "INFO:tensorflow:Assets written to: W266_Group_Project/CNNModel/assets\n",
            "INFO:tensorflow:Assets written to: W266_Group_Project/CNNModel/assets\n",
            "INFO:tensorflow:Assets written to: W266_Group_Project/CNNModel/assets\n",
            "INFO:tensorflow:Assets written to: W266_Group_Project/CNNModel/assets\n",
            "INFO:tensorflow:Assets written to: W266_Group_Project/CNNModel/assets\n",
            "INFO:tensorflow:Assets written to: W266_Group_Project/CNNModel/assets\n",
            "INFO:tensorflow:Assets written to: W266_Group_Project/CNNModel/assets\n",
            "INFO:tensorflow:Assets written to: W266_Group_Project/CNNModel/assets\n",
            "INFO:tensorflow:Assets written to: W266_Group_Project/CNNModel/assets\n",
            "INFO:tensorflow:Assets written to: W266_Group_Project/CNNModel/assets\n",
            "INFO:tensorflow:Assets written to: W266_Group_Project/CNNModel/assets\n",
            "INFO:tensorflow:Assets written to: W266_Group_Project/CNNModel/assets\n",
            "INFO:tensorflow:Assets written to: W266_Group_Project/CNNModel/assets\n",
            "INFO:tensorflow:Assets written to: W266_Group_Project/CNNModel/assets\n",
            "INFO:tensorflow:Assets written to: W266_Group_Project/CNNModel/assets\n",
            "INFO:tensorflow:Assets written to: W266_Group_Project/CNNModel/assets\n",
            "INFO:tensorflow:Assets written to: W266_Group_Project/CNNModel/assets\n",
            "INFO:tensorflow:Assets written to: W266_Group_Project/CNNModel/assets\n",
            "INFO:tensorflow:Assets written to: W266_Group_Project/CNNModel/assets\n",
            "INFO:tensorflow:Assets written to: W266_Group_Project/CNNModel/assets\n",
            "INFO:tensorflow:Assets written to: W266_Group_Project/CNNModel/assets\n",
            "INFO:tensorflow:Assets written to: W266_Group_Project/CNNModel/assets\n",
            "INFO:tensorflow:Assets written to: W266_Group_Project/CNNModel/assets\n",
            "INFO:tensorflow:Assets written to: W266_Group_Project/CNNModel/assets\n",
            "INFO:tensorflow:Assets written to: W266_Group_Project/CNNModel/assets\n"
          ]
        }
      ]
    },
    {
      "cell_type": "code",
      "source": [
        "from tensorflow import keras\n",
        "model = keras.models.load_model('W266_Group_Project/CNNModel')\n",
        "x_train_stage_2 = pd.read_csv(\"W266_Group_Project/x_train_stage_2_sampled_yelp_data.csv\")\n",
        "x_train_stage_2_tok = tokenizer.texts_to_sequences(x_train_stage_2['text'])\n",
        "x_train_stage_2_enc = pad_sequences(x_train_stage_2_tok, maxlen=sentence_len, padding='post', truncating = 'post')\n"
      ],
      "metadata": {
        "id": "2No5htkrjm-I"
      },
      "id": "2No5htkrjm-I",
      "execution_count": 37,
      "outputs": []
    },
    {
      "cell_type": "code",
      "source": [
        "stage_2_preds = model.predict(x_train_stage_2_enc)"
      ],
      "metadata": {
        "id": "kDQrT6s5Gw0b"
      },
      "id": "kDQrT6s5Gw0b",
      "execution_count": 39,
      "outputs": []
    },
    {
      "cell_type": "code",
      "source": [
        "stage_2_preds[0:10]"
      ],
      "metadata": {
        "id": "ZXF8azbjHZDO",
        "outputId": "e725555f-1245-49ab-c960-16a09ba4dc1f",
        "colab": {
          "base_uri": "https://localhost:8080/"
        }
      },
      "id": "ZXF8azbjHZDO",
      "execution_count": 52,
      "outputs": [
        {
          "output_type": "execute_result",
          "data": {
            "text/plain": [
              "array([[5.4550624e-11, 2.7290353e-10, 6.2589089e-07, 1.1439208e-02,\n",
              "        9.8856014e-01],\n",
              "       [8.0708571e-04, 1.5680771e-03, 2.1817731e-02, 2.7158141e-01,\n",
              "        7.0422572e-01],\n",
              "       [1.5380270e-04, 8.8425260e-04, 2.4952274e-02, 3.8962823e-01,\n",
              "        5.8438146e-01],\n",
              "       [2.2770471e-03, 7.5032995e-03, 8.4284164e-02, 5.0279355e-01,\n",
              "        4.0314198e-01],\n",
              "       [2.6345465e-04, 2.9081898e-03, 7.7292971e-02, 6.0414720e-01,\n",
              "        3.1538826e-01],\n",
              "       [5.8963072e-01, 3.6646354e-01, 4.3335039e-02, 5.3744600e-04,\n",
              "        3.3248845e-05],\n",
              "       [2.8160925e-06, 1.9348945e-06, 8.6068743e-05, 2.2147140e-02,\n",
              "        9.7776204e-01],\n",
              "       [5.4617547e-05, 1.1026920e-03, 4.7634207e-02, 6.1950380e-01,\n",
              "        3.3170465e-01],\n",
              "       [1.3328219e-05, 1.2580855e-04, 8.1185754e-03, 3.7129107e-01,\n",
              "        6.2045121e-01],\n",
              "       [3.8731941e-06, 8.4626707e-05, 1.0279960e-02, 4.6515608e-01,\n",
              "        5.2447546e-01]], dtype=float32)"
            ]
          },
          "metadata": {},
          "execution_count": 52
        }
      ]
    },
    {
      "cell_type": "code",
      "source": [
        "preds_processed = np.argmax(stage_2_preds,axis=1) +1"
      ],
      "metadata": {
        "id": "sot0u6wPG2oB"
      },
      "id": "sot0u6wPG2oB",
      "execution_count": 53,
      "outputs": []
    },
    {
      "cell_type": "code",
      "source": [
        "preds_processed[0:10]"
      ],
      "metadata": {
        "id": "cuFUe4S6HeBK",
        "outputId": "959fcf04-7309-433b-ab3a-c27b0bfc1d04",
        "colab": {
          "base_uri": "https://localhost:8080/"
        }
      },
      "id": "cuFUe4S6HeBK",
      "execution_count": 54,
      "outputs": [
        {
          "output_type": "execute_result",
          "data": {
            "text/plain": [
              "array([5, 5, 5, 4, 4, 1, 5, 4, 5, 5])"
            ]
          },
          "metadata": {},
          "execution_count": 54
        }
      ]
    },
    {
      "cell_type": "code",
      "source": [
        "# Write processed preds to disk\n",
        "pd.DataFrame({'CNN_predictions':preds_processed}).to_csv(\"W266_Group_Project/CNN_Predictions.csv\")"
      ],
      "metadata": {
        "id": "C_DYbn8fHm-I"
      },
      "id": "C_DYbn8fHm-I",
      "execution_count": 56,
      "outputs": []
    },
    {
      "cell_type": "code",
      "source": [
        "import matplotlib.pyplot as plt\n",
        "plt.plot(history.history['accuracy'])\n",
        "plt.plot(history.history['val_accuracy'])\n",
        "plt.title('model accuracy')\n",
        "plt.ylabel('accuracy')\n",
        "plt.xlabel('epoch')\n",
        "plt.legend(['train', 'val'], loc='upper left')\n",
        "plt.show()"
      ],
      "metadata": {
        "id": "M3tO5zhd-HIo",
        "outputId": "4b5df0ff-ccfe-4f3d-e6db-ada812ff63ec",
        "colab": {
          "base_uri": "https://localhost:8080/",
          "height": 295
        }
      },
      "id": "M3tO5zhd-HIo",
      "execution_count": 48,
      "outputs": [
        {
          "output_type": "display_data",
          "data": {
            "text/plain": [
              "<Figure size 432x288 with 1 Axes>"
            ],
            "image/png": "[encoded data removed]"
          },
          "metadata": {
            "needs_background": "light"
          }
        }
      ]
    },
    {
      "cell_type": "code",
      "source": [
        "# Generate confusion matrix on test set\n",
        "test_preds = model2.predict(X_test_encoded)\n",
        "test_preds_stars = test_preds.argmax(axis=1) + 1\n",
        "from sklearn.metrics import confusion_matrix\n",
        "cf = confusion_matrix(y_test + 1, test_preds_stars)\n",
        "import seaborn as sns\n",
        "sns.heatmap(cf)"
      ],
      "metadata": {
        "id": "fR02rcp-EPYk"
      },
      "id": "fR02rcp-EPYk",
      "execution_count": null,
      "outputs": []
    }
  ],
  "metadata": {
    "kernelspec": {
      "display_name": "conda_tensorflow2_latest_p37",
      "language": "python",
      "name": "conda_tensorflow2_latest_p37"
    },
    "language_info": {
      "codemirror_mode": {
        "name": "ipython",
        "version": 3
      },
      "file_extension": ".py",
      "mimetype": "text/x-python",
      "name": "python",
      "nbconvert_exporter": "python",
      "pygments_lexer": "ipython3",
      "version": "3.7.10"
    },
    "colab": {
      "name": "CodyCNNAnalysis2.ipynb",
      "provenance": [],
      "background_execution": "on",
      "collapsed_sections": [],
      "include_colab_link": true
    },
    "accelerator": "GPU",
    "widgets": {
      "application/vnd.jupyter.widget-state+json": {
        "600806c07d824db2bf347334a1c8ecd8": {
          "model_module": "@jupyter-widgets/controls",
          "model_name": "HBoxModel",
          "model_module_version": "1.5.0",
          "state": {
            "_dom_classes": [],
            "_model_module": "@jupyter-widgets/controls",
            "_model_module_version": "1.5.0",
            "_model_name": "HBoxModel",
            "_view_count": null,
            "_view_module": "@jupyter-widgets/controls",
            "_view_module_version": "1.5.0",
            "_view_name": "HBoxView",
            "box_style": "",
            "children": [
              "IPY_MODEL_37087b4d0a634e318ef8b055312614e7",
              "IPY_MODEL_3ecd04b351ec4cc5aac36dd331d32d4e",
              "IPY_MODEL_caccc87b01944b209dabd0c6baad78e8"
            ],
            "layout": "IPY_MODEL_ba0559e1a6c140f096ced9b8f2cc047e"
          }
        },
        "37087b4d0a634e318ef8b055312614e7": {
          "model_module": "@jupyter-widgets/controls",
          "model_name": "HTMLModel",
          "model_module_version": "1.5.0",
          "state": {
            "_dom_classes": [],
            "_model_module": "@jupyter-widgets/controls",
            "_model_module_version": "1.5.0",
            "_model_name": "HTMLModel",
            "_view_count": null,
            "_view_module": "@jupyter-widgets/controls",
            "_view_module_version": "1.5.0",
            "_view_name": "HTMLView",
            "description": "",
            "description_tooltip": null,
            "layout": "IPY_MODEL_df0fd3f88ce74d96a5519eafdb1121a4",
            "placeholder": "​",
            "style": "IPY_MODEL_3e5d65d3af7f409d9bd2e896560de8fb",
            "value": "100%"
          }
        },
        "3ecd04b351ec4cc5aac36dd331d32d4e": {
          "model_module": "@jupyter-widgets/controls",
          "model_name": "FloatProgressModel",
          "model_module_version": "1.5.0",
          "state": {
            "_dom_classes": [],
            "_model_module": "@jupyter-widgets/controls",
            "_model_module_version": "1.5.0",
            "_model_name": "FloatProgressModel",
            "_view_count": null,
            "_view_module": "@jupyter-widgets/controls",
            "_view_module_version": "1.5.0",
            "_view_name": "ProgressView",
            "bar_style": "success",
            "description": "",
            "description_tooltip": null,
            "layout": "IPY_MODEL_73401e2f0cb141c3b5af97a043b572d5",
            "max": 150,
            "min": 0,
            "orientation": "horizontal",
            "style": "IPY_MODEL_495901ff36144d418b71d636a5426a75",
            "value": 150
          }
        },
        "caccc87b01944b209dabd0c6baad78e8": {
          "model_module": "@jupyter-widgets/controls",
          "model_name": "HTMLModel",
          "model_module_version": "1.5.0",
          "state": {
            "_dom_classes": [],
            "_model_module": "@jupyter-widgets/controls",
            "_model_module_version": "1.5.0",
            "_model_name": "HTMLModel",
            "_view_count": null,
            "_view_module": "@jupyter-widgets/controls",
            "_view_module_version": "1.5.0",
            "_view_name": "HTMLView",
            "description": "",
            "description_tooltip": null,
            "layout": "IPY_MODEL_f65e763ef8544039ad4decb622122920",
            "placeholder": "​",
            "style": "IPY_MODEL_db21b286c591426fae33b1b29c1dc9d4",
            "value": " 150/150 [08:58&lt;00:00,  3.50s/epoch, loss=0.67, accuracy=0.723, val_loss=0.823, val_accuracy=0.666]"
          }
        },
        "ba0559e1a6c140f096ced9b8f2cc047e": {
          "model_module": "@jupyter-widgets/base",
          "model_name": "LayoutModel",
          "model_module_version": "1.2.0",
          "state": {
            "_model_module": "@jupyter-widgets/base",
            "_model_module_version": "1.2.0",
            "_model_name": "LayoutModel",
            "_view_count": null,
            "_view_module": "@jupyter-widgets/base",
            "_view_module_version": "1.2.0",
            "_view_name": "LayoutView",
            "align_content": null,
            "align_items": null,
            "align_self": null,
            "border": null,
            "bottom": null,
            "display": null,
            "flex": null,
            "flex_flow": null,
            "grid_area": null,
            "grid_auto_columns": null,
            "grid_auto_flow": null,
            "grid_auto_rows": null,
            "grid_column": null,
            "grid_gap": null,
            "grid_row": null,
            "grid_template_areas": null,
            "grid_template_columns": null,
            "grid_template_rows": null,
            "height": null,
            "justify_content": null,
            "justify_items": null,
            "left": null,
            "margin": null,
            "max_height": null,
            "max_width": null,
            "min_height": null,
            "min_width": null,
            "object_fit": null,
            "object_position": null,
            "order": null,
            "overflow": null,
            "overflow_x": null,
            "overflow_y": null,
            "padding": null,
            "right": null,
            "top": null,
            "visibility": null,
            "width": null
          }
        },
        "df0fd3f88ce74d96a5519eafdb1121a4": {
          "model_module": "@jupyter-widgets/base",
          "model_name": "LayoutModel",
          "model_module_version": "1.2.0",
          "state": {
            "_model_module": "@jupyter-widgets/base",
            "_model_module_version": "1.2.0",
            "_model_name": "LayoutModel",
            "_view_count": null,
            "_view_module": "@jupyter-widgets/base",
            "_view_module_version": "1.2.0",
            "_view_name": "LayoutView",
            "align_content": null,
            "align_items": null,
            "align_self": null,
            "border": null,
            "bottom": null,
            "display": null,
            "flex": null,
            "flex_flow": null,
            "grid_area": null,
            "grid_auto_columns": null,
            "grid_auto_flow": null,
            "grid_auto_rows": null,
            "grid_column": null,
            "grid_gap": null,
            "grid_row": null,
            "grid_template_areas": null,
            "grid_template_columns": null,
            "grid_template_rows": null,
            "height": null,
            "justify_content": null,
            "justify_items": null,
            "left": null,
            "margin": null,
            "max_height": null,
            "max_width": null,
            "min_height": null,
            "min_width": null,
            "object_fit": null,
            "object_position": null,
            "order": null,
            "overflow": null,
            "overflow_x": null,
            "overflow_y": null,
            "padding": null,
            "right": null,
            "top": null,
            "visibility": null,
            "width": null
          }
        },
        "3e5d65d3af7f409d9bd2e896560de8fb": {
          "model_module": "@jupyter-widgets/controls",
          "model_name": "DescriptionStyleModel",
          "model_module_version": "1.5.0",
          "state": {
            "_model_module": "@jupyter-widgets/controls",
            "_model_module_version": "1.5.0",
            "_model_name": "DescriptionStyleModel",
            "_view_count": null,
            "_view_module": "@jupyter-widgets/base",
            "_view_module_version": "1.2.0",
            "_view_name": "StyleView",
            "description_width": ""
          }
        },
        "73401e2f0cb141c3b5af97a043b572d5": {
          "model_module": "@jupyter-widgets/base",
          "model_name": "LayoutModel",
          "model_module_version": "1.2.0",
          "state": {
            "_model_module": "@jupyter-widgets/base",
            "_model_module_version": "1.2.0",
            "_model_name": "LayoutModel",
            "_view_count": null,
            "_view_module": "@jupyter-widgets/base",
            "_view_module_version": "1.2.0",
            "_view_name": "LayoutView",
            "align_content": null,
            "align_items": null,
            "align_self": null,
            "border": null,
            "bottom": null,
            "display": null,
            "flex": null,
            "flex_flow": null,
            "grid_area": null,
            "grid_auto_columns": null,
            "grid_auto_flow": null,
            "grid_auto_rows": null,
            "grid_column": null,
            "grid_gap": null,
            "grid_row": null,
            "grid_template_areas": null,
            "grid_template_columns": null,
            "grid_template_rows": null,
            "height": null,
            "justify_content": null,
            "justify_items": null,
            "left": null,
            "margin": null,
            "max_height": null,
            "max_width": null,
            "min_height": null,
            "min_width": null,
            "object_fit": null,
            "object_position": null,
            "order": null,
            "overflow": null,
            "overflow_x": null,
            "overflow_y": null,
            "padding": null,
            "right": null,
            "top": null,
            "visibility": null,
            "width": null
          }
        },
        "495901ff36144d418b71d636a5426a75": {
          "model_module": "@jupyter-widgets/controls",
          "model_name": "ProgressStyleModel",
          "model_module_version": "1.5.0",
          "state": {
            "_model_module": "@jupyter-widgets/controls",
            "_model_module_version": "1.5.0",
            "_model_name": "ProgressStyleModel",
            "_view_count": null,
            "_view_module": "@jupyter-widgets/base",
            "_view_module_version": "1.2.0",
            "_view_name": "StyleView",
            "bar_color": null,
            "description_width": ""
          }
        },
        "f65e763ef8544039ad4decb622122920": {
          "model_module": "@jupyter-widgets/base",
          "model_name": "LayoutModel",
          "model_module_version": "1.2.0",
          "state": {
            "_model_module": "@jupyter-widgets/base",
            "_model_module_version": "1.2.0",
            "_model_name": "LayoutModel",
            "_view_count": null,
            "_view_module": "@jupyter-widgets/base",
            "_view_module_version": "1.2.0",
            "_view_name": "LayoutView",
            "align_content": null,
            "align_items": null,
            "align_self": null,
            "border": null,
            "bottom": null,
            "display": null,
            "flex": null,
            "flex_flow": null,
            "grid_area": null,
            "grid_auto_columns": null,
            "grid_auto_flow": null,
            "grid_auto_rows": null,
            "grid_column": null,
            "grid_gap": null,
            "grid_row": null,
            "grid_template_areas": null,
            "grid_template_columns": null,
            "grid_template_rows": null,
            "height": null,
            "justify_content": null,
            "justify_items": null,
            "left": null,
            "margin": null,
            "max_height": null,
            "max_width": null,
            "min_height": null,
            "min_width": null,
            "object_fit": null,
            "object_position": null,
            "order": null,
            "overflow": null,
            "overflow_x": null,
            "overflow_y": null,
            "padding": null,
            "right": null,
            "top": null,
            "visibility": null,
            "width": null
          }
        },
        "db21b286c591426fae33b1b29c1dc9d4": {
          "model_module": "@jupyter-widgets/controls",
          "model_name": "DescriptionStyleModel",
          "model_module_version": "1.5.0",
          "state": {
            "_model_module": "@jupyter-widgets/controls",
            "_model_module_version": "1.5.0",
            "_model_name": "DescriptionStyleModel",
            "_view_count": null,
            "_view_module": "@jupyter-widgets/base",
            "_view_module_version": "1.2.0",
            "_view_name": "StyleView",
            "description_width": ""
          }
        }
      }
    }
  },
  "nbformat": 4,
  "nbformat_minor": 5
}