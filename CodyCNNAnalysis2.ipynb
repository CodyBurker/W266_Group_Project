{
  "cells": [
    {
      "cell_type": "markdown",
      "metadata": {
        "id": "view-in-github",
        "colab_type": "text"
      },
      "source": [
        "<a href=\"https://colab.research.google.com/github/CodyBurker/W266_Group_Project/blob/CodyCNNBase/CodyCNNAnalysis2.ipynb\" target=\"_parent\"><img src=\"https://colab.research.google.com/assets/colab-badge.svg\" alt=\"Open In Colab\"/></a>"
      ]
    },
    {
      "cell_type": "markdown",
      "id": "8c60a99a",
      "metadata": {
        "id": "8c60a99a"
      },
      "source": [
        "Based on: https://machinelearningmastery.com/develop-word-embedding-model-predicting-movie-review-sentiment/"
      ]
    },
    {
      "cell_type": "code",
      "execution_count": 2,
      "id": "d3d43e6b",
      "metadata": {
        "id": "d3d43e6b"
      },
      "outputs": [],
      "source": [
        "import pandas as pd\n",
        "import string\n",
        "from nltk.corpus import stopwords\n",
        "import nltk"
      ]
    },
    {
      "cell_type": "code",
      "source": [
        "!git clone https://github.com/CodyBurker/W266_Group_Project"
      ],
      "metadata": {
        "colab": {
          "base_uri": "https://localhost:8080/"
        },
        "id": "0LMKJsWAWDCN",
        "outputId": "ca5d2225-bc45-4aaa-d788-279bcc65b077"
      },
      "id": "0LMKJsWAWDCN",
      "execution_count": 3,
      "outputs": [
        {
          "output_type": "stream",
          "name": "stdout",
          "text": [
            "Cloning into 'W266_Group_Project'...\n",
            "remote: Enumerating objects: 35, done.\u001b[K\n",
            "remote: Counting objects: 100% (35/35), done.\u001b[K\n",
            "remote: Compressing objects: 100% (29/29), done.\u001b[K\n",
            "remote: Total 35 (delta 10), reused 22 (delta 2), pack-reused 0\u001b[K\n",
            "Unpacking objects: 100% (35/35), done.\n",
            "Checking out files: 100% (9/9), done.\n"
          ]
        }
      ]
    },
    {
      "cell_type": "code",
      "execution_count": 4,
      "id": "4052af92",
      "metadata": {
        "id": "4052af92"
      },
      "outputs": [],
      "source": [
        "def read_in_data(path=\"W266_Group_Project/\"):\n",
        "    import pandas as pd\n",
        "    X_train = pd.read_csv(path + \"x_train_sampled_yelp_data.csv\")\n",
        "    y_train = pd.read_csv(path + \"y_train_sampled_yelp_data.csv\")\n",
        "    X_test = pd.read_csv(path + \"x_test_sampled_yelp_data.csv\")\n",
        "    y_test = pd.read_csv(path + \"y_test_sampled_yelp_data.csv\")\n",
        "    return X_train, X_test, y_train, y_test"
      ]
    },
    {
      "cell_type": "code",
      "execution_count": 5,
      "id": "6b7aac4d",
      "metadata": {
        "id": "6b7aac4d"
      },
      "outputs": [],
      "source": [
        " X_train, X_test, y_train, y_test = read_in_data()"
      ]
    },
    {
      "cell_type": "markdown",
      "source": [
        "https://towardsdev.com/sentiment-analysis-with-cnn-using-keras-c4debff57fc5?gi=708b4ef40e2f"
      ],
      "metadata": {
        "id": "ceOrQM3YXY7t"
      },
      "id": "ceOrQM3YXY7t"
    },
    {
      "cell_type": "markdown",
      "source": [
        "Encode text and pad it."
      ],
      "metadata": {
        "id": "YuZGKY5XY3VG"
      },
      "id": "YuZGKY5XY3VG"
    },
    {
      "cell_type": "code",
      "source": [
        "from keras_preprocessing.text import Tokenizer\n",
        "from keras_preprocessing.sequence import pad_sequences"
      ],
      "metadata": {
        "id": "o90nvLmLXs_Q"
      },
      "id": "o90nvLmLXs_Q",
      "execution_count": 6,
      "outputs": []
    },
    {
      "cell_type": "code",
      "source": [
        "tokenizer = Tokenizer()\n",
        "tokenizer.fit_on_texts(X_train['text'])\n"
      ],
      "metadata": {
        "id": "IQa1fPakXyT0"
      },
      "id": "IQa1fPakXyT0",
      "execution_count": null,
      "outputs": []
    },
    {
      "cell_type": "code",
      "source": [
        "X_train['encoded'] = tokenizer.texts_to_sequences(X_train['text'])\n",
        "X_test['encoded'] = tokenizer.texts_to_sequences(X_test['text'])"
      ],
      "metadata": {
        "id": "5GbdV6xOX2WP"
      },
      "id": "5GbdV6xOX2WP",
      "execution_count": 8,
      "outputs": []
    },
    {
      "cell_type": "code",
      "source": [
        "import matplotlib.pyplot as plt\n",
        "plt.hist(X_train['encoded'].apply(len))"
      ],
      "metadata": {
        "colab": {
          "base_uri": "https://localhost:8080/",
          "height": 355
        },
        "id": "Lua8k2hqwuxA",
        "outputId": "610aa483-eeb5-4d04-ae88-6fb85e4c0afe"
      },
      "id": "Lua8k2hqwuxA",
      "execution_count": 16,
      "outputs": [
        {
          "output_type": "execute_result",
          "data": {
            "text/plain": [
              "(array([47936., 21142.,  6699.,  2360.,   947.,   441.,   202.,   134.,\n",
              "           90.,    49.]),\n",
              " array([   0.,  101.,  202.,  303.,  404.,  505.,  606.,  707.,  808.,\n",
              "         909., 1010.]),\n",
              " <a list of 10 Patch objects>)"
            ]
          },
          "metadata": {},
          "execution_count": 16
        },
        {
          "output_type": "display_data",
          "data": {
            "image/png": "[encoded data removed]",
            "text/plain": [
              "<Figure size 432x288 with 1 Axes>"
            ]
          },
          "metadata": {
            "needs_background": "light"
          }
        }
      ]
    },
    {
      "cell_type": "code",
      "source": [
        "# Hyper parameters to tune later: maxlen, padding\n",
        "sentence_len = 200\n",
        "X_train_encoded =  pad_sequences(X_train['encoded'], maxlen=sentence_len, padding='post')\n",
        "X_test_encoded = pad_sequences(X_test['encoded'], maxlen=sentence_len, padding='post')\n",
        "print(X_train_encoded.shape)\n",
        "print(X_test_encoded.shape)"
      ],
      "metadata": {
        "colab": {
          "base_uri": "https://localhost:8080/"
        },
        "id": "3kIdvlqjYs6u",
        "outputId": "f5d53a8c-3105-4478-be0b-135948f29d6e"
      },
      "id": "3kIdvlqjYs6u",
      "execution_count": 17,
      "outputs": [
        {
          "output_type": "stream",
          "name": "stdout",
          "text": [
            "(80000, 200)\n",
            "(20000, 200)\n"
          ]
        }
      ]
    },
    {
      "cell_type": "markdown",
      "source": [
        "Create model"
      ],
      "metadata": {
        "id": "uGdstENkcNaq"
      },
      "id": "uGdstENkcNaq"
    },
    {
      "cell_type": "code",
      "source": [
        "from keras import Sequential\n",
        "from keras.layers import Dense, Embedding, Activation, Dropout\n",
        "from keras.layers import  MaxPool1D, GlobalMaxPool1D, Conv1D\n",
        "vocab_size = len(tokenizer.word_counts)\n",
        "\n",
        "model = Sequential()\n",
        "model.add(Embedding(vocab_size,300, input_length = sentence_len))\n",
        "model.add(Conv1D(64,8,activation=\"relu\"))\n",
        "model.add(MaxPool1D(2))\n",
        "\n",
        "model.add(Dense(32, activation=\"relu\"))\n",
        "model.add(Dropout(0.5))\n",
        "model.add(Dense(16,activation='relu'))\n",
        "model.add(GlobalMaxPool1D())\n",
        "model.add(Dense(3,activation='softmax'))\n",
        "model.summary()\n",
        "\n"
      ],
      "metadata": {
        "colab": {
          "base_uri": "https://localhost:8080/"
        },
        "id": "whze4UbCbV1N",
        "outputId": "6c26dd95-839e-4cd7-ae1d-6c36029659a9"
      },
      "id": "whze4UbCbV1N",
      "execution_count": 18,
      "outputs": [
        {
          "output_type": "stream",
          "name": "stdout",
          "text": [
            "Model: \"sequential_4\"\n",
            "_________________________________________________________________\n",
            " Layer (type)                Output Shape              Param #   \n",
            "=================================================================\n",
            " embedding_3 (Embedding)     (None, 200, 300)          23360400  \n",
            "                                                                 \n",
            " conv1d_3 (Conv1D)           (None, 193, 64)           153664    \n",
            "                                                                 \n",
            " max_pooling1d_3 (MaxPooling  (None, 96, 64)           0         \n",
            " 1D)                                                             \n",
            "                                                                 \n",
            " dense_9 (Dense)             (None, 96, 32)            2080      \n",
            "                                                                 \n",
            " dropout_3 (Dropout)         (None, 96, 32)            0         \n",
            "                                                                 \n",
            " dense_10 (Dense)            (None, 96, 16)            528       \n",
            "                                                                 \n",
            " global_max_pooling1d_3 (Glo  (None, 16)               0         \n",
            " balMaxPooling1D)                                                \n",
            "                                                                 \n",
            " dense_11 (Dense)            (None, 3)                 51        \n",
            "                                                                 \n",
            "=================================================================\n",
            "Total params: 23,516,723\n",
            "Trainable params: 23,516,723\n",
            "Non-trainable params: 0\n",
            "_________________________________________________________________\n"
          ]
        }
      ]
    },
    {
      "cell_type": "code",
      "source": [
        "# model.compile(optimizer='adam', loss='mse',metrics=['mse'])"
      ],
      "metadata": {
        "id": "ScDnJ18_er4q"
      },
      "id": "ScDnJ18_er4q",
      "execution_count": 12,
      "outputs": []
    },
    {
      "cell_type": "code",
      "source": [
        "# model.fit(X_train_encoded,y_train, epochs=10, validation_data = [X_test_encoded, y_test])"
      ],
      "metadata": {
        "id": "nurpxe8_cTyi"
      },
      "id": "nurpxe8_cTyi",
      "execution_count": null,
      "outputs": []
    },
    {
      "cell_type": "code",
      "source": [
        "# Save model\n",
        "# from google.colab import drive\n",
        "# drive.mount('/content/drive')\n",
        "# model.save(\"/content/drive/MyDrive/Code Repos/YelpCNN\")\n",
        "# Inspiration: https://chercher.tech/nlp/convolutional-neural-networks-cnns-for-nlp"
      ],
      "metadata": {
        "id": "qpchDHJUjz12"
      },
      "id": "qpchDHJUjz12",
      "execution_count": null,
      "outputs": []
    },
    {
      "cell_type": "code",
      "source": [
        "from keras.layers.pooling import GlobalMaxPool1D\n",
        "# New model architecture\n",
        "model2 = Sequential()\n",
        "model2.add(Embedding(vocab_size,10, input_length = sentence_len))\n",
        "model2.add(Conv1D(64,8,activation=\"relu\"))\n",
        "model2.add(GlobalMaxPool1D())\n",
        "model2.add(Dense(32, activation=\"relu\"))\n",
        "model2.add(Dropout(0.5))\n",
        "model2.add(Dense(1,activation='relu'))\n",
        "from keras.utils.vis_utils import plot_model\n",
        "model2.compile(optimizer='adam', loss='mse',metrics=['mse'])\n",
        "plot_model(model2,show_shapes=True)\n"
      ],
      "metadata": {
        "id": "Y17rx1U6j6eD",
        "outputId": "e010889f-fb63-473b-fa1b-fbea3397feb6",
        "colab": {
          "base_uri": "https://localhost:8080/",
          "height": 754
        }
      },
      "id": "Y17rx1U6j6eD",
      "execution_count": 34,
      "outputs": [
        {
          "output_type": "execute_result",
          "data": {
            "image/png": "[encoded data removed]",
            "text/plain": [
              "<IPython.core.display.Image object>"
            ]
          },
          "metadata": {},
          "execution_count": 34
        }
      ]
    },
    {
      "cell_type": "code",
      "source": [
        "model2.fit(X_train_encoded,y_train,\n",
        "           epochs=20,\n",
        "           batch_size=100, \n",
        "           validation_data = [X_test_encoded, y_test])"
      ],
      "metadata": {
        "id": "N779vE4stPaK",
        "colab": {
          "base_uri": "https://localhost:8080/"
        },
        "outputId": "c735115b-6701-4c5b-a972-ad7b2f7d3df4"
      },
      "id": "N779vE4stPaK",
      "execution_count": 68,
      "outputs": [
        {
          "output_type": "stream",
          "name": "stdout",
          "text": [
            "Epoch 1/20\n",
            "800/800 [==============================] - 3s 3ms/step - loss: 0.2969 - mse: 0.2969 - val_loss: 0.6811 - val_mse: 0.6811\n",
            "Epoch 2/20\n",
            "800/800 [==============================] - 3s 3ms/step - loss: 0.2854 - mse: 0.2854 - val_loss: 0.6860 - val_mse: 0.6860\n",
            "Epoch 3/20\n",
            "800/800 [==============================] - 3s 3ms/step - loss: 0.2739 - mse: 0.2739 - val_loss: 0.6887 - val_mse: 0.6887\n",
            "Epoch 4/20\n",
            "800/800 [==============================] - 3s 3ms/step - loss: 0.2605 - mse: 0.2605 - val_loss: 0.6843 - val_mse: 0.6843\n",
            "Epoch 5/20\n",
            "800/800 [==============================] - 3s 3ms/step - loss: 0.2509 - mse: 0.2509 - val_loss: 0.6840 - val_mse: 0.6840\n",
            "Epoch 6/20\n",
            "800/800 [==============================] - 3s 3ms/step - loss: 0.2444 - mse: 0.2444 - val_loss: 0.6874 - val_mse: 0.6874\n",
            "Epoch 7/20\n",
            "800/800 [==============================] - 3s 3ms/step - loss: 0.2427 - mse: 0.2427 - val_loss: 0.6933 - val_mse: 0.6933\n",
            "Epoch 8/20\n",
            "800/800 [==============================] - 3s 3ms/step - loss: 0.2336 - mse: 0.2336 - val_loss: 0.6900 - val_mse: 0.6900\n",
            "Epoch 9/20\n",
            "800/800 [==============================] - 3s 3ms/step - loss: 0.2298 - mse: 0.2298 - val_loss: 0.6975 - val_mse: 0.6975\n",
            "Epoch 10/20\n",
            "800/800 [==============================] - 3s 3ms/step - loss: 0.2296 - mse: 0.2296 - val_loss: 0.6949 - val_mse: 0.6949\n",
            "Epoch 11/20\n",
            "800/800 [==============================] - 3s 3ms/step - loss: 0.2276 - mse: 0.2276 - val_loss: 0.7003 - val_mse: 0.7003\n",
            "Epoch 12/20\n",
            "800/800 [==============================] - 3s 3ms/step - loss: 0.2259 - mse: 0.2259 - val_loss: 0.7030 - val_mse: 0.7030\n",
            "Epoch 13/20\n",
            "800/800 [==============================] - 3s 3ms/step - loss: 0.2232 - mse: 0.2232 - val_loss: 0.6965 - val_mse: 0.6965\n",
            "Epoch 14/20\n",
            "800/800 [==============================] - 3s 3ms/step - loss: 0.2238 - mse: 0.2238 - val_loss: 0.6933 - val_mse: 0.6933\n",
            "Epoch 15/20\n",
            "800/800 [==============================] - 3s 3ms/step - loss: 0.2225 - mse: 0.2225 - val_loss: 0.7008 - val_mse: 0.7008\n",
            "Epoch 16/20\n",
            "800/800 [==============================] - 3s 3ms/step - loss: 0.2196 - mse: 0.2196 - val_loss: 0.7020 - val_mse: 0.7020\n",
            "Epoch 17/20\n",
            "800/800 [==============================] - 3s 3ms/step - loss: 0.2178 - mse: 0.2178 - val_loss: 0.7035 - val_mse: 0.7035\n",
            "Epoch 18/20\n",
            "800/800 [==============================] - 3s 3ms/step - loss: 0.2169 - mse: 0.2169 - val_loss: 0.6953 - val_mse: 0.6953\n",
            "Epoch 19/20\n",
            "800/800 [==============================] - 3s 3ms/step - loss: 0.2180 - mse: 0.2180 - val_loss: 0.7087 - val_mse: 0.7087\n",
            "Epoch 20/20\n",
            "800/800 [==============================] - 3s 3ms/step - loss: 0.2169 - mse: 0.2169 - val_loss: 0.7016 - val_mse: 0.7016\n"
          ]
        },
        {
          "output_type": "execute_result",
          "data": {
            "text/plain": [
              "<keras.callbacks.History at 0x7f93b8b12810>"
            ]
          },
          "metadata": {},
          "execution_count": 68
        }
      ]
    },
    {
      "cell_type": "markdown",
      "source": [
        "Diangose errors. Looks like there might be some overfitting. Let's look at the 10 worst predictions:"
      ],
      "metadata": {
        "id": "Up9vgRoU3Yer"
      },
      "id": "Up9vgRoU3Yer"
    },
    {
      "cell_type": "code",
      "source": [
        "predictions_raw = model2.predict(X_test_encoded)\n"
      ],
      "metadata": {
        "id": "mDpNXD9dyPDo"
      },
      "id": "mDpNXD9dyPDo",
      "execution_count": 69,
      "outputs": []
    },
    {
      "cell_type": "code",
      "source": [
        "un_tokenized = tokenizer.sequences_to_texts(X_test_encoded)"
      ],
      "metadata": {
        "id": "huMrnMIB3jaQ"
      },
      "id": "huMrnMIB3jaQ",
      "execution_count": 97,
      "outputs": []
    },
    {
      "cell_type": "code",
      "source": [
        "import numpy as np\n",
        "predictions = pd.DataFrame({\n",
        "    \"text\":un_tokenized,\n",
        "    \"true\":y_test['stars'],\n",
        "    \"predicted\":[round(x[0],1) for x in predictions_raw]\n",
        "    })\n",
        "predictions['error'] = np.abs(predictions['true'] - predictions['predicted'])\n",
        "predictions_sorted = predictions.sort_values(by='error',ascending=False)\n",
        "for i in range(len(predictions_sorted.head(10))):\n",
        "  print(\"True rating:\", predictions_sorted.iloc[i]['true'])\n",
        "  print(\"Predicted rating:\", predictions_sorted.iloc[i]['predicted'])\n",
        "  print(\"Text:\", predictions_sorted.iloc[i]['text'])\n",
        "  print(\"\")"
      ],
      "metadata": {
        "colab": {
          "base_uri": "https://localhost:8080/"
        },
        "id": "n3nggxHNzS0E",
        "outputId": "563f44ad-b1e5-4d07-8a4b-7899d239004b"
      },
      "id": "n3nggxHNzS0E",
      "execution_count": 100,
      "outputs": [
        {
          "output_type": "stream",
          "name": "stdout",
          "text": [
            "True rating: 5.0\n",
            "Predicted rating: 0.2\n",
            "Text: lmao all you dumbass people talking about this isn't authentic or i heard this was a taste of true mexican food no shit its a fast food chain lmfao idiots go to a damn restaurant this is fast food version of mexican food just like casa ole or taco cabana it's fast food workers just like at mcdonald's or taco bell lmfao these poor people are just beating shit that was sent in a box they don't hire real authentic mexican cooks hahah naw it's the dude in the apartment next you that just lost his job and needs to pay for his cigarettes they give no fucks other than if their pay check was deposited stop being such cheap assholes and go out if yo i want the authentic mexican taste lmfao this is austin texas one of the most expensive cities hahahah so get your priorities straight if you can't afford 10 bucks for half ass fajita tacos then you need to stay home and eat noodles cause your fucking broke\n",
            "\n",
            "True rating: 1.0\n",
            "Predicted rating: 5.2\n",
            "Text: i was pretty excited to have a vegan apple fritter got 3 donuts to go got back home broke a piece off the fritter and boom hair 100 not mine and baked into the fritter itself appetite lost 10 gone heart broken\n",
            "\n",
            "True rating: 5.0\n",
            "Predicted rating: 0.9\n",
            "Text: had us scheduled for the wrong day so i received a rather bitchy phone call asking why we were late for our appointment i explained that the appointment was supposed to have been made for the next day to the receptionist but without apology and with a rather snotty attitude was told that they were completely booked the day of our anniversary and that there was nothing they could do this person was telling me that my one year wedding anniversary plans were ruined because of someone else's stupid mistake and they had the nerve to be rude about it luckily the next day i got a call from management who apologized for the mix up and for the receptionists attitude and they were able to get us in the same day we were suppose to have been scheduled free of charge due to the mistake and the absolutely horrible customer service on behalf of the receptionist who had called i was assured that they would address this this is why i will continue to be a loyal customer of milk honey they care about their customer's satisfaction and will go the extra mile to ensure their customers leave happy\n",
            "\n",
            "True rating: 1.0\n",
            "Predicted rating: 5.0\n",
            "Text: i am not sure what to say about the poodle dog lounge i think that it is important that everyone go to the poodle dog lounge once in their lives just so they can see how they live on the other side of the tracks or if you want to bond with rednecks then i would highly recommend a trip to the poodle dog edit i was in here recently while touring austin on a booze bus full of elite yelpers i truly enjoyed the place which must mean that i have have actually turned into a red neck\n",
            "\n",
            "True rating: 1.0\n",
            "Predicted rating: 4.9\n",
            "Text: typical bait switch joint i inquired about a used 2015 ram truck that was listed for 26 700 truck was highly optioned with low mileage i was contacted by salesman john on 4 24 17 at about 8 15pm john assured me the truck was still available and had been on the lot for over 45 days he went on about how nice the truck was and how much he likes the ram console on john's word i sent pics of my trade and filled out online credit app at promptly 9 10 the next morning i called and was told by kristen that the truck sold yesterday evening so a truck that has been sitting around for almost two months and is still on the lot after closing time is mysteriously sold when they open the next morning right of course john texted to ask if there was anything else i was interested in nice try not really\n",
            "\n",
            "True rating: 1.0\n",
            "Predicted rating: 4.9\n",
            "Text: no comment other than this https www bostonglobe com business 2018 04 23 watch out for fees when renting apartment story html p1 article trending most viewed know your rights\n",
            "\n",
            "True rating: 1.0\n",
            "Predicted rating: 4.9\n",
            "Text: we knew the prices going in but laughed at them going out if you want a high caliber dinner with set tasting menus you may want to consider beast roe or we have been to all of them and felt castagna was a giant bust in comparison\n",
            "\n",
            "True rating: 1.0\n",
            "Predicted rating: 4.8\n",
            "Text: thanks management for pointing out that an email was sent out about the renovations you are absolutely correct one problem your email said that the restaurant would be open here is the email i received when you check in to hotel fifty you'll notice some pretty significant changes starting with the name that's because hotel fifty was recently purchased by pineapple hospitality a pacific northwest based company that specializes in managing boutique hotels but don't worry everything you love about hotel fifty is still here exemplary service and professionalism comfortable and stylish accommodations and fantastic dining at bistro bar naturally all existing reservations will be honored so don't fret if you already have a room booked it will be ready and waiting upon your arrival we very much look forward to welcoming you as a guest of hotel rose   check out our mobile concierge find out about where to eat what to do and portland must sees go to\n",
            "\n",
            "True rating: 5.0\n",
            "Predicted rating: 1.3\n",
            "Text: screen 3 seat this is the top row and its the best however the railings get in the way kinda sucks food was sub par this time i know they can do better the girl brought my queso earlier than i told her she said i placed the order and they finished earlier 20min than i expected the queso was also cold not for one person but for 3 either way just a bad day for food but will still keep a 5 the waiter also didn't seem as friendly and enthusiastic as the last one but i can't ding the eatery for that as its not always in their hand\n",
            "\n",
            "True rating: 5.0\n",
            "Predicted rating: 1.3\n",
            "Text: omg 14 99 lobsta roll with chunks of meat no fillers here had a lobster roll and the sushi free yelp app with check in and it was amazing why go to neptune to wait 30 minutes to an hour when you can come here and have a lobster roll at half the price and arrogance and have room for mike's pastries cam who made my food and hua who took my order are super nice no i don't work here as i'm from texas but you can be damn sure i'm coming back sorry no pic i ate my lobster roll\n",
            "\n"
          ]
        }
      ]
    },
    {
      "cell_type": "code",
      "source": [
        ""
      ],
      "metadata": {
        "id": "8UO_KL5P387o"
      },
      "id": "8UO_KL5P387o",
      "execution_count": null,
      "outputs": []
    }
  ],
  "metadata": {
    "kernelspec": {
      "display_name": "conda_tensorflow2_latest_p37",
      "language": "python",
      "name": "conda_tensorflow2_latest_p37"
    },
    "language_info": {
      "codemirror_mode": {
        "name": "ipython",
        "version": 3
      },
      "file_extension": ".py",
      "mimetype": "text/x-python",
      "name": "python",
      "nbconvert_exporter": "python",
      "pygments_lexer": "ipython3",
      "version": "3.7.10"
    },
    "colab": {
      "name": "CodyCNNAnalysis2.ipynb",
      "provenance": [],
      "background_execution": "on",
      "collapsed_sections": [],
      "include_colab_link": true
    },
    "accelerator": "GPU"
  },
  "nbformat": 4,
  "nbformat_minor": 5
}