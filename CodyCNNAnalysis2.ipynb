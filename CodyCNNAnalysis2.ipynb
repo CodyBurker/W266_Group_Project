{
  "cells": [
    {
      "cell_type": "markdown",
      "metadata": {
        "id": "view-in-github",
        "colab_type": "text"
      },
      "source": [
        "<a href=\"https://colab.research.google.com/github/CodyBurker/W266_Group_Project/blob/CodyCNNBase/CodyCNNAnalysis2.ipynb\" target=\"_parent\"><img src=\"https://colab.research.google.com/assets/colab-badge.svg\" alt=\"Open In Colab\"/></a>"
      ]
    },
    {
      "cell_type": "markdown",
      "id": "8c60a99a",
      "metadata": {
        "id": "8c60a99a"
      },
      "source": [
        "Based on: https://machinelearningmastery.com/develop-word-embedding-model-predicting-movie-review-sentiment/"
      ]
    },
    {
      "cell_type": "code",
      "execution_count": 2,
      "id": "d3d43e6b",
      "metadata": {
        "id": "d3d43e6b"
      },
      "outputs": [],
      "source": [
        "import pandas as pd\n",
        "import string\n",
        "from nltk.corpus import stopwords\n",
        "import nltk"
      ]
    },
    {
      "cell_type": "code",
      "source": [
        "!git clone https://github.com/CodyBurker/W266_Group_Project"
      ],
      "metadata": {
        "colab": {
          "base_uri": "https://localhost:8080/"
        },
        "id": "0LMKJsWAWDCN",
        "outputId": "ca5d2225-bc45-4aaa-d788-279bcc65b077"
      },
      "id": "0LMKJsWAWDCN",
      "execution_count": 3,
      "outputs": [
        {
          "output_type": "stream",
          "name": "stdout",
          "text": [
            "Cloning into 'W266_Group_Project'...\n",
            "remote: Enumerating objects: 35, done.\u001b[K\n",
            "remote: Counting objects: 100% (35/35), done.\u001b[K\n",
            "remote: Compressing objects: 100% (29/29), done.\u001b[K\n",
            "remote: Total 35 (delta 10), reused 22 (delta 2), pack-reused 0\u001b[K\n",
            "Unpacking objects: 100% (35/35), done.\n",
            "Checking out files: 100% (9/9), done.\n"
          ]
        }
      ]
    },
    {
      "cell_type": "code",
      "execution_count": 4,
      "id": "4052af92",
      "metadata": {
        "id": "4052af92"
      },
      "outputs": [],
      "source": [
        "def read_in_data(path=\"W266_Group_Project/\"):\n",
        "    import pandas as pd\n",
        "    X_train = pd.read_csv(path + \"x_train_sampled_yelp_data.csv\")\n",
        "    y_train = pd.read_csv(path + \"y_train_sampled_yelp_data.csv\")\n",
        "    X_test = pd.read_csv(path + \"x_test_sampled_yelp_data.csv\")\n",
        "    y_test = pd.read_csv(path + \"y_test_sampled_yelp_data.csv\")\n",
        "    return X_train, X_test, y_train, y_test"
      ]
    },
    {
      "cell_type": "code",
      "execution_count": 5,
      "id": "6b7aac4d",
      "metadata": {
        "id": "6b7aac4d"
      },
      "outputs": [],
      "source": [
        " X_train, X_test, y_train, y_test = read_in_data()"
      ]
    },
    {
      "cell_type": "markdown",
      "source": [
        "https://towardsdev.com/sentiment-analysis-with-cnn-using-keras-c4debff57fc5?gi=708b4ef40e2f"
      ],
      "metadata": {
        "id": "ceOrQM3YXY7t"
      },
      "id": "ceOrQM3YXY7t"
    },
    {
      "cell_type": "markdown",
      "source": [
        "Encode text and pad it."
      ],
      "metadata": {
        "id": "YuZGKY5XY3VG"
      },
      "id": "YuZGKY5XY3VG"
    },
    {
      "cell_type": "code",
      "source": [
        "from keras_preprocessing.text import Tokenizer\n",
        "from keras_preprocessing.sequence import pad_sequences"
      ],
      "metadata": {
        "id": "o90nvLmLXs_Q"
      },
      "id": "o90nvLmLXs_Q",
      "execution_count": 6,
      "outputs": []
    },
    {
      "cell_type": "code",
      "source": [
        "tokenizer = Tokenizer()\n",
        "tokenizer.fit_on_texts(X_train['text'])\n"
      ],
      "metadata": {
        "id": "IQa1fPakXyT0"
      },
      "id": "IQa1fPakXyT0",
      "execution_count": null,
      "outputs": []
    },
    {
      "cell_type": "code",
      "source": [
        "X_train['encoded'] = tokenizer.texts_to_sequences(X_train['text'])\n",
        "X_test['encoded'] = tokenizer.texts_to_sequences(X_test['text'])"
      ],
      "metadata": {
        "id": "5GbdV6xOX2WP"
      },
      "id": "5GbdV6xOX2WP",
      "execution_count": 8,
      "outputs": []
    },
    {
      "cell_type": "code",
      "source": [
        "import matplotlib.pyplot as plt\n",
        "plt.hist(X_train['encoded'].apply(len))"
      ],
      "metadata": {
        "colab": {
          "base_uri": "https://localhost:8080/",
          "height": 355
        },
        "id": "Lua8k2hqwuxA",
        "outputId": "610aa483-eeb5-4d04-ae88-6fb85e4c0afe"
      },
      "id": "Lua8k2hqwuxA",
      "execution_count": 16,
      "outputs": [
        {
          "output_type": "execute_result",
          "data": {
            "text/plain": [
              "(array([47936., 21142.,  6699.,  2360.,   947.,   441.,   202.,   134.,\n",
              "           90.,    49.]),\n",
              " array([   0.,  101.,  202.,  303.,  404.,  505.,  606.,  707.,  808.,\n",
              "         909., 1010.]),\n",
              " <a list of 10 Patch objects>)"
            ]
          },
          "metadata": {},
          "execution_count": 16
        },
        {
          "output_type": "display_data",
          "data": {
            "image/png": "[encoded data removed]",
            "text/plain": [
              "<Figure size 432x288 with 1 Axes>"
            ]
          },
          "metadata": {
            "needs_background": "light"
          }
        }
      ]
    },
    {
      "cell_type": "code",
      "source": [
        "# Hyper parameters to tune later: maxlen, padding\n",
        "sentence_len = 200\n",
        "X_train_encoded =  pad_sequences(X_train['encoded'], maxlen=sentence_len, padding='post')\n",
        "X_test_encoded = pad_sequences(X_test['encoded'], maxlen=sentence_len, padding='post')\n",
        "print(X_train_encoded.shape)\n",
        "print(X_test_encoded.shape)"
      ],
      "metadata": {
        "colab": {
          "base_uri": "https://localhost:8080/"
        },
        "id": "3kIdvlqjYs6u",
        "outputId": "f5d53a8c-3105-4478-be0b-135948f29d6e"
      },
      "id": "3kIdvlqjYs6u",
      "execution_count": 17,
      "outputs": [
        {
          "output_type": "stream",
          "name": "stdout",
          "text": [
            "(80000, 200)\n",
            "(20000, 200)\n"
          ]
        }
      ]
    },
    {
      "cell_type": "markdown",
      "source": [
        "Create model"
      ],
      "metadata": {
        "id": "uGdstENkcNaq"
      },
      "id": "uGdstENkcNaq"
    },
    {
      "cell_type": "code",
      "source": [
        "from keras import Sequential\n",
        "from keras.layers import Dense, Embedding, Activation, Dropout\n",
        "from keras.layers import  MaxPool1D, GlobalMaxPool1D, Conv1D\n",
        "vocab_size = len(tokenizer.word_counts)\n",
        "\n",
        "model = Sequential()\n",
        "model.add(Embedding(vocab_size,300, input_length = sentence_len))\n",
        "model.add(Conv1D(64,8,activation=\"relu\"))\n",
        "model.add(MaxPool1D(2))\n",
        "\n",
        "model.add(Dense(32, activation=\"relu\"))\n",
        "model.add(Dropout(0.5))\n",
        "model.add(Dense(16,activation='relu'))\n",
        "model.add(GlobalMaxPool1D())\n",
        "model.add(Dense(3,activation='softmax'))\n",
        "model.summary()\n",
        "\n"
      ],
      "metadata": {
        "colab": {
          "base_uri": "https://localhost:8080/"
        },
        "id": "whze4UbCbV1N",
        "outputId": "6c26dd95-839e-4cd7-ae1d-6c36029659a9"
      },
      "id": "whze4UbCbV1N",
      "execution_count": 18,
      "outputs": [
        {
          "output_type": "stream",
          "name": "stdout",
          "text": [
            "Model: \"sequential_4\"\n",
            "_________________________________________________________________\n",
            " Layer (type)                Output Shape              Param #   \n",
            "=================================================================\n",
            " embedding_3 (Embedding)     (None, 200, 300)          23360400  \n",
            "                                                                 \n",
            " conv1d_3 (Conv1D)           (None, 193, 64)           153664    \n",
            "                                                                 \n",
            " max_pooling1d_3 (MaxPooling  (None, 96, 64)           0         \n",
            " 1D)                                                             \n",
            "                                                                 \n",
            " dense_9 (Dense)             (None, 96, 32)            2080      \n",
            "                                                                 \n",
            " dropout_3 (Dropout)         (None, 96, 32)            0         \n",
            "                                                                 \n",
            " dense_10 (Dense)            (None, 96, 16)            528       \n",
            "                                                                 \n",
            " global_max_pooling1d_3 (Glo  (None, 16)               0         \n",
            " balMaxPooling1D)                                                \n",
            "                                                                 \n",
            " dense_11 (Dense)            (None, 3)                 51        \n",
            "                                                                 \n",
            "=================================================================\n",
            "Total params: 23,516,723\n",
            "Trainable params: 23,516,723\n",
            "Non-trainable params: 0\n",
            "_________________________________________________________________\n"
          ]
        }
      ]
    },
    {
      "cell_type": "code",
      "source": [
        "# model.compile(optimizer='adam', loss='mse',metrics=['mse'])"
      ],
      "metadata": {
        "id": "ScDnJ18_er4q"
      },
      "id": "ScDnJ18_er4q",
      "execution_count": 12,
      "outputs": []
    },
    {
      "cell_type": "code",
      "source": [
        "# model.fit(X_train_encoded,y_train, epochs=10, validation_data = [X_test_encoded, y_test])"
      ],
      "metadata": {
        "id": "nurpxe8_cTyi"
      },
      "id": "nurpxe8_cTyi",
      "execution_count": null,
      "outputs": []
    },
    {
      "cell_type": "code",
      "source": [
        "# Save model\n",
        "# from google.colab import drive\n",
        "# drive.mount('/content/drive')\n",
        "# model.save(\"/content/drive/MyDrive/Code Repos/YelpCNN\")\n",
        "# Inspiration: https://chercher.tech/nlp/convolutional-neural-networks-cnns-for-nlp"
      ],
      "metadata": {
        "id": "qpchDHJUjz12"
      },
      "id": "qpchDHJUjz12",
      "execution_count": null,
      "outputs": []
    },
    {
      "cell_type": "code",
      "source": [
        "from keras.layers.pooling import GlobalMaxPool1D\n",
        "# New model architecture\n",
        "model2 = Sequential()\n",
        "model2.add(Embedding(vocab_size,10, input_length = sentence_len))\n",
        "model2.add(Conv1D(64,8,activation=\"relu\"))\n",
        "model2.add(GlobalMaxPool1D())\n",
        "model2.add(Dense(32, activation=\"relu\"))\n",
        "model2.add(Dropout(0.5))\n",
        "model2.add(Dense(10,activation='relu'))\n",
        "from keras.utils.vis_utils import plot_model\n",
        "model2.compile(optimizer='adam', loss='mse',metrics=['mse'])\n",
        "plot_model(model2,show_shapes=True)\n"
      ],
      "metadata": {
        "id": "Y17rx1U6j6eD",
        "outputId": "b131766e-d08d-438a-f439-32e8e8bf9622",
        "colab": {
          "base_uri": "https://localhost:8080/",
          "height": 754
        }
      },
      "id": "Y17rx1U6j6eD",
      "execution_count": 22,
      "outputs": [
        {
          "output_type": "execute_result",
          "data": {
            "image/png": "[encoded data removed]",
            "text/plain": [
              "<IPython.core.display.Image object>"
            ]
          },
          "metadata": {},
          "execution_count": 22
        }
      ]
    },
    {
      "cell_type": "code",
      "source": [
        "model2.fit(X_train_encoded,y_train,\n",
        "           epochs=20,\n",
        "           batch_size=100, \n",
        "           validation_data = [X_test_encoded, y_test])"
      ],
      "metadata": {
        "id": "N779vE4stPaK",
        "colab": {
          "base_uri": "https://localhost:8080/"
        },
        "outputId": "2c8bf22e-3e05-47e5-c003-3dae48cd1704"
      },
      "id": "N779vE4stPaK",
      "execution_count": 26,
      "outputs": [
        {
          "output_type": "stream",
          "name": "stdout",
          "text": [
            "Epoch 1/100\n",
            "8/8 [==============================] - 1s 51ms/step - loss: 0.2292 - mse: 0.2292 - val_loss: 0.7905 - val_mse: 0.7905\n",
            "Epoch 2/100\n",
            "8/8 [==============================] - 0s 33ms/step - loss: 0.2257 - mse: 0.2257 - val_loss: 0.7884 - val_mse: 0.7884\n",
            "Epoch 3/100\n",
            "8/8 [==============================] - 0s 33ms/step - loss: 0.2232 - mse: 0.2232 - val_loss: 0.7874 - val_mse: 0.7874\n",
            "Epoch 4/100\n",
            "8/8 [==============================] - 0s 33ms/step - loss: 0.2210 - mse: 0.2210 - val_loss: 0.7875 - val_mse: 0.7875\n",
            "Epoch 5/100\n",
            "8/8 [==============================] - 0s 33ms/step - loss: 0.2212 - mse: 0.2212 - val_loss: 0.7893 - val_mse: 0.7893\n",
            "Epoch 6/100\n",
            "8/8 [==============================] - 0s 34ms/step - loss: 0.2208 - mse: 0.2208 - val_loss: 0.7891 - val_mse: 0.7891\n",
            "Epoch 7/100\n",
            "8/8 [==============================] - 0s 34ms/step - loss: 0.2189 - mse: 0.2189 - val_loss: 0.7891 - val_mse: 0.7891\n",
            "Epoch 8/100\n",
            "8/8 [==============================] - 0s 33ms/step - loss: 0.2165 - mse: 0.2165 - val_loss: 0.7898 - val_mse: 0.7898\n",
            "Epoch 9/100\n",
            "8/8 [==============================] - 0s 33ms/step - loss: 0.2159 - mse: 0.2159 - val_loss: 0.7913 - val_mse: 0.7913\n",
            "Epoch 10/100\n",
            "8/8 [==============================] - 0s 33ms/step - loss: 0.2165 - mse: 0.2165 - val_loss: 0.7919 - val_mse: 0.7919\n",
            "Epoch 11/100\n",
            "8/8 [==============================] - 0s 33ms/step - loss: 0.2146 - mse: 0.2146 - val_loss: 0.7925 - val_mse: 0.7925\n",
            "Epoch 12/100\n",
            "8/8 [==============================] - 0s 33ms/step - loss: 0.2157 - mse: 0.2157 - val_loss: 0.7926 - val_mse: 0.7926\n",
            "Epoch 13/100\n",
            "8/8 [==============================] - 0s 34ms/step - loss: 0.2172 - mse: 0.2172 - val_loss: 0.7929 - val_mse: 0.7929\n",
            "Epoch 14/100\n",
            "8/8 [==============================] - 0s 33ms/step - loss: 0.2160 - mse: 0.2160 - val_loss: 0.7942 - val_mse: 0.7942\n",
            "Epoch 15/100\n",
            "8/8 [==============================] - 0s 33ms/step - loss: 0.2128 - mse: 0.2128 - val_loss: 0.7945 - val_mse: 0.7945\n",
            "Epoch 16/100\n",
            "8/8 [==============================] - 0s 34ms/step - loss: 0.2155 - mse: 0.2155 - val_loss: 0.7948 - val_mse: 0.7948\n",
            "Epoch 17/100\n",
            "8/8 [==============================] - 0s 33ms/step - loss: 0.2157 - mse: 0.2157 - val_loss: 0.7951 - val_mse: 0.7951\n",
            "Epoch 18/100\n",
            "8/8 [==============================] - 0s 34ms/step - loss: 0.2134 - mse: 0.2134 - val_loss: 0.7959 - val_mse: 0.7959\n",
            "Epoch 19/100\n",
            "8/8 [==============================] - 0s 32ms/step - loss: 0.2111 - mse: 0.2111 - val_loss: 0.7964 - val_mse: 0.7964\n",
            "Epoch 20/100\n",
            "8/8 [==============================] - 0s 33ms/step - loss: 0.2128 - mse: 0.2128 - val_loss: 0.7962 - val_mse: 0.7962\n",
            "Epoch 21/100\n",
            "8/8 [==============================] - 0s 33ms/step - loss: 0.2118 - mse: 0.2118 - val_loss: 0.7971 - val_mse: 0.7971\n",
            "Epoch 22/100\n",
            "8/8 [==============================] - 0s 33ms/step - loss: 0.2128 - mse: 0.2128 - val_loss: 0.7982 - val_mse: 0.7982\n",
            "Epoch 23/100\n",
            "8/8 [==============================] - 0s 33ms/step - loss: 0.2109 - mse: 0.2109 - val_loss: 0.7985 - val_mse: 0.7985\n",
            "Epoch 24/100\n",
            "8/8 [==============================] - 0s 33ms/step - loss: 0.2106 - mse: 0.2106 - val_loss: 0.7998 - val_mse: 0.7998\n",
            "Epoch 25/100\n",
            "8/8 [==============================] - 0s 33ms/step - loss: 0.2089 - mse: 0.2089 - val_loss: 0.7998 - val_mse: 0.7998\n",
            "Epoch 26/100\n",
            "8/8 [==============================] - 0s 33ms/step - loss: 0.2122 - mse: 0.2122 - val_loss: 0.8012 - val_mse: 0.8012\n",
            "Epoch 27/100\n",
            "8/8 [==============================] - 0s 33ms/step - loss: 0.2142 - mse: 0.2142 - val_loss: 0.8010 - val_mse: 0.8010\n",
            "Epoch 28/100\n",
            "8/8 [==============================] - 0s 34ms/step - loss: 0.2116 - mse: 0.2116 - val_loss: 0.8014 - val_mse: 0.8014\n",
            "Epoch 29/100\n",
            "8/8 [==============================] - 0s 33ms/step - loss: 0.2111 - mse: 0.2111 - val_loss: 0.8012 - val_mse: 0.8012\n",
            "Epoch 30/100\n",
            "8/8 [==============================] - 0s 33ms/step - loss: 0.2103 - mse: 0.2103 - val_loss: 0.8027 - val_mse: 0.8027\n",
            "Epoch 31/100\n",
            "8/8 [==============================] - 0s 34ms/step - loss: 0.2115 - mse: 0.2115 - val_loss: 0.8026 - val_mse: 0.8026\n",
            "Epoch 32/100\n",
            "8/8 [==============================] - 0s 33ms/step - loss: 0.2120 - mse: 0.2120 - val_loss: 0.8047 - val_mse: 0.8047\n",
            "Epoch 33/100\n",
            "8/8 [==============================] - 0s 33ms/step - loss: 0.2100 - mse: 0.2100 - val_loss: 0.8052 - val_mse: 0.8052\n",
            "Epoch 34/100\n",
            "8/8 [==============================] - 0s 34ms/step - loss: 0.2099 - mse: 0.2099 - val_loss: 0.8038 - val_mse: 0.8038\n",
            "Epoch 35/100\n",
            "8/8 [==============================] - 0s 33ms/step - loss: 0.2071 - mse: 0.2071 - val_loss: 0.8051 - val_mse: 0.8051\n",
            "Epoch 36/100\n",
            "8/8 [==============================] - 0s 33ms/step - loss: 0.2105 - mse: 0.2105 - val_loss: 0.8057 - val_mse: 0.8057\n",
            "Epoch 37/100\n",
            "8/8 [==============================] - 0s 33ms/step - loss: 0.2102 - mse: 0.2102 - val_loss: 0.8050 - val_mse: 0.8050\n",
            "Epoch 38/100\n",
            "8/8 [==============================] - 0s 33ms/step - loss: 0.2105 - mse: 0.2105 - val_loss: 0.8061 - val_mse: 0.8061\n",
            "Epoch 39/100\n",
            "8/8 [==============================] - 0s 34ms/step - loss: 0.2115 - mse: 0.2115 - val_loss: 0.8079 - val_mse: 0.8079\n",
            "Epoch 40/100\n",
            "8/8 [==============================] - 0s 32ms/step - loss: 0.2085 - mse: 0.2085 - val_loss: 0.8062 - val_mse: 0.8062\n",
            "Epoch 41/100\n",
            "8/8 [==============================] - 0s 34ms/step - loss: 0.2097 - mse: 0.2097 - val_loss: 0.8067 - val_mse: 0.8067\n",
            "Epoch 42/100\n",
            "8/8 [==============================] - 0s 34ms/step - loss: 0.2107 - mse: 0.2107 - val_loss: 0.8081 - val_mse: 0.8081\n",
            "Epoch 43/100\n",
            "8/8 [==============================] - 0s 33ms/step - loss: 0.2112 - mse: 0.2112 - val_loss: 0.8084 - val_mse: 0.8084\n",
            "Epoch 44/100\n",
            "8/8 [==============================] - 0s 34ms/step - loss: 0.2107 - mse: 0.2107 - val_loss: 0.8084 - val_mse: 0.8084\n",
            "Epoch 45/100\n",
            "8/8 [==============================] - 0s 33ms/step - loss: 0.2080 - mse: 0.2080 - val_loss: 0.8096 - val_mse: 0.8096\n",
            "Epoch 46/100\n",
            "8/8 [==============================] - 0s 33ms/step - loss: 0.2082 - mse: 0.2082 - val_loss: 0.8098 - val_mse: 0.8098\n",
            "Epoch 47/100\n",
            "8/8 [==============================] - 0s 33ms/step - loss: 0.2092 - mse: 0.2092 - val_loss: 0.8102 - val_mse: 0.8102\n",
            "Epoch 48/100\n",
            "8/8 [==============================] - 0s 33ms/step - loss: 0.2100 - mse: 0.2100 - val_loss: 0.8107 - val_mse: 0.8107\n",
            "Epoch 49/100\n",
            "8/8 [==============================] - 0s 34ms/step - loss: 0.2069 - mse: 0.2069 - val_loss: 0.8116 - val_mse: 0.8116\n",
            "Epoch 50/100\n",
            "8/8 [==============================] - 0s 33ms/step - loss: 0.2118 - mse: 0.2118 - val_loss: 0.8133 - val_mse: 0.8133\n",
            "Epoch 51/100\n",
            "8/8 [==============================] - 0s 33ms/step - loss: 0.2076 - mse: 0.2076 - val_loss: 0.8124 - val_mse: 0.8124\n",
            "Epoch 52/100\n",
            "8/8 [==============================] - 0s 34ms/step - loss: 0.2065 - mse: 0.2065 - val_loss: 0.8125 - val_mse: 0.8125\n",
            "Epoch 53/100\n",
            "8/8 [==============================] - 0s 33ms/step - loss: 0.2090 - mse: 0.2090 - val_loss: 0.8128 - val_mse: 0.8128\n",
            "Epoch 54/100\n",
            "8/8 [==============================] - 0s 33ms/step - loss: 0.2099 - mse: 0.2099 - val_loss: 0.8121 - val_mse: 0.8121\n",
            "Epoch 55/100\n",
            "8/8 [==============================] - 0s 34ms/step - loss: 0.2112 - mse: 0.2112 - val_loss: 0.8132 - val_mse: 0.8132\n",
            "Epoch 56/100\n",
            "8/8 [==============================] - 0s 34ms/step - loss: 0.2098 - mse: 0.2098 - val_loss: 0.8133 - val_mse: 0.8133\n",
            "Epoch 57/100\n",
            "8/8 [==============================] - 0s 33ms/step - loss: 0.2096 - mse: 0.2096 - val_loss: 0.8135 - val_mse: 0.8135\n",
            "Epoch 58/100\n",
            "8/8 [==============================] - 0s 33ms/step - loss: 0.2092 - mse: 0.2092 - val_loss: 0.8144 - val_mse: 0.8144\n",
            "Epoch 59/100\n",
            "8/8 [==============================] - 0s 33ms/step - loss: 0.2088 - mse: 0.2088 - val_loss: 0.8156 - val_mse: 0.8156\n",
            "Epoch 60/100\n",
            "8/8 [==============================] - 0s 34ms/step - loss: 0.2084 - mse: 0.2084 - val_loss: 0.8166 - val_mse: 0.8166\n",
            "Epoch 61/100\n",
            "8/8 [==============================] - 0s 33ms/step - loss: 0.2072 - mse: 0.2072 - val_loss: 0.8166 - val_mse: 0.8166\n",
            "Epoch 62/100\n",
            "8/8 [==============================] - 0s 34ms/step - loss: 0.2064 - mse: 0.2064 - val_loss: 0.8161 - val_mse: 0.8161\n",
            "Epoch 63/100\n",
            "8/8 [==============================] - 0s 33ms/step - loss: 0.2070 - mse: 0.2070 - val_loss: 0.8167 - val_mse: 0.8167\n",
            "Epoch 64/100\n",
            "8/8 [==============================] - 0s 33ms/step - loss: 0.2072 - mse: 0.2072 - val_loss: 0.8172 - val_mse: 0.8172\n",
            "Epoch 65/100\n",
            "8/8 [==============================] - 0s 34ms/step - loss: 0.2083 - mse: 0.2083 - val_loss: 0.8178 - val_mse: 0.8178\n",
            "Epoch 66/100\n",
            "8/8 [==============================] - 0s 33ms/step - loss: 0.2075 - mse: 0.2075 - val_loss: 0.8182 - val_mse: 0.8182\n",
            "Epoch 67/100\n",
            "8/8 [==============================] - 0s 34ms/step - loss: 0.2091 - mse: 0.2091 - val_loss: 0.8185 - val_mse: 0.8185\n",
            "Epoch 68/100\n",
            "8/8 [==============================] - 0s 33ms/step - loss: 0.2034 - mse: 0.2034 - val_loss: 0.8179 - val_mse: 0.8179\n",
            "Epoch 69/100\n",
            "8/8 [==============================] - 0s 33ms/step - loss: 0.2084 - mse: 0.2084 - val_loss: 0.8188 - val_mse: 0.8188\n",
            "Epoch 70/100\n",
            "8/8 [==============================] - 0s 34ms/step - loss: 0.2057 - mse: 0.2057 - val_loss: 0.8186 - val_mse: 0.8186\n",
            "Epoch 71/100\n",
            "8/8 [==============================] - 0s 33ms/step - loss: 0.2091 - mse: 0.2091 - val_loss: 0.8186 - val_mse: 0.8186\n",
            "Epoch 72/100\n",
            "8/8 [==============================] - 0s 33ms/step - loss: 0.2073 - mse: 0.2073 - val_loss: 0.8207 - val_mse: 0.8207\n",
            "Epoch 73/100\n",
            "8/8 [==============================] - 0s 33ms/step - loss: 0.2075 - mse: 0.2075 - val_loss: 0.8203 - val_mse: 0.8203\n",
            "Epoch 74/100\n",
            "8/8 [==============================] - 0s 33ms/step - loss: 0.2075 - mse: 0.2075 - val_loss: 0.8203 - val_mse: 0.8203\n",
            "Epoch 75/100\n",
            "8/8 [==============================] - 0s 33ms/step - loss: 0.2072 - mse: 0.2072 - val_loss: 0.8214 - val_mse: 0.8214\n",
            "Epoch 76/100\n",
            "8/8 [==============================] - 0s 33ms/step - loss: 0.2075 - mse: 0.2075 - val_loss: 0.8206 - val_mse: 0.8206\n",
            "Epoch 77/100\n",
            "8/8 [==============================] - 0s 33ms/step - loss: 0.2070 - mse: 0.2070 - val_loss: 0.8210 - val_mse: 0.8210\n",
            "Epoch 78/100\n",
            "8/8 [==============================] - 0s 33ms/step - loss: 0.2073 - mse: 0.2073 - val_loss: 0.8223 - val_mse: 0.8223\n",
            "Epoch 79/100\n",
            "8/8 [==============================] - 0s 33ms/step - loss: 0.2081 - mse: 0.2081 - val_loss: 0.8224 - val_mse: 0.8224\n",
            "Epoch 80/100\n",
            "8/8 [==============================] - 0s 33ms/step - loss: 0.2061 - mse: 0.2061 - val_loss: 0.8223 - val_mse: 0.8223\n",
            "Epoch 81/100\n",
            "8/8 [==============================] - 0s 34ms/step - loss: 0.2045 - mse: 0.2045 - val_loss: 0.8218 - val_mse: 0.8218\n",
            "Epoch 82/100\n",
            "8/8 [==============================] - 0s 33ms/step - loss: 0.2065 - mse: 0.2065 - val_loss: 0.8211 - val_mse: 0.8211\n",
            "Epoch 83/100\n",
            "8/8 [==============================] - 0s 34ms/step - loss: 0.2074 - mse: 0.2074 - val_loss: 0.8225 - val_mse: 0.8225\n",
            "Epoch 84/100\n",
            "8/8 [==============================] - 0s 33ms/step - loss: 0.2085 - mse: 0.2085 - val_loss: 0.8231 - val_mse: 0.8231\n",
            "Epoch 85/100\n",
            "8/8 [==============================] - 0s 34ms/step - loss: 0.2073 - mse: 0.2073 - val_loss: 0.8228 - val_mse: 0.8228\n",
            "Epoch 86/100\n",
            "8/8 [==============================] - 0s 33ms/step - loss: 0.2074 - mse: 0.2074 - val_loss: 0.8221 - val_mse: 0.8221\n",
            "Epoch 87/100\n",
            "8/8 [==============================] - 0s 33ms/step - loss: 0.2047 - mse: 0.2047 - val_loss: 0.8242 - val_mse: 0.8242\n",
            "Epoch 88/100\n",
            "8/8 [==============================] - 0s 33ms/step - loss: 0.2067 - mse: 0.2067 - val_loss: 0.8251 - val_mse: 0.8251\n",
            "Epoch 89/100\n",
            "8/8 [==============================] - 0s 33ms/step - loss: 0.2047 - mse: 0.2047 - val_loss: 0.8249 - val_mse: 0.8249\n",
            "Epoch 90/100\n",
            "8/8 [==============================] - 0s 33ms/step - loss: 0.2040 - mse: 0.2040 - val_loss: 0.8271 - val_mse: 0.8271\n",
            "Epoch 91/100\n",
            "8/8 [==============================] - 0s 34ms/step - loss: 0.2080 - mse: 0.2080 - val_loss: 0.8252 - val_mse: 0.8252\n",
            "Epoch 92/100\n",
            "8/8 [==============================] - 0s 33ms/step - loss: 0.2058 - mse: 0.2058 - val_loss: 0.8242 - val_mse: 0.8242\n",
            "Epoch 93/100\n",
            "8/8 [==============================] - 0s 33ms/step - loss: 0.2083 - mse: 0.2083 - val_loss: 0.8256 - val_mse: 0.8256\n",
            "Epoch 94/100\n",
            "8/8 [==============================] - 0s 34ms/step - loss: 0.2055 - mse: 0.2055 - val_loss: 0.8247 - val_mse: 0.8247\n",
            "Epoch 95/100\n",
            "8/8 [==============================] - 0s 33ms/step - loss: 0.2071 - mse: 0.2071 - val_loss: 0.8265 - val_mse: 0.8265\n",
            "Epoch 96/100\n",
            "8/8 [==============================] - 0s 33ms/step - loss: 0.2073 - mse: 0.2073 - val_loss: 0.8263 - val_mse: 0.8263\n",
            "Epoch 97/100\n",
            "8/8 [==============================] - 0s 33ms/step - loss: 0.2057 - mse: 0.2057 - val_loss: 0.8266 - val_mse: 0.8266\n",
            "Epoch 98/100\n",
            "8/8 [==============================] - 0s 34ms/step - loss: 0.2059 - mse: 0.2059 - val_loss: 0.8283 - val_mse: 0.8283\n",
            "Epoch 99/100\n",
            "8/8 [==============================] - 0s 34ms/step - loss: 0.2057 - mse: 0.2057 - val_loss: 0.8290 - val_mse: 0.8290\n",
            "Epoch 100/100\n",
            "8/8 [==============================] - 0s 34ms/step - loss: 0.2050 - mse: 0.2050 - val_loss: 0.8273 - val_mse: 0.8273\n"
          ]
        },
        {
          "output_type": "execute_result",
          "data": {
            "text/plain": [
              "<keras.callbacks.History at 0x7f93b5e7f290>"
            ]
          },
          "metadata": {},
          "execution_count": 26
        }
      ]
    },
    {
      "cell_type": "code",
      "source": [
        ""
      ],
      "metadata": {
        "id": "mDpNXD9dyPDo"
      },
      "id": "mDpNXD9dyPDo",
      "execution_count": null,
      "outputs": []
    }
  ],
  "metadata": {
    "kernelspec": {
      "display_name": "conda_tensorflow2_latest_p37",
      "language": "python",
      "name": "conda_tensorflow2_latest_p37"
    },
    "language_info": {
      "codemirror_mode": {
        "name": "ipython",
        "version": 3
      },
      "file_extension": ".py",
      "mimetype": "text/x-python",
      "name": "python",
      "nbconvert_exporter": "python",
      "pygments_lexer": "ipython3",
      "version": "3.7.10"
    },
    "colab": {
      "name": "CodyCNNAnalysis2.ipynb",
      "provenance": [],
      "background_execution": "on",
      "collapsed_sections": [],
      "include_colab_link": true
    },
    "accelerator": "GPU"
  },
  "nbformat": 4,
  "nbformat_minor": 5
}