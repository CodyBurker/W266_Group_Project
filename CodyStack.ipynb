{
 "cells": [
  {
   "cell_type": "code",
   "execution_count": 1,
   "metadata": {},
   "outputs": [],
   "source": [
    "import pandas as pd"
   ]
  },
  {
   "cell_type": "code",
   "execution_count": 2,
   "metadata": {},
   "outputs": [],
   "source": [
    "def read_in_data(path=\"\"):\n",
    "    CNN_Predictions = pd.read_csv(path + \"CNN_Predictions.csv\")\n",
    "    t5_Predictions = pd.read_csv(path + \"t5_Predictions.csv\")\n",
    "    BERT_Predictions = pd.read_csv(path + \"BERT_Predictions_80k_stage_2_1_to_5.csv\")\n",
    "    CNN_Predictions_X_test = pd.read_csv(path + \"X_test_predictions_1_to_5_CNN.csv\")\n",
    "    t5_Predictions_X_test = pd.read_csv(path + \"t5_Predictions_test20k.csv\")\n",
    "    BERT_Predictions_X_test = pd.read_csv(path + \"X_test_predictions_1_to_5.csv\")\n",
    "    y_test = pd.read_csv(path + \"y_test_sampled_yelp_data_NEW.csv\")\n",
    "    return CNN_Predictions, t5_Predictions, BERT_Predictions, y_test, CNN_Predictions_X_test, t5_Predictions_X_test, BERT_Predictions_X_test\n",
    "CNN_Predictions, t5_Predictions, BERT_Predictions, y_test, CNN_Predictions_X_test, t5_Predictions_X_test, BERT_Predictions_X_test = read_in_data()"
   ]
  },
  {
   "cell_type": "code",
   "execution_count": 3,
   "metadata": {},
   "outputs": [],
   "source": [
    "train_data = {'BERT_Preds': BERT_Predictions['0'], \n",
    "        'CNN_Preds': CNN_Predictions['CNN_predictions'], \n",
    "        'T5_Preds': t5_Predictions['Predicted'], \n",
    "        'Actuals': t5_Predictions['Actual']}"
   ]
  },
  {
   "cell_type": "code",
   "execution_count": 4,
   "metadata": {},
   "outputs": [
    {
     "data": {
      "text/html": [
       "<div>\n",
       "<style scoped>\n",
       "    .dataframe tbody tr th:only-of-type {\n",
       "        vertical-align: middle;\n",
       "    }\n",
       "\n",
       "    .dataframe tbody tr th {\n",
       "        vertical-align: top;\n",
       "    }\n",
       "\n",
       "    .dataframe thead th {\n",
       "        text-align: right;\n",
       "    }\n",
       "</style>\n",
       "<table border=\"1\" class=\"dataframe\">\n",
       "  <thead>\n",
       "    <tr style=\"text-align: right;\">\n",
       "      <th></th>\n",
       "      <th>BERT_Preds</th>\n",
       "      <th>CNN_Preds</th>\n",
       "      <th>T5_Preds</th>\n",
       "      <th>Actuals</th>\n",
       "    </tr>\n",
       "  </thead>\n",
       "  <tbody>\n",
       "    <tr>\n",
       "      <th>0</th>\n",
       "      <td>5</td>\n",
       "      <td>5</td>\n",
       "      <td>5.0</td>\n",
       "      <td>5.0</td>\n",
       "    </tr>\n",
       "    <tr>\n",
       "      <th>1</th>\n",
       "      <td>4</td>\n",
       "      <td>5</td>\n",
       "      <td>4.0</td>\n",
       "      <td>5.0</td>\n",
       "    </tr>\n",
       "    <tr>\n",
       "      <th>2</th>\n",
       "      <td>5</td>\n",
       "      <td>5</td>\n",
       "      <td>5.0</td>\n",
       "      <td>5.0</td>\n",
       "    </tr>\n",
       "    <tr>\n",
       "      <th>3</th>\n",
       "      <td>3</td>\n",
       "      <td>4</td>\n",
       "      <td>4.0</td>\n",
       "      <td>4.0</td>\n",
       "    </tr>\n",
       "    <tr>\n",
       "      <th>4</th>\n",
       "      <td>5</td>\n",
       "      <td>4</td>\n",
       "      <td>5.0</td>\n",
       "      <td>5.0</td>\n",
       "    </tr>\n",
       "  </tbody>\n",
       "</table>\n",
       "</div>"
      ],
      "text/plain": [
       "   BERT_Preds  CNN_Preds  T5_Preds  Actuals\n",
       "0           5          5       5.0      5.0\n",
       "1           4          5       4.0      5.0\n",
       "2           5          5       5.0      5.0\n",
       "3           3          4       4.0      4.0\n",
       "4           5          4       5.0      5.0"
      ]
     },
     "execution_count": 4,
     "metadata": {},
     "output_type": "execute_result"
    }
   ],
   "source": [
    "train_data_df = pd.DataFrame(train_data)\n",
    "train_data_df.head()"
   ]
  },
  {
   "cell_type": "code",
   "execution_count": 5,
   "metadata": {},
   "outputs": [
    {
     "data": {
      "text/html": [
       "<div>\n",
       "<style scoped>\n",
       "    .dataframe tbody tr th:only-of-type {\n",
       "        vertical-align: middle;\n",
       "    }\n",
       "\n",
       "    .dataframe tbody tr th {\n",
       "        vertical-align: top;\n",
       "    }\n",
       "\n",
       "    .dataframe thead th {\n",
       "        text-align: right;\n",
       "    }\n",
       "</style>\n",
       "<table border=\"1\" class=\"dataframe\">\n",
       "  <thead>\n",
       "    <tr style=\"text-align: right;\">\n",
       "      <th></th>\n",
       "      <th>BERT_Preds</th>\n",
       "      <th>CNN_Preds</th>\n",
       "      <th>T5_Preds</th>\n",
       "      <th>Actuals</th>\n",
       "    </tr>\n",
       "  </thead>\n",
       "  <tbody>\n",
       "    <tr>\n",
       "      <th>0</th>\n",
       "      <td>5</td>\n",
       "      <td>5</td>\n",
       "      <td>5.0</td>\n",
       "      <td>5.0</td>\n",
       "    </tr>\n",
       "    <tr>\n",
       "      <th>1</th>\n",
       "      <td>5</td>\n",
       "      <td>5</td>\n",
       "      <td>5.0</td>\n",
       "      <td>3.0</td>\n",
       "    </tr>\n",
       "    <tr>\n",
       "      <th>2</th>\n",
       "      <td>5</td>\n",
       "      <td>5</td>\n",
       "      <td>5.0</td>\n",
       "      <td>5.0</td>\n",
       "    </tr>\n",
       "    <tr>\n",
       "      <th>3</th>\n",
       "      <td>5</td>\n",
       "      <td>5</td>\n",
       "      <td>5.0</td>\n",
       "      <td>5.0</td>\n",
       "    </tr>\n",
       "    <tr>\n",
       "      <th>4</th>\n",
       "      <td>5</td>\n",
       "      <td>5</td>\n",
       "      <td>2.0</td>\n",
       "      <td>5.0</td>\n",
       "    </tr>\n",
       "  </tbody>\n",
       "</table>\n",
       "</div>"
      ],
      "text/plain": [
       "   BERT_Preds  CNN_Preds  T5_Preds  Actuals\n",
       "0           5          5       5.0      5.0\n",
       "1           5          5       5.0      3.0\n",
       "2           5          5       5.0      5.0\n",
       "3           5          5       5.0      5.0\n",
       "4           5          5       2.0      5.0"
      ]
     },
     "execution_count": 5,
     "metadata": {},
     "output_type": "execute_result"
    }
   ],
   "source": [
    "test_data = {'BERT_Preds': BERT_Predictions_X_test['0'], \n",
    "        'CNN_Preds': CNN_Predictions_X_test['CNN_predictions'], \n",
    "        'T5_Preds': t5_Predictions_X_test['Predicted'], \n",
    "        'Actuals': y_test['stars']}\n",
    "test_data_df = pd.DataFrame(test_data)\n",
    "test_data_df.head()"
   ]
  },
  {
   "cell_type": "code",
   "execution_count": 6,
   "metadata": {},
   "outputs": [],
   "source": [
    "# Create svm model\n",
    "from sklearn.svm import SVC\n",
    "svm_model = SVC(kernel='linear', C=1)\n"
   ]
  },
  {
   "cell_type": "code",
   "execution_count": 7,
   "metadata": {},
   "outputs": [
    {
     "data": {
      "text/plain": [
       "SVC(C=1, kernel='linear')"
      ]
     },
     "execution_count": 7,
     "metadata": {},
     "output_type": "execute_result"
    }
   ],
   "source": [
    "svm_model.fit(train_data_df[['BERT_Preds', 'CNN_Preds', 'T5_Preds']], train_data_df['Actuals'])\n",
    "# Predict on test data\n"
   ]
  },
  {
   "cell_type": "code",
   "execution_count": 8,
   "metadata": {},
   "outputs": [
    {
     "data": {
      "text/plain": [
       "0.7245"
      ]
     },
     "execution_count": 8,
     "metadata": {},
     "output_type": "execute_result"
    }
   ],
   "source": [
    "predictions = svm_model.predict(test_data_df[['BERT_Preds', 'CNN_Preds', 'T5_Preds']])\n",
    "# Calculate accuracy\n",
    "from sklearn.metrics import accuracy_score\n",
    "accuracy_score(test_data_df['Actuals'], predictions)"
   ]
  },
  {
   "cell_type": "code",
   "execution_count": 9,
   "metadata": {},
   "outputs": [
    {
     "data": {
      "text/plain": [
       "RandomForestClassifier(max_depth=2, random_state=0)"
      ]
     },
     "execution_count": 9,
     "metadata": {},
     "output_type": "execute_result"
    }
   ],
   "source": [
    "# Random Forest Classifier\n",
    "from sklearn.ensemble import RandomForestClassifier\n",
    "rf_model = RandomForestClassifier(n_estimators=100, max_depth=2, random_state=0)\n",
    "rf_model.fit(train_data_df[['BERT_Preds', 'CNN_Preds', 'T5_Preds']], train_data_df['Actuals'])\n"
   ]
  },
  {
   "cell_type": "code",
   "execution_count": 10,
   "metadata": {},
   "outputs": [
    {
     "data": {
      "text/plain": [
       "0.6778"
      ]
     },
     "execution_count": 10,
     "metadata": {},
     "output_type": "execute_result"
    }
   ],
   "source": [
    "rf_preds = rf_model.predict(test_data_df[['BERT_Preds', 'CNN_Preds', 'T5_Preds']])\n",
    "accuracy_score(test_data_df['Actuals'], rf_preds)"
   ]
  },
  {
   "cell_type": "code",
   "execution_count": 11,
   "metadata": {},
   "outputs": [
    {
     "data": {
      "text/plain": [
       "AdaBoostClassifier(n_estimators=100)"
      ]
     },
     "execution_count": 11,
     "metadata": {},
     "output_type": "execute_result"
    }
   ],
   "source": [
    "# Adaboost Classifier\n",
    "from sklearn.ensemble import AdaBoostClassifier\n",
    "ada_model = AdaBoostClassifier(n_estimators=100)\n",
    "ada_model.fit(train_data_df[['BERT_Preds', 'CNN_Preds', 'T5_Preds']], train_data_df['Actuals'])"
   ]
  },
  {
   "cell_type": "code",
   "execution_count": 12,
   "metadata": {},
   "outputs": [
    {
     "data": {
      "text/plain": [
       "0.7186"
      ]
     },
     "execution_count": 12,
     "metadata": {},
     "output_type": "execute_result"
    }
   ],
   "source": [
    "ada_preds = ada_model.predict(test_data_df[['BERT_Preds', 'CNN_Preds', 'T5_Preds']])\n",
    "accuracy_score(test_data_df['Actuals'], ada_preds)"
   ]
  }
 ],
 "metadata": {
  "interpreter": {
   "hash": "022cd5b853211d81cd8e3dedb665bf335eaa864a65351045c593ce9c6ae48a6b"
  },
  "kernelspec": {
   "display_name": "Python 3.7.2 64-bit",
   "language": "python",
   "name": "python3"
  },
  "language_info": {
   "codemirror_mode": {
    "name": "ipython",
    "version": 3
   },
   "file_extension": ".py",
   "mimetype": "text/x-python",
   "name": "python",
   "nbconvert_exporter": "python",
   "pygments_lexer": "ipython3",
   "version": "3.7.2"
  },
  "orig_nbformat": 4
 },
 "nbformat": 4,
 "nbformat_minor": 2
}
